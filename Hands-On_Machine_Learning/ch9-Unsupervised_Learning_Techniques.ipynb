{
 "cells": [
  {
   "cell_type": "markdown",
   "id": "def4cf22",
   "metadata": {},
   "source": [
    "## Clustering Algorithms: k-means and DBSCAN"
   ]
  },
  {
   "cell_type": "markdown",
   "id": "e19f24b2",
   "metadata": {},
   "source": [
    "### k-means"
   ]
  },
  {
   "cell_type": "code",
   "execution_count": 1,
   "id": "59133fea",
   "metadata": {},
   "outputs": [],
   "source": [
    "from sklearn.cluster import KMeans\n",
    "from sklearn.datasets import make_blobs\n",
    "\n",
    "X, y = make_blobs()\n",
    "\n",
    "k = 5 \n",
    "kmeans = KMeans(n_clusters=k, random_state=42)\n",
    "y_pred = kmeans.fit_predict(X)"
   ]
  },
  {
   "cell_type": "code",
   "execution_count": 2,
   "id": "fecf704e",
   "metadata": {},
   "outputs": [
    {
     "data": {
      "text/plain": [
       "array([1, 4, 3, 1, 1, 2, 3, 1, 3, 3, 1, 3, 1, 4, 1, 0, 2, 0, 0, 2, 3, 3,\n",
       "       0, 0, 1, 3, 2, 4, 4, 0, 3, 4, 3, 3, 2, 0, 0, 3, 4, 4, 4, 2, 1, 3,\n",
       "       3, 2, 4, 0, 1, 4, 4, 4, 4, 2, 2, 3, 0, 1, 0, 1, 4, 0, 4, 3, 4, 3,\n",
       "       3, 2, 0, 3, 2, 0, 2, 2, 3, 4, 2, 2, 3, 1, 4, 4, 1, 2, 3, 1, 3, 0,\n",
       "       4, 2, 1, 3, 0, 2, 4, 3, 1, 3, 4, 3], dtype=int32)"
      ]
     },
     "execution_count": 2,
     "metadata": {},
     "output_type": "execute_result"
    }
   ],
   "source": [
    "y_pred"
   ]
  },
  {
   "cell_type": "code",
   "execution_count": 3,
   "id": "1df7e5cd",
   "metadata": {},
   "outputs": [
    {
     "data": {
      "text/plain": [
       "array([[-7.96256673,  5.23936128],\n",
       "       [-1.29342104, -1.60302729],\n",
       "       [-8.7033894 ,  6.82907789],\n",
       "       [ 0.54634645, -2.7186582 ],\n",
       "       [-2.83594001, -0.73738638]])"
      ]
     },
     "execution_count": 3,
     "metadata": {},
     "output_type": "execute_result"
    }
   ],
   "source": [
    "kmeans.cluster_centers_"
   ]
  },
  {
   "cell_type": "code",
   "execution_count": 4,
   "id": "5c223311",
   "metadata": {},
   "outputs": [
    {
     "data": {
      "text/plain": [
       "array([1, 3, 4, 4], dtype=int32)"
      ]
     },
     "execution_count": 4,
     "metadata": {},
     "output_type": "execute_result"
    }
   ],
   "source": [
    "import numpy as np\n",
    "X_new = np.array([[0,2], [3,2], [-3,3], [-3, 2.5]])\n",
    "kmeans.predict(X_new)"
   ]
  },
  {
   "cell_type": "code",
   "execution_count": 5,
   "id": "3d17cd17",
   "metadata": {},
   "outputs": [
    {
     "data": {
      "text/plain": [
       "array([[ 8.6 ,  3.83,  9.95,  4.75,  3.94],\n",
       "       [11.43,  5.6 , 12.66,  5.32,  6.45],\n",
       "       [ 5.44,  4.91,  6.87,  6.73,  3.74],\n",
       "       [ 5.67,  4.44,  7.16,  6.31,  3.24]])"
      ]
     },
     "execution_count": 5,
     "metadata": {},
     "output_type": "execute_result"
    }
   ],
   "source": [
    "kmeans.transform(X_new).round(2)"
   ]
  },
  {
   "cell_type": "markdown",
   "id": "7026518e",
   "metadata": {},
   "source": [
    "### Centroid initialization methods"
   ]
  },
  {
   "cell_type": "code",
   "execution_count": 6,
   "id": "22d7d550",
   "metadata": {},
   "outputs": [
    {
     "data": {
      "text/plain": [
       "KMeans(init=array([[-3,  3],\n",
       "       [-3,  2],\n",
       "       [-3,  1],\n",
       "       [-1,  2],\n",
       "       [ 0,  2]]),\n",
       "       n_clusters=5, n_init=1, random_state=42)"
      ]
     },
     "execution_count": 6,
     "metadata": {},
     "output_type": "execute_result"
    }
   ],
   "source": [
    "good_init = np.array([[-3, 3], [-3,2], [-3,1], [-1,2], [0,2]])\n",
    "kmeans = KMeans(n_clusters=5, init=good_init, n_init=1, random_state=42)\n",
    "kmeans.fit(X)"
   ]
  },
  {
   "cell_type": "code",
   "execution_count": 7,
   "id": "41c12731",
   "metadata": {},
   "outputs": [
    {
     "data": {
      "text/plain": [
       "116.5311909765365"
      ]
     },
     "execution_count": 7,
     "metadata": {},
     "output_type": "execute_result"
    }
   ],
   "source": [
    "kmeans.inertia_"
   ]
  },
  {
   "cell_type": "code",
   "execution_count": 8,
   "id": "2060d8a7",
   "metadata": {},
   "outputs": [
    {
     "data": {
      "text/plain": [
       "-116.5311909765365"
      ]
     },
     "execution_count": 8,
     "metadata": {},
     "output_type": "execute_result"
    }
   ],
   "source": [
    "kmeans.score(X)"
   ]
  },
  {
   "cell_type": "markdown",
   "id": "3a13cdfa",
   "metadata": {},
   "source": [
    "### Accelerated k-mans and mini-batch k-means"
   ]
  },
  {
   "cell_type": "code",
   "execution_count": 11,
   "id": "de2d1c31",
   "metadata": {},
   "outputs": [
    {
     "data": {
      "text/plain": [
       "MiniBatchKMeans(n_clusters=5, random_state=42)"
      ]
     },
     "execution_count": 11,
     "metadata": {},
     "output_type": "execute_result"
    }
   ],
   "source": [
    "from sklearn.cluster import MiniBatchKMeans\n",
    "\n",
    "minibatch_kmeans = MiniBatchKMeans(n_clusters=5, random_state=42)\n",
    "minibatch_kmeans.fit(X)"
   ]
  },
  {
   "cell_type": "code",
   "execution_count": 13,
   "id": "67e5f4a2",
   "metadata": {},
   "outputs": [
    {
     "data": {
      "text/plain": [
       "0.36728521742370396"
      ]
     },
     "execution_count": 13,
     "metadata": {},
     "output_type": "execute_result"
    }
   ],
   "source": [
    "from sklearn.metrics import silhouette_score\n",
    "silhouette_score(X, kmeans.labels_)"
   ]
  },
  {
   "cell_type": "markdown",
   "id": "26b5f243",
   "metadata": {},
   "source": [
    "### Using Clustering for Semi-Supervised Learning"
   ]
  },
  {
   "cell_type": "code",
   "execution_count": 15,
   "id": "8a57232c",
   "metadata": {},
   "outputs": [],
   "source": [
    "from sklearn.datasets import load_digits\n",
    "\n",
    "X_digits, y_digits = load_digits(return_X_y=True)\n",
    "X_train, y_train = X_digits[:1400], y_digits[:1400]\n",
    "X_test, y_test = X_digits[1400:], y_digits[1400:]"
   ]
  },
  {
   "cell_type": "code",
   "execution_count": 16,
   "id": "22facfdc",
   "metadata": {},
   "outputs": [
    {
     "data": {
      "text/plain": [
       "0.7481108312342569"
      ]
     },
     "execution_count": 16,
     "metadata": {},
     "output_type": "execute_result"
    }
   ],
   "source": [
    "# pretending we only have 50 labels\n",
    "from sklearn.linear_model import LogisticRegression\n",
    "\n",
    "n_labeled=50\n",
    "log_reg = LogisticRegression(max_iter=10_000)\n",
    "log_reg.fit(X_train[:n_labeled], y_train[:n_labeled])\n",
    "log_reg.score(X_test, y_test)"
   ]
  },
  {
   "cell_type": "code",
   "execution_count": 18,
   "id": "f13a3905",
   "metadata": {},
   "outputs": [],
   "source": [
    "k = 50\n",
    "kmeans = KMeans(n_clusters=k, random_state=42)\n",
    "X_digits_dist = kmeans.fit_transform(X_train)\n",
    "representative_digit_idx = np.argmin(X_digits_dist, axis=0)\n",
    "X_representative_digits = X_train[representative_digit_idx]"
   ]
  },
  {
   "cell_type": "code",
   "execution_count": 19,
   "id": "c34272d9",
   "metadata": {},
   "outputs": [],
   "source": [
    "y_representative_digits = np.array([1,3,6,0,7,9,2,4,8,9,5,4,7,1,2,6,8,2,5,1,\n",
    "                                    4,9,3,3,8,8,2,5,6,9,1,4,0,6,8,3,4,6,7,2,6,1,0,7,5,1,9,9,3,7])"
   ]
  },
  {
   "cell_type": "code",
   "execution_count": 23,
   "id": "cb52d8e3",
   "metadata": {},
   "outputs": [
    {
     "data": {
      "text/plain": [
       "0.8161209068010076"
      ]
     },
     "execution_count": 23,
     "metadata": {},
     "output_type": "execute_result"
    }
   ],
   "source": [
    "log_reg = LogisticRegression(max_iter=10_000)\n",
    "log_reg.fit(X_representative_digits, y_representative_digits)\n",
    "log_reg.score(X_test, y_test)"
   ]
  },
  {
   "cell_type": "code",
   "execution_count": 25,
   "id": "3839be86",
   "metadata": {},
   "outputs": [],
   "source": [
    "y_train_propegated = np.empty(len(X_train), dtype=np.int64)\n",
    "for i in range(k):\n",
    "    y_train_propegated[kmeans.labels_ == i] = y_representative_digits[i]"
   ]
  },
  {
   "cell_type": "code",
   "execution_count": 27,
   "id": "664452c4",
   "metadata": {},
   "outputs": [
    {
     "data": {
      "text/plain": [
       "0.8614609571788413"
      ]
     },
     "execution_count": 27,
     "metadata": {},
     "output_type": "execute_result"
    }
   ],
   "source": [
    "log_reg = LogisticRegression(max_iter = 10_000)\n",
    "log_reg.fit(X_train, y_train_propegated)\n",
    "log_reg.score(X_test, y_test)"
   ]
  },
  {
   "cell_type": "code",
   "execution_count": 31,
   "id": "a8c895b6",
   "metadata": {},
   "outputs": [],
   "source": [
    "percentile_closest = 99\n",
    "\n",
    "X_cluster_dist = X_digits_dist[np.arange(len(X_train)), kmeans.labels_]\n",
    "for i in range(k):\n",
    "    in_cluster = (kmeans.labels_==i)\n",
    "    cluster_dist = X_cluster_dist[in_cluster]\n",
    "    cutoff_distance = np.percentile(cluster_dist, percentile_closest)\n",
    "    above_cutoff = (X_cluster_dist > cutoff_distance)\n",
    "    X_cluster_dist[in_cluster & above_cutoff] = -1\n",
    "\n",
    "partially_propageted = (X_cluster_dist != -1)\n",
    "X_train_paritally_propegated = X_train[partially_propageted]\n",
    "y_train_partially_propegated = y_train_propegated[partially_propageted]"
   ]
  },
  {
   "cell_type": "code",
   "execution_count": 34,
   "id": "6be3ff22",
   "metadata": {},
   "outputs": [
    {
     "data": {
      "text/plain": [
       "0.871536523929471"
      ]
     },
     "execution_count": 34,
     "metadata": {},
     "output_type": "execute_result"
    }
   ],
   "source": [
    "log_reg = LogisticRegression(max_iter=10_000)\n",
    "log_reg.fit(X_train_paritally_propegated, y_train_partially_propegated)\n",
    "log_reg.score(X_test, y_test)"
   ]
  },
  {
   "cell_type": "code",
   "execution_count": 35,
   "id": "8e0a3cc2",
   "metadata": {},
   "outputs": [
    {
     "data": {
      "text/plain": [
       "1.0"
      ]
     },
     "execution_count": 35,
     "metadata": {},
     "output_type": "execute_result"
    }
   ],
   "source": [
    "(y_train_partially_propegated == y_train[y_train_partially_propegated]).mean()"
   ]
  },
  {
   "cell_type": "code",
   "execution_count": null,
   "id": "0b2241fc",
   "metadata": {},
   "outputs": [],
   "source": []
  }
 ],
 "metadata": {
  "kernelspec": {
   "display_name": "Python 3 (ipykernel)",
   "language": "python",
   "name": "python3"
  },
  "language_info": {
   "codemirror_mode": {
    "name": "ipython",
    "version": 3
   },
   "file_extension": ".py",
   "mimetype": "text/x-python",
   "name": "python",
   "nbconvert_exporter": "python",
   "pygments_lexer": "ipython3",
   "version": "3.9.12"
  }
 },
 "nbformat": 4,
 "nbformat_minor": 5
}

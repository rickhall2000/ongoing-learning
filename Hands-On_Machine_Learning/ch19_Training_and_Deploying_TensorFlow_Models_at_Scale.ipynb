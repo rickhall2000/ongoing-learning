{
 "cells": [
  {
   "cell_type": "markdown",
   "id": "6880bd5a",
   "metadata": {},
   "source": [
    "## Serving a TensorFlow Model"
   ]
  },
  {
   "cell_type": "code",
   "execution_count": 3,
   "id": "f55c15ab",
   "metadata": {},
   "outputs": [],
   "source": [
    "from pathlib import Path\n",
    "import tensorflow as tf\n",
    "\n",
    "def model_save_example():\n",
    "    X_train, X_valid, X_test = [...]\n",
    "    model = [...]\n",
    "\n",
    "    model_name = \"my_mnist_model\"\n",
    "    model_version = \"0001\"\n",
    "    model_path = Path(model_name) / model_version\n",
    "    model.save(model_path, save_format=\"tf\")"
   ]
  },
  {
   "cell_type": "markdown",
   "id": "0ebf6a4c",
   "metadata": {},
   "source": [
    "### Installing and starting TensorFlow Serving"
   ]
  },
  {
   "cell_type": "code",
   "execution_count": 4,
   "id": "a3a3a97e",
   "metadata": {},
   "outputs": [],
   "source": [
    "url = \"https://storage.googleapis.com/tensorflow-serving-apt\"\n",
    "src = \"stable tensorflow-model-server tesnforflow-model-server-universal\"\n",
    "# !echo 'deb {url} {src}' > /etc/apt/sources.list.d/tensorflow-serving.list\n",
    "# !apt update -q && apt-get install -y tensorflow-model-server\n",
    "# %pip install -q -U tensorflow-serving-api"
   ]
  },
  {
   "cell_type": "code",
   "execution_count": 5,
   "id": "960f6289",
   "metadata": {},
   "outputs": [],
   "source": [
    "import os\n",
    "\n",
    "#os.environ[\"MODEL_DIR\"] = str(model_path.parent.absolute())"
   ]
  },
  {
   "cell_type": "markdown",
   "id": "2623e1fa",
   "metadata": {},
   "source": [
    "### Querying TF Serving through the REST API"
   ]
  },
  {
   "cell_type": "code",
   "execution_count": 7,
   "id": "c01055bf",
   "metadata": {},
   "outputs": [],
   "source": [
    "import json\n",
    "\n",
    "def querying():\n",
    "    X_new = X_test[:3]\n",
    "    request_json = json.dumps({\n",
    "        \"signature_name\": \"serving_default\",\n",
    "        \"instances\": X_new.tolist(),\n",
    "    })"
   ]
  },
  {
   "cell_type": "code",
   "execution_count": 8,
   "id": "3898a954",
   "metadata": {},
   "outputs": [],
   "source": [
    "import requests\n",
    "\n",
    "def request_thunk():\n",
    "    server_url = \"http://localhost:8501/v1/models/my_mnist_model:prdict\"\n",
    "    response = requests.post(server_url, data=request_json)\n",
    "    response.raise_for_status()\n",
    "    response = response.json()"
   ]
  },
  {
   "cell_type": "markdown",
   "id": "7edaf271",
   "metadata": {},
   "source": [
    "## Enough\n",
    "I am getting tired of typing things that I can't run, so I am just going to read this chapter!"
   ]
  },
  {
   "cell_type": "code",
   "execution_count": null,
   "id": "a038c9fa",
   "metadata": {},
   "outputs": [],
   "source": []
  }
 ],
 "metadata": {
  "kernelspec": {
   "display_name": "Python 3 (ipykernel)",
   "language": "python",
   "name": "python3"
  },
  "language_info": {
   "codemirror_mode": {
    "name": "ipython",
    "version": 3
   },
   "file_extension": ".py",
   "mimetype": "text/x-python",
   "name": "python",
   "nbconvert_exporter": "python",
   "pygments_lexer": "ipython3",
   "version": "3.9.12"
  }
 },
 "nbformat": 4,
 "nbformat_minor": 5
}

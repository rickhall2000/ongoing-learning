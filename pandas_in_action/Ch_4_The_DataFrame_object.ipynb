{
 "cells": [
  {
   "cell_type": "code",
   "execution_count": 1,
   "id": "07662289",
   "metadata": {},
   "outputs": [],
   "source": [
    "import pandas as pd\n",
    "import numpy as np"
   ]
  },
  {
   "cell_type": "code",
   "execution_count": 2,
   "id": "751cc642",
   "metadata": {},
   "outputs": [
    {
     "data": {
      "text/html": [
       "<div>\n",
       "<style scoped>\n",
       "    .dataframe tbody tr th:only-of-type {\n",
       "        vertical-align: middle;\n",
       "    }\n",
       "\n",
       "    .dataframe tbody tr th {\n",
       "        vertical-align: top;\n",
       "    }\n",
       "\n",
       "    .dataframe thead th {\n",
       "        text-align: right;\n",
       "    }\n",
       "</style>\n",
       "<table border=\"1\" class=\"dataframe\">\n",
       "  <thead>\n",
       "    <tr style=\"text-align: right;\">\n",
       "      <th></th>\n",
       "      <th>City</th>\n",
       "      <th>Country</th>\n",
       "      <th>Population</th>\n",
       "    </tr>\n",
       "  </thead>\n",
       "  <tbody>\n",
       "    <tr>\n",
       "      <th>0</th>\n",
       "      <td>New York City</td>\n",
       "      <td>United States</td>\n",
       "      <td>8600000</td>\n",
       "    </tr>\n",
       "    <tr>\n",
       "      <th>1</th>\n",
       "      <td>Paris</td>\n",
       "      <td>France</td>\n",
       "      <td>2141000</td>\n",
       "    </tr>\n",
       "    <tr>\n",
       "      <th>2</th>\n",
       "      <td>Barcelona</td>\n",
       "      <td>Spain</td>\n",
       "      <td>551500</td>\n",
       "    </tr>\n",
       "    <tr>\n",
       "      <th>3</th>\n",
       "      <td>Rome</td>\n",
       "      <td>Italy</td>\n",
       "      <td>2873000</td>\n",
       "    </tr>\n",
       "    <tr>\n",
       "      <th>4</th>\n",
       "      <td>Atlanta</td>\n",
       "      <td>United States</td>\n",
       "      <td>6013000</td>\n",
       "    </tr>\n",
       "  </tbody>\n",
       "</table>\n",
       "</div>"
      ],
      "text/plain": [
       "            City        Country  Population\n",
       "0  New York City  United States     8600000\n",
       "1          Paris         France     2141000\n",
       "2      Barcelona          Spain      551500\n",
       "3           Rome          Italy     2873000\n",
       "4        Atlanta  United States     6013000"
      ]
     },
     "execution_count": 2,
     "metadata": {},
     "output_type": "execute_result"
    }
   ],
   "source": [
    "city_data = {\n",
    "    \"City\": [\"New York City\", \"Paris\", \"Barcelona\", \"Rome\", \"Atlanta\"],\n",
    "    \"Country\": [\"United States\", \"France\", \"Spain\", \"Italy\", \"United States\"],\n",
    "    \"Population\": [8600000, 2141000, 551500, 2873000, 6013000]\n",
    "}\n",
    "cities = pd.DataFrame(city_data)\n",
    "cities"
   ]
  },
  {
   "cell_type": "code",
   "execution_count": 3,
   "id": "cb1502ce",
   "metadata": {},
   "outputs": [
    {
     "data": {
      "text/html": [
       "<div>\n",
       "<style scoped>\n",
       "    .dataframe tbody tr th:only-of-type {\n",
       "        vertical-align: middle;\n",
       "    }\n",
       "\n",
       "    .dataframe tbody tr th {\n",
       "        vertical-align: top;\n",
       "    }\n",
       "\n",
       "    .dataframe thead th {\n",
       "        text-align: right;\n",
       "    }\n",
       "</style>\n",
       "<table border=\"1\" class=\"dataframe\">\n",
       "  <thead>\n",
       "    <tr style=\"text-align: right;\">\n",
       "      <th></th>\n",
       "      <th>0</th>\n",
       "      <th>1</th>\n",
       "      <th>2</th>\n",
       "      <th>3</th>\n",
       "      <th>4</th>\n",
       "    </tr>\n",
       "  </thead>\n",
       "  <tbody>\n",
       "    <tr>\n",
       "      <th>City</th>\n",
       "      <td>New York City</td>\n",
       "      <td>Paris</td>\n",
       "      <td>Barcelona</td>\n",
       "      <td>Rome</td>\n",
       "      <td>Atlanta</td>\n",
       "    </tr>\n",
       "    <tr>\n",
       "      <th>Country</th>\n",
       "      <td>United States</td>\n",
       "      <td>France</td>\n",
       "      <td>Spain</td>\n",
       "      <td>Italy</td>\n",
       "      <td>United States</td>\n",
       "    </tr>\n",
       "    <tr>\n",
       "      <th>Population</th>\n",
       "      <td>8600000</td>\n",
       "      <td>2141000</td>\n",
       "      <td>551500</td>\n",
       "      <td>2873000</td>\n",
       "      <td>6013000</td>\n",
       "    </tr>\n",
       "  </tbody>\n",
       "</table>\n",
       "</div>"
      ],
      "text/plain": [
       "                        0        1          2        3              4\n",
       "City        New York City    Paris  Barcelona     Rome        Atlanta\n",
       "Country     United States   France      Spain    Italy  United States\n",
       "Population        8600000  2141000     551500  2873000        6013000"
      ]
     },
     "execution_count": 3,
     "metadata": {},
     "output_type": "execute_result"
    }
   ],
   "source": [
    "cities.transpose()"
   ]
  },
  {
   "cell_type": "code",
   "execution_count": 4,
   "id": "44b32f02",
   "metadata": {},
   "outputs": [
    {
     "data": {
      "text/plain": [
       "array([[42, 61, 86, 11, 24],\n",
       "       [83,  3,  5, 25, 98],\n",
       "       [26, 76, 88, 11, 95]])"
      ]
     },
     "execution_count": 4,
     "metadata": {},
     "output_type": "execute_result"
    }
   ],
   "source": [
    "random_data = np.random.randint(1, 100, [3, 5])\n",
    "random_data"
   ]
  },
  {
   "cell_type": "code",
   "execution_count": 5,
   "id": "2fe4dfcc",
   "metadata": {},
   "outputs": [
    {
     "data": {
      "text/html": [
       "<div>\n",
       "<style scoped>\n",
       "    .dataframe tbody tr th:only-of-type {\n",
       "        vertical-align: middle;\n",
       "    }\n",
       "\n",
       "    .dataframe tbody tr th {\n",
       "        vertical-align: top;\n",
       "    }\n",
       "\n",
       "    .dataframe thead th {\n",
       "        text-align: right;\n",
       "    }\n",
       "</style>\n",
       "<table border=\"1\" class=\"dataframe\">\n",
       "  <thead>\n",
       "    <tr style=\"text-align: right;\">\n",
       "      <th></th>\n",
       "      <th>0</th>\n",
       "      <th>1</th>\n",
       "      <th>2</th>\n",
       "      <th>3</th>\n",
       "      <th>4</th>\n",
       "    </tr>\n",
       "  </thead>\n",
       "  <tbody>\n",
       "    <tr>\n",
       "      <th>0</th>\n",
       "      <td>42</td>\n",
       "      <td>61</td>\n",
       "      <td>86</td>\n",
       "      <td>11</td>\n",
       "      <td>24</td>\n",
       "    </tr>\n",
       "    <tr>\n",
       "      <th>1</th>\n",
       "      <td>83</td>\n",
       "      <td>3</td>\n",
       "      <td>5</td>\n",
       "      <td>25</td>\n",
       "      <td>98</td>\n",
       "    </tr>\n",
       "    <tr>\n",
       "      <th>2</th>\n",
       "      <td>26</td>\n",
       "      <td>76</td>\n",
       "      <td>88</td>\n",
       "      <td>11</td>\n",
       "      <td>95</td>\n",
       "    </tr>\n",
       "  </tbody>\n",
       "</table>\n",
       "</div>"
      ],
      "text/plain": [
       "    0   1   2   3   4\n",
       "0  42  61  86  11  24\n",
       "1  83   3   5  25  98\n",
       "2  26  76  88  11  95"
      ]
     },
     "execution_count": 5,
     "metadata": {},
     "output_type": "execute_result"
    }
   ],
   "source": [
    "pd.DataFrame(data = random_data)"
   ]
  },
  {
   "cell_type": "code",
   "execution_count": 6,
   "id": "be552f25",
   "metadata": {},
   "outputs": [
    {
     "data": {
      "text/html": [
       "<div>\n",
       "<style scoped>\n",
       "    .dataframe tbody tr th:only-of-type {\n",
       "        vertical-align: middle;\n",
       "    }\n",
       "\n",
       "    .dataframe tbody tr th {\n",
       "        vertical-align: top;\n",
       "    }\n",
       "\n",
       "    .dataframe thead th {\n",
       "        text-align: right;\n",
       "    }\n",
       "</style>\n",
       "<table border=\"1\" class=\"dataframe\">\n",
       "  <thead>\n",
       "    <tr style=\"text-align: right;\">\n",
       "      <th></th>\n",
       "      <th>0</th>\n",
       "      <th>1</th>\n",
       "      <th>2</th>\n",
       "      <th>3</th>\n",
       "      <th>4</th>\n",
       "    </tr>\n",
       "  </thead>\n",
       "  <tbody>\n",
       "    <tr>\n",
       "      <th>Morning</th>\n",
       "      <td>42</td>\n",
       "      <td>61</td>\n",
       "      <td>86</td>\n",
       "      <td>11</td>\n",
       "      <td>24</td>\n",
       "    </tr>\n",
       "    <tr>\n",
       "      <th>Noon</th>\n",
       "      <td>83</td>\n",
       "      <td>3</td>\n",
       "      <td>5</td>\n",
       "      <td>25</td>\n",
       "      <td>98</td>\n",
       "    </tr>\n",
       "    <tr>\n",
       "      <th>Night</th>\n",
       "      <td>26</td>\n",
       "      <td>76</td>\n",
       "      <td>88</td>\n",
       "      <td>11</td>\n",
       "      <td>95</td>\n",
       "    </tr>\n",
       "  </tbody>\n",
       "</table>\n",
       "</div>"
      ],
      "text/plain": [
       "          0   1   2   3   4\n",
       "Morning  42  61  86  11  24\n",
       "Noon     83   3   5  25  98\n",
       "Night    26  76  88  11  95"
      ]
     },
     "execution_count": 6,
     "metadata": {},
     "output_type": "execute_result"
    }
   ],
   "source": [
    "row_labels = [\"Morning\", \"Noon\", \"Night\"]\n",
    "temperatures = pd.DataFrame(data = random_data, index=row_labels)\n",
    "temperatures"
   ]
  },
  {
   "cell_type": "code",
   "execution_count": 7,
   "id": "29a57f2c",
   "metadata": {},
   "outputs": [
    {
     "data": {
      "text/html": [
       "<div>\n",
       "<style scoped>\n",
       "    .dataframe tbody tr th:only-of-type {\n",
       "        vertical-align: middle;\n",
       "    }\n",
       "\n",
       "    .dataframe tbody tr th {\n",
       "        vertical-align: top;\n",
       "    }\n",
       "\n",
       "    .dataframe thead th {\n",
       "        text-align: right;\n",
       "    }\n",
       "</style>\n",
       "<table border=\"1\" class=\"dataframe\">\n",
       "  <thead>\n",
       "    <tr style=\"text-align: right;\">\n",
       "      <th></th>\n",
       "      <th>Monday</th>\n",
       "      <th>Tuesday</th>\n",
       "      <th>Wednesday</th>\n",
       "      <th>Thursday</th>\n",
       "      <th>Friday</th>\n",
       "    </tr>\n",
       "  </thead>\n",
       "  <tbody>\n",
       "    <tr>\n",
       "      <th>Morning</th>\n",
       "      <td>42</td>\n",
       "      <td>61</td>\n",
       "      <td>86</td>\n",
       "      <td>11</td>\n",
       "      <td>24</td>\n",
       "    </tr>\n",
       "    <tr>\n",
       "      <th>Noon</th>\n",
       "      <td>83</td>\n",
       "      <td>3</td>\n",
       "      <td>5</td>\n",
       "      <td>25</td>\n",
       "      <td>98</td>\n",
       "    </tr>\n",
       "    <tr>\n",
       "      <th>Night</th>\n",
       "      <td>26</td>\n",
       "      <td>76</td>\n",
       "      <td>88</td>\n",
       "      <td>11</td>\n",
       "      <td>95</td>\n",
       "    </tr>\n",
       "  </tbody>\n",
       "</table>\n",
       "</div>"
      ],
      "text/plain": [
       "         Monday  Tuesday  Wednesday  Thursday  Friday\n",
       "Morning      42       61         86        11      24\n",
       "Noon         83        3          5        25      98\n",
       "Night        26       76         88        11      95"
      ]
     },
     "execution_count": 7,
     "metadata": {},
     "output_type": "execute_result"
    }
   ],
   "source": [
    "column_labels = (\n",
    "    \"Monday\",\n",
    "    \"Tuesday\", \n",
    "    \"Wednesday\",\n",
    "    \"Thursday\",\n",
    "    \"Friday\"\n",
    ")\n",
    "pd.DataFrame(\n",
    "    data = random_data,\n",
    "    index = row_labels,\n",
    "    columns = column_labels,\n",
    ")"
   ]
  },
  {
   "cell_type": "code",
   "execution_count": 8,
   "id": "d1fc44a6",
   "metadata": {},
   "outputs": [
    {
     "data": {
      "text/html": [
       "<div>\n",
       "<style scoped>\n",
       "    .dataframe tbody tr th:only-of-type {\n",
       "        vertical-align: middle;\n",
       "    }\n",
       "\n",
       "    .dataframe tbody tr th {\n",
       "        vertical-align: top;\n",
       "    }\n",
       "\n",
       "    .dataframe thead th {\n",
       "        text-align: right;\n",
       "    }\n",
       "</style>\n",
       "<table border=\"1\" class=\"dataframe\">\n",
       "  <thead>\n",
       "    <tr style=\"text-align: right;\">\n",
       "      <th></th>\n",
       "      <th>Monday</th>\n",
       "      <th>Tuesday</th>\n",
       "      <th>Wednesday</th>\n",
       "      <th>Tuesday</th>\n",
       "      <th>Friday</th>\n",
       "    </tr>\n",
       "  </thead>\n",
       "  <tbody>\n",
       "    <tr>\n",
       "      <th>Morning</th>\n",
       "      <td>42</td>\n",
       "      <td>61</td>\n",
       "      <td>86</td>\n",
       "      <td>11</td>\n",
       "      <td>24</td>\n",
       "    </tr>\n",
       "    <tr>\n",
       "      <th>Afternoon</th>\n",
       "      <td>83</td>\n",
       "      <td>3</td>\n",
       "      <td>5</td>\n",
       "      <td>25</td>\n",
       "      <td>98</td>\n",
       "    </tr>\n",
       "    <tr>\n",
       "      <th>Morning</th>\n",
       "      <td>26</td>\n",
       "      <td>76</td>\n",
       "      <td>88</td>\n",
       "      <td>11</td>\n",
       "      <td>95</td>\n",
       "    </tr>\n",
       "  </tbody>\n",
       "</table>\n",
       "</div>"
      ],
      "text/plain": [
       "           Monday  Tuesday  Wednesday  Tuesday  Friday\n",
       "Morning        42       61         86       11      24\n",
       "Afternoon      83        3          5       25      98\n",
       "Morning        26       76         88       11      95"
      ]
     },
     "execution_count": 8,
     "metadata": {},
     "output_type": "execute_result"
    }
   ],
   "source": [
    "row_labels = [\"Morning\", \"Afternoon\", \"Morning\"]\n",
    "column_labels = (\"Monday\", \"Tuesday\", \"Wednesday\", \"Tuesday\", \"Friday\")\n",
    "pd.DataFrame(\n",
    "    data = random_data,\n",
    "    index = row_labels,\n",
    "    columns = column_labels,\n",
    ")"
   ]
  },
  {
   "cell_type": "markdown",
   "id": "8c39620d",
   "metadata": {},
   "source": [
    "## Similiarities between Series and DataFrames"
   ]
  },
  {
   "cell_type": "code",
   "execution_count": 9,
   "id": "d3801655",
   "metadata": {},
   "outputs": [],
   "source": [
    "data_dir = \"../../pandas-in-action/chapter_04_the_dataframe_object/\"\n",
    "nba_file = data_dir + \"nba.csv\""
   ]
  },
  {
   "cell_type": "code",
   "execution_count": 10,
   "id": "2ab41a38",
   "metadata": {},
   "outputs": [
    {
     "data": {
      "text/html": [
       "<div>\n",
       "<style scoped>\n",
       "    .dataframe tbody tr th:only-of-type {\n",
       "        vertical-align: middle;\n",
       "    }\n",
       "\n",
       "    .dataframe tbody tr th {\n",
       "        vertical-align: top;\n",
       "    }\n",
       "\n",
       "    .dataframe thead th {\n",
       "        text-align: right;\n",
       "    }\n",
       "</style>\n",
       "<table border=\"1\" class=\"dataframe\">\n",
       "  <thead>\n",
       "    <tr style=\"text-align: right;\">\n",
       "      <th></th>\n",
       "      <th>Name</th>\n",
       "      <th>Team</th>\n",
       "      <th>Position</th>\n",
       "      <th>Birthday</th>\n",
       "      <th>Salary</th>\n",
       "    </tr>\n",
       "  </thead>\n",
       "  <tbody>\n",
       "    <tr>\n",
       "      <th>0</th>\n",
       "      <td>Shake Milton</td>\n",
       "      <td>Philadelphia 76ers</td>\n",
       "      <td>SG</td>\n",
       "      <td>9/26/96</td>\n",
       "      <td>1445697</td>\n",
       "    </tr>\n",
       "    <tr>\n",
       "      <th>1</th>\n",
       "      <td>Christian Wood</td>\n",
       "      <td>Detroit Pistons</td>\n",
       "      <td>PF</td>\n",
       "      <td>9/27/95</td>\n",
       "      <td>1645357</td>\n",
       "    </tr>\n",
       "    <tr>\n",
       "      <th>2</th>\n",
       "      <td>PJ Washington</td>\n",
       "      <td>Charlotte Hornets</td>\n",
       "      <td>PF</td>\n",
       "      <td>8/23/98</td>\n",
       "      <td>3831840</td>\n",
       "    </tr>\n",
       "    <tr>\n",
       "      <th>3</th>\n",
       "      <td>Derrick Rose</td>\n",
       "      <td>Detroit Pistons</td>\n",
       "      <td>PG</td>\n",
       "      <td>10/4/88</td>\n",
       "      <td>7317074</td>\n",
       "    </tr>\n",
       "    <tr>\n",
       "      <th>4</th>\n",
       "      <td>Marial Shayok</td>\n",
       "      <td>Philadelphia 76ers</td>\n",
       "      <td>G</td>\n",
       "      <td>7/26/95</td>\n",
       "      <td>79568</td>\n",
       "    </tr>\n",
       "    <tr>\n",
       "      <th>...</th>\n",
       "      <td>...</td>\n",
       "      <td>...</td>\n",
       "      <td>...</td>\n",
       "      <td>...</td>\n",
       "      <td>...</td>\n",
       "    </tr>\n",
       "    <tr>\n",
       "      <th>445</th>\n",
       "      <td>Austin Rivers</td>\n",
       "      <td>Houston Rockets</td>\n",
       "      <td>PG</td>\n",
       "      <td>8/1/92</td>\n",
       "      <td>2174310</td>\n",
       "    </tr>\n",
       "    <tr>\n",
       "      <th>446</th>\n",
       "      <td>Harry Giles</td>\n",
       "      <td>Sacramento Kings</td>\n",
       "      <td>PF</td>\n",
       "      <td>4/22/98</td>\n",
       "      <td>2578800</td>\n",
       "    </tr>\n",
       "    <tr>\n",
       "      <th>447</th>\n",
       "      <td>Robin Lopez</td>\n",
       "      <td>Milwaukee Bucks</td>\n",
       "      <td>C</td>\n",
       "      <td>4/1/88</td>\n",
       "      <td>4767000</td>\n",
       "    </tr>\n",
       "    <tr>\n",
       "      <th>448</th>\n",
       "      <td>Collin Sexton</td>\n",
       "      <td>Cleveland Cavaliers</td>\n",
       "      <td>PG</td>\n",
       "      <td>1/4/99</td>\n",
       "      <td>4764960</td>\n",
       "    </tr>\n",
       "    <tr>\n",
       "      <th>449</th>\n",
       "      <td>Ricky Rubio</td>\n",
       "      <td>Phoenix Suns</td>\n",
       "      <td>PG</td>\n",
       "      <td>10/21/90</td>\n",
       "      <td>16200000</td>\n",
       "    </tr>\n",
       "  </tbody>\n",
       "</table>\n",
       "<p>450 rows × 5 columns</p>\n",
       "</div>"
      ],
      "text/plain": [
       "               Name                 Team Position  Birthday    Salary\n",
       "0      Shake Milton   Philadelphia 76ers       SG   9/26/96   1445697\n",
       "1    Christian Wood      Detroit Pistons       PF   9/27/95   1645357\n",
       "2     PJ Washington    Charlotte Hornets       PF   8/23/98   3831840\n",
       "3      Derrick Rose      Detroit Pistons       PG   10/4/88   7317074\n",
       "4     Marial Shayok   Philadelphia 76ers        G   7/26/95     79568\n",
       "..              ...                  ...      ...       ...       ...\n",
       "445   Austin Rivers      Houston Rockets       PG    8/1/92   2174310\n",
       "446     Harry Giles     Sacramento Kings       PF   4/22/98   2578800\n",
       "447     Robin Lopez      Milwaukee Bucks        C    4/1/88   4767000\n",
       "448   Collin Sexton  Cleveland Cavaliers       PG    1/4/99   4764960\n",
       "449     Ricky Rubio         Phoenix Suns       PG  10/21/90  16200000\n",
       "\n",
       "[450 rows x 5 columns]"
      ]
     },
     "execution_count": 10,
     "metadata": {},
     "output_type": "execute_result"
    }
   ],
   "source": [
    "pd.read_csv(nba_file)"
   ]
  },
  {
   "cell_type": "code",
   "execution_count": 11,
   "id": "82572348",
   "metadata": {},
   "outputs": [
    {
     "data": {
      "text/html": [
       "<div>\n",
       "<style scoped>\n",
       "    .dataframe tbody tr th:only-of-type {\n",
       "        vertical-align: middle;\n",
       "    }\n",
       "\n",
       "    .dataframe tbody tr th {\n",
       "        vertical-align: top;\n",
       "    }\n",
       "\n",
       "    .dataframe thead th {\n",
       "        text-align: right;\n",
       "    }\n",
       "</style>\n",
       "<table border=\"1\" class=\"dataframe\">\n",
       "  <thead>\n",
       "    <tr style=\"text-align: right;\">\n",
       "      <th></th>\n",
       "      <th>Name</th>\n",
       "      <th>Team</th>\n",
       "      <th>Position</th>\n",
       "      <th>Birthday</th>\n",
       "      <th>Salary</th>\n",
       "    </tr>\n",
       "  </thead>\n",
       "  <tbody>\n",
       "    <tr>\n",
       "      <th>0</th>\n",
       "      <td>Shake Milton</td>\n",
       "      <td>Philadelphia 76ers</td>\n",
       "      <td>SG</td>\n",
       "      <td>1996-09-26</td>\n",
       "      <td>1445697</td>\n",
       "    </tr>\n",
       "    <tr>\n",
       "      <th>1</th>\n",
       "      <td>Christian Wood</td>\n",
       "      <td>Detroit Pistons</td>\n",
       "      <td>PF</td>\n",
       "      <td>1995-09-27</td>\n",
       "      <td>1645357</td>\n",
       "    </tr>\n",
       "    <tr>\n",
       "      <th>2</th>\n",
       "      <td>PJ Washington</td>\n",
       "      <td>Charlotte Hornets</td>\n",
       "      <td>PF</td>\n",
       "      <td>1998-08-23</td>\n",
       "      <td>3831840</td>\n",
       "    </tr>\n",
       "    <tr>\n",
       "      <th>3</th>\n",
       "      <td>Derrick Rose</td>\n",
       "      <td>Detroit Pistons</td>\n",
       "      <td>PG</td>\n",
       "      <td>1988-10-04</td>\n",
       "      <td>7317074</td>\n",
       "    </tr>\n",
       "    <tr>\n",
       "      <th>4</th>\n",
       "      <td>Marial Shayok</td>\n",
       "      <td>Philadelphia 76ers</td>\n",
       "      <td>G</td>\n",
       "      <td>1995-07-26</td>\n",
       "      <td>79568</td>\n",
       "    </tr>\n",
       "    <tr>\n",
       "      <th>...</th>\n",
       "      <td>...</td>\n",
       "      <td>...</td>\n",
       "      <td>...</td>\n",
       "      <td>...</td>\n",
       "      <td>...</td>\n",
       "    </tr>\n",
       "    <tr>\n",
       "      <th>445</th>\n",
       "      <td>Austin Rivers</td>\n",
       "      <td>Houston Rockets</td>\n",
       "      <td>PG</td>\n",
       "      <td>1992-08-01</td>\n",
       "      <td>2174310</td>\n",
       "    </tr>\n",
       "    <tr>\n",
       "      <th>446</th>\n",
       "      <td>Harry Giles</td>\n",
       "      <td>Sacramento Kings</td>\n",
       "      <td>PF</td>\n",
       "      <td>1998-04-22</td>\n",
       "      <td>2578800</td>\n",
       "    </tr>\n",
       "    <tr>\n",
       "      <th>447</th>\n",
       "      <td>Robin Lopez</td>\n",
       "      <td>Milwaukee Bucks</td>\n",
       "      <td>C</td>\n",
       "      <td>1988-04-01</td>\n",
       "      <td>4767000</td>\n",
       "    </tr>\n",
       "    <tr>\n",
       "      <th>448</th>\n",
       "      <td>Collin Sexton</td>\n",
       "      <td>Cleveland Cavaliers</td>\n",
       "      <td>PG</td>\n",
       "      <td>1999-01-04</td>\n",
       "      <td>4764960</td>\n",
       "    </tr>\n",
       "    <tr>\n",
       "      <th>449</th>\n",
       "      <td>Ricky Rubio</td>\n",
       "      <td>Phoenix Suns</td>\n",
       "      <td>PG</td>\n",
       "      <td>1990-10-21</td>\n",
       "      <td>16200000</td>\n",
       "    </tr>\n",
       "  </tbody>\n",
       "</table>\n",
       "<p>450 rows × 5 columns</p>\n",
       "</div>"
      ],
      "text/plain": [
       "               Name                 Team Position   Birthday    Salary\n",
       "0      Shake Milton   Philadelphia 76ers       SG 1996-09-26   1445697\n",
       "1    Christian Wood      Detroit Pistons       PF 1995-09-27   1645357\n",
       "2     PJ Washington    Charlotte Hornets       PF 1998-08-23   3831840\n",
       "3      Derrick Rose      Detroit Pistons       PG 1988-10-04   7317074\n",
       "4     Marial Shayok   Philadelphia 76ers        G 1995-07-26     79568\n",
       "..              ...                  ...      ...        ...       ...\n",
       "445   Austin Rivers      Houston Rockets       PG 1992-08-01   2174310\n",
       "446     Harry Giles     Sacramento Kings       PF 1998-04-22   2578800\n",
       "447     Robin Lopez      Milwaukee Bucks        C 1988-04-01   4767000\n",
       "448   Collin Sexton  Cleveland Cavaliers       PG 1999-01-04   4764960\n",
       "449     Ricky Rubio         Phoenix Suns       PG 1990-10-21  16200000\n",
       "\n",
       "[450 rows x 5 columns]"
      ]
     },
     "execution_count": 11,
     "metadata": {},
     "output_type": "execute_result"
    }
   ],
   "source": [
    "nba = pd.read_csv(nba_file, parse_dates = [\"Birthday\"])\n",
    "nba"
   ]
  },
  {
   "cell_type": "code",
   "execution_count": 12,
   "id": "bccdc6e6",
   "metadata": {},
   "outputs": [
    {
     "data": {
      "text/plain": [
       "dtype('int64')"
      ]
     },
     "execution_count": 12,
     "metadata": {},
     "output_type": "execute_result"
    }
   ],
   "source": [
    "pd.Series([1,2,3]).dtype"
   ]
  },
  {
   "cell_type": "code",
   "execution_count": 13,
   "id": "de39ffd6",
   "metadata": {},
   "outputs": [
    {
     "data": {
      "text/plain": [
       "Name                object\n",
       "Team                object\n",
       "Position            object\n",
       "Birthday    datetime64[ns]\n",
       "Salary               int64\n",
       "dtype: object"
      ]
     },
     "execution_count": 13,
     "metadata": {},
     "output_type": "execute_result"
    }
   ],
   "source": [
    "nba.dtypes"
   ]
  },
  {
   "cell_type": "code",
   "execution_count": 14,
   "id": "6febb699",
   "metadata": {},
   "outputs": [
    {
     "data": {
      "text/plain": [
       "object            3\n",
       "datetime64[ns]    1\n",
       "int64             1\n",
       "dtype: int64"
      ]
     },
     "execution_count": 14,
     "metadata": {},
     "output_type": "execute_result"
    }
   ],
   "source": [
    "nba.dtypes.value_counts()"
   ]
  },
  {
   "cell_type": "code",
   "execution_count": 15,
   "id": "ec7cb68a",
   "metadata": {},
   "outputs": [
    {
     "data": {
      "text/plain": [
       "RangeIndex(start=0, stop=450, step=1)"
      ]
     },
     "execution_count": 15,
     "metadata": {},
     "output_type": "execute_result"
    }
   ],
   "source": [
    "nba.index"
   ]
  },
  {
   "cell_type": "code",
   "execution_count": 16,
   "id": "9cbe5b6d",
   "metadata": {},
   "outputs": [
    {
     "data": {
      "text/plain": [
       "Index(['Name', 'Team', 'Position', 'Birthday', 'Salary'], dtype='object')"
      ]
     },
     "execution_count": 16,
     "metadata": {},
     "output_type": "execute_result"
    }
   ],
   "source": [
    "nba.columns"
   ]
  },
  {
   "cell_type": "code",
   "execution_count": 17,
   "id": "5356e787",
   "metadata": {},
   "outputs": [
    {
     "data": {
      "text/plain": [
       "2"
      ]
     },
     "execution_count": 17,
     "metadata": {},
     "output_type": "execute_result"
    }
   ],
   "source": [
    "nba.ndim"
   ]
  },
  {
   "cell_type": "code",
   "execution_count": 18,
   "id": "e71a7e7c",
   "metadata": {},
   "outputs": [
    {
     "data": {
      "text/plain": [
       "(450, 5)"
      ]
     },
     "execution_count": 18,
     "metadata": {},
     "output_type": "execute_result"
    }
   ],
   "source": [
    "nba.shape"
   ]
  },
  {
   "cell_type": "code",
   "execution_count": 19,
   "id": "6610e0b5",
   "metadata": {},
   "outputs": [
    {
     "data": {
      "text/plain": [
       "2250"
      ]
     },
     "execution_count": 19,
     "metadata": {},
     "output_type": "execute_result"
    }
   ],
   "source": [
    "nba.size"
   ]
  },
  {
   "cell_type": "code",
   "execution_count": 20,
   "id": "6e98e5eb",
   "metadata": {},
   "outputs": [
    {
     "data": {
      "text/plain": [
       "Name        450\n",
       "Team        450\n",
       "Position    450\n",
       "Birthday    450\n",
       "Salary      450\n",
       "dtype: int64"
      ]
     },
     "execution_count": 20,
     "metadata": {},
     "output_type": "execute_result"
    }
   ],
   "source": [
    "nba.count()"
   ]
  },
  {
   "cell_type": "code",
   "execution_count": 21,
   "id": "ad97f010",
   "metadata": {},
   "outputs": [
    {
     "data": {
      "text/plain": [
       "2250"
      ]
     },
     "execution_count": 21,
     "metadata": {},
     "output_type": "execute_result"
    }
   ],
   "source": [
    "nba.count().sum()"
   ]
  },
  {
   "cell_type": "code",
   "execution_count": 22,
   "id": "956cfae0",
   "metadata": {},
   "outputs": [
    {
     "data": {
      "text/html": [
       "<div>\n",
       "<style scoped>\n",
       "    .dataframe tbody tr th:only-of-type {\n",
       "        vertical-align: middle;\n",
       "    }\n",
       "\n",
       "    .dataframe tbody tr th {\n",
       "        vertical-align: top;\n",
       "    }\n",
       "\n",
       "    .dataframe thead th {\n",
       "        text-align: right;\n",
       "    }\n",
       "</style>\n",
       "<table border=\"1\" class=\"dataframe\">\n",
       "  <thead>\n",
       "    <tr style=\"text-align: right;\">\n",
       "      <th></th>\n",
       "      <th>A</th>\n",
       "      <th>B</th>\n",
       "    </tr>\n",
       "  </thead>\n",
       "  <tbody>\n",
       "    <tr>\n",
       "      <th>0</th>\n",
       "      <td>1.0</td>\n",
       "      <td>2</td>\n",
       "    </tr>\n",
       "    <tr>\n",
       "      <th>1</th>\n",
       "      <td>NaN</td>\n",
       "      <td>3</td>\n",
       "    </tr>\n",
       "  </tbody>\n",
       "</table>\n",
       "</div>"
      ],
      "text/plain": [
       "     A  B\n",
       "0  1.0  2\n",
       "1  NaN  3"
      ]
     },
     "execution_count": 22,
     "metadata": {},
     "output_type": "execute_result"
    }
   ],
   "source": [
    "data = {\n",
    "    \"A\": [1, np.nan],\n",
    "    \"B\": [2, 3]\n",
    "}\n",
    "df = pd.DataFrame(data)\n",
    "df"
   ]
  },
  {
   "cell_type": "code",
   "execution_count": 23,
   "id": "0412d4a1",
   "metadata": {},
   "outputs": [
    {
     "data": {
      "text/plain": [
       "4"
      ]
     },
     "execution_count": 23,
     "metadata": {},
     "output_type": "execute_result"
    }
   ],
   "source": [
    "df.size"
   ]
  },
  {
   "cell_type": "code",
   "execution_count": 24,
   "id": "c4a7b95c",
   "metadata": {},
   "outputs": [
    {
     "data": {
      "text/plain": [
       "A    1\n",
       "B    2\n",
       "dtype: int64"
      ]
     },
     "execution_count": 24,
     "metadata": {},
     "output_type": "execute_result"
    }
   ],
   "source": [
    "df.count()"
   ]
  },
  {
   "cell_type": "code",
   "execution_count": 25,
   "id": "57585941",
   "metadata": {},
   "outputs": [
    {
     "data": {
      "text/plain": [
       "3"
      ]
     },
     "execution_count": 25,
     "metadata": {},
     "output_type": "execute_result"
    }
   ],
   "source": [
    "df.count().sum()"
   ]
  },
  {
   "cell_type": "code",
   "execution_count": 26,
   "id": "76c8aace",
   "metadata": {},
   "outputs": [
    {
     "data": {
      "text/html": [
       "<div>\n",
       "<style scoped>\n",
       "    .dataframe tbody tr th:only-of-type {\n",
       "        vertical-align: middle;\n",
       "    }\n",
       "\n",
       "    .dataframe tbody tr th {\n",
       "        vertical-align: top;\n",
       "    }\n",
       "\n",
       "    .dataframe thead th {\n",
       "        text-align: right;\n",
       "    }\n",
       "</style>\n",
       "<table border=\"1\" class=\"dataframe\">\n",
       "  <thead>\n",
       "    <tr style=\"text-align: right;\">\n",
       "      <th></th>\n",
       "      <th>Name</th>\n",
       "      <th>Team</th>\n",
       "      <th>Position</th>\n",
       "      <th>Birthday</th>\n",
       "      <th>Salary</th>\n",
       "    </tr>\n",
       "  </thead>\n",
       "  <tbody>\n",
       "    <tr>\n",
       "      <th>0</th>\n",
       "      <td>Shake Milton</td>\n",
       "      <td>Philadelphia 76ers</td>\n",
       "      <td>SG</td>\n",
       "      <td>1996-09-26</td>\n",
       "      <td>1445697</td>\n",
       "    </tr>\n",
       "    <tr>\n",
       "      <th>1</th>\n",
       "      <td>Christian Wood</td>\n",
       "      <td>Detroit Pistons</td>\n",
       "      <td>PF</td>\n",
       "      <td>1995-09-27</td>\n",
       "      <td>1645357</td>\n",
       "    </tr>\n",
       "  </tbody>\n",
       "</table>\n",
       "</div>"
      ],
      "text/plain": [
       "             Name                Team Position   Birthday   Salary\n",
       "0    Shake Milton  Philadelphia 76ers       SG 1996-09-26  1445697\n",
       "1  Christian Wood     Detroit Pistons       PF 1995-09-27  1645357"
      ]
     },
     "execution_count": 26,
     "metadata": {},
     "output_type": "execute_result"
    }
   ],
   "source": [
    "nba.head(2)"
   ]
  },
  {
   "cell_type": "code",
   "execution_count": 27,
   "id": "56928d5d",
   "metadata": {},
   "outputs": [
    {
     "data": {
      "text/html": [
       "<div>\n",
       "<style scoped>\n",
       "    .dataframe tbody tr th:only-of-type {\n",
       "        vertical-align: middle;\n",
       "    }\n",
       "\n",
       "    .dataframe tbody tr th {\n",
       "        vertical-align: top;\n",
       "    }\n",
       "\n",
       "    .dataframe thead th {\n",
       "        text-align: right;\n",
       "    }\n",
       "</style>\n",
       "<table border=\"1\" class=\"dataframe\">\n",
       "  <thead>\n",
       "    <tr style=\"text-align: right;\">\n",
       "      <th></th>\n",
       "      <th>Name</th>\n",
       "      <th>Team</th>\n",
       "      <th>Position</th>\n",
       "      <th>Birthday</th>\n",
       "      <th>Salary</th>\n",
       "    </tr>\n",
       "  </thead>\n",
       "  <tbody>\n",
       "    <tr>\n",
       "      <th>447</th>\n",
       "      <td>Robin Lopez</td>\n",
       "      <td>Milwaukee Bucks</td>\n",
       "      <td>C</td>\n",
       "      <td>1988-04-01</td>\n",
       "      <td>4767000</td>\n",
       "    </tr>\n",
       "    <tr>\n",
       "      <th>448</th>\n",
       "      <td>Collin Sexton</td>\n",
       "      <td>Cleveland Cavaliers</td>\n",
       "      <td>PG</td>\n",
       "      <td>1999-01-04</td>\n",
       "      <td>4764960</td>\n",
       "    </tr>\n",
       "    <tr>\n",
       "      <th>449</th>\n",
       "      <td>Ricky Rubio</td>\n",
       "      <td>Phoenix Suns</td>\n",
       "      <td>PG</td>\n",
       "      <td>1990-10-21</td>\n",
       "      <td>16200000</td>\n",
       "    </tr>\n",
       "  </tbody>\n",
       "</table>\n",
       "</div>"
      ],
      "text/plain": [
       "              Name                 Team Position   Birthday    Salary\n",
       "447    Robin Lopez      Milwaukee Bucks        C 1988-04-01   4767000\n",
       "448  Collin Sexton  Cleveland Cavaliers       PG 1999-01-04   4764960\n",
       "449    Ricky Rubio         Phoenix Suns       PG 1990-10-21  16200000"
      ]
     },
     "execution_count": 27,
     "metadata": {},
     "output_type": "execute_result"
    }
   ],
   "source": [
    "nba.tail(n = 3)"
   ]
  },
  {
   "cell_type": "code",
   "execution_count": 28,
   "id": "84de9869",
   "metadata": {},
   "outputs": [
    {
     "data": {
      "text/html": [
       "<div>\n",
       "<style scoped>\n",
       "    .dataframe tbody tr th:only-of-type {\n",
       "        vertical-align: middle;\n",
       "    }\n",
       "\n",
       "    .dataframe tbody tr th {\n",
       "        vertical-align: top;\n",
       "    }\n",
       "\n",
       "    .dataframe thead th {\n",
       "        text-align: right;\n",
       "    }\n",
       "</style>\n",
       "<table border=\"1\" class=\"dataframe\">\n",
       "  <thead>\n",
       "    <tr style=\"text-align: right;\">\n",
       "      <th></th>\n",
       "      <th>Name</th>\n",
       "      <th>Team</th>\n",
       "      <th>Position</th>\n",
       "      <th>Birthday</th>\n",
       "      <th>Salary</th>\n",
       "    </tr>\n",
       "  </thead>\n",
       "  <tbody>\n",
       "    <tr>\n",
       "      <th>230</th>\n",
       "      <td>Khris Middleton</td>\n",
       "      <td>Milwaukee Bucks</td>\n",
       "      <td>SF</td>\n",
       "      <td>1991-08-12</td>\n",
       "      <td>30603448</td>\n",
       "    </tr>\n",
       "    <tr>\n",
       "      <th>227</th>\n",
       "      <td>Amir Coffey</td>\n",
       "      <td>Los Angeles Clippers</td>\n",
       "      <td>G</td>\n",
       "      <td>1997-06-17</td>\n",
       "      <td>79568</td>\n",
       "    </tr>\n",
       "    <tr>\n",
       "      <th>225</th>\n",
       "      <td>Tomas Satoransky</td>\n",
       "      <td>Chicago Bulls</td>\n",
       "      <td>PG</td>\n",
       "      <td>1991-10-30</td>\n",
       "      <td>10000000</td>\n",
       "    </tr>\n",
       "  </tbody>\n",
       "</table>\n",
       "</div>"
      ],
      "text/plain": [
       "                 Name                  Team Position   Birthday    Salary\n",
       "230   Khris Middleton       Milwaukee Bucks       SF 1991-08-12  30603448\n",
       "227       Amir Coffey  Los Angeles Clippers        G 1997-06-17     79568\n",
       "225  Tomas Satoransky         Chicago Bulls       PG 1991-10-30  10000000"
      ]
     },
     "execution_count": 28,
     "metadata": {},
     "output_type": "execute_result"
    }
   ],
   "source": [
    "nba.sample(3)"
   ]
  },
  {
   "cell_type": "code",
   "execution_count": 29,
   "id": "2e4706b5",
   "metadata": {},
   "outputs": [
    {
     "data": {
      "text/plain": [
       "Name        450\n",
       "Team         30\n",
       "Position      9\n",
       "Birthday    430\n",
       "Salary      269\n",
       "dtype: int64"
      ]
     },
     "execution_count": 29,
     "metadata": {},
     "output_type": "execute_result"
    }
   ],
   "source": [
    "nba.nunique()"
   ]
  },
  {
   "cell_type": "code",
   "execution_count": 30,
   "id": "1c9af54e",
   "metadata": {},
   "outputs": [
    {
     "data": {
      "text/plain": [
       "Name             Zylan Cheatham\n",
       "Team         Washington Wizards\n",
       "Position                     SG\n",
       "Birthday    2000-12-23 00:00:00\n",
       "Salary                 40231758\n",
       "dtype: object"
      ]
     },
     "execution_count": 30,
     "metadata": {},
     "output_type": "execute_result"
    }
   ],
   "source": [
    "nba.max()"
   ]
  },
  {
   "cell_type": "code",
   "execution_count": 31,
   "id": "51b16042",
   "metadata": {},
   "outputs": [
    {
     "data": {
      "text/plain": [
       "Name               Aaron Gordon\n",
       "Team              Atlanta Hawks\n",
       "Position                      C\n",
       "Birthday    1977-01-26 00:00:00\n",
       "Salary                    79568\n",
       "dtype: object"
      ]
     },
     "execution_count": 31,
     "metadata": {},
     "output_type": "execute_result"
    }
   ],
   "source": [
    "nba.min()"
   ]
  },
  {
   "cell_type": "code",
   "execution_count": 32,
   "id": "a7baea60",
   "metadata": {},
   "outputs": [
    {
     "data": {
      "text/html": [
       "<div>\n",
       "<style scoped>\n",
       "    .dataframe tbody tr th:only-of-type {\n",
       "        vertical-align: middle;\n",
       "    }\n",
       "\n",
       "    .dataframe tbody tr th {\n",
       "        vertical-align: top;\n",
       "    }\n",
       "\n",
       "    .dataframe thead th {\n",
       "        text-align: right;\n",
       "    }\n",
       "</style>\n",
       "<table border=\"1\" class=\"dataframe\">\n",
       "  <thead>\n",
       "    <tr style=\"text-align: right;\">\n",
       "      <th></th>\n",
       "      <th>Name</th>\n",
       "      <th>Team</th>\n",
       "      <th>Position</th>\n",
       "      <th>Birthday</th>\n",
       "      <th>Salary</th>\n",
       "    </tr>\n",
       "  </thead>\n",
       "  <tbody>\n",
       "    <tr>\n",
       "      <th>205</th>\n",
       "      <td>Stephen Curry</td>\n",
       "      <td>Golden State Warriors</td>\n",
       "      <td>PG</td>\n",
       "      <td>1988-03-14</td>\n",
       "      <td>40231758</td>\n",
       "    </tr>\n",
       "    <tr>\n",
       "      <th>38</th>\n",
       "      <td>Chris Paul</td>\n",
       "      <td>Oklahoma City Thunder</td>\n",
       "      <td>PG</td>\n",
       "      <td>1985-05-06</td>\n",
       "      <td>38506482</td>\n",
       "    </tr>\n",
       "    <tr>\n",
       "      <th>219</th>\n",
       "      <td>Russell Westbrook</td>\n",
       "      <td>Houston Rockets</td>\n",
       "      <td>PG</td>\n",
       "      <td>1988-11-12</td>\n",
       "      <td>38506482</td>\n",
       "    </tr>\n",
       "    <tr>\n",
       "      <th>251</th>\n",
       "      <td>John Wall</td>\n",
       "      <td>Washington Wizards</td>\n",
       "      <td>PG</td>\n",
       "      <td>1990-09-06</td>\n",
       "      <td>38199000</td>\n",
       "    </tr>\n",
       "  </tbody>\n",
       "</table>\n",
       "</div>"
      ],
      "text/plain": [
       "                  Name                   Team Position   Birthday    Salary\n",
       "205      Stephen Curry  Golden State Warriors       PG 1988-03-14  40231758\n",
       "38          Chris Paul  Oklahoma City Thunder       PG 1985-05-06  38506482\n",
       "219  Russell Westbrook        Houston Rockets       PG 1988-11-12  38506482\n",
       "251          John Wall     Washington Wizards       PG 1990-09-06  38199000"
      ]
     },
     "execution_count": 32,
     "metadata": {},
     "output_type": "execute_result"
    }
   ],
   "source": [
    "nba.nlargest(n = 4, columns=\"Salary\")"
   ]
  },
  {
   "cell_type": "code",
   "execution_count": 33,
   "id": "3369f35d",
   "metadata": {},
   "outputs": [
    {
     "data": {
      "text/html": [
       "<div>\n",
       "<style scoped>\n",
       "    .dataframe tbody tr th:only-of-type {\n",
       "        vertical-align: middle;\n",
       "    }\n",
       "\n",
       "    .dataframe tbody tr th {\n",
       "        vertical-align: top;\n",
       "    }\n",
       "\n",
       "    .dataframe thead th {\n",
       "        text-align: right;\n",
       "    }\n",
       "</style>\n",
       "<table border=\"1\" class=\"dataframe\">\n",
       "  <thead>\n",
       "    <tr style=\"text-align: right;\">\n",
       "      <th></th>\n",
       "      <th>Name</th>\n",
       "      <th>Team</th>\n",
       "      <th>Position</th>\n",
       "      <th>Birthday</th>\n",
       "      <th>Salary</th>\n",
       "    </tr>\n",
       "  </thead>\n",
       "  <tbody>\n",
       "    <tr>\n",
       "      <th>98</th>\n",
       "      <td>Vince Carter</td>\n",
       "      <td>Atlanta Hawks</td>\n",
       "      <td>PF</td>\n",
       "      <td>1977-01-26</td>\n",
       "      <td>2564753</td>\n",
       "    </tr>\n",
       "    <tr>\n",
       "      <th>196</th>\n",
       "      <td>Udonis Haslem</td>\n",
       "      <td>Miami Heat</td>\n",
       "      <td>C</td>\n",
       "      <td>1980-06-09</td>\n",
       "      <td>2564753</td>\n",
       "    </tr>\n",
       "    <tr>\n",
       "      <th>262</th>\n",
       "      <td>Kyle Korver</td>\n",
       "      <td>Milwaukee Bucks</td>\n",
       "      <td>PF</td>\n",
       "      <td>1981-03-17</td>\n",
       "      <td>6004753</td>\n",
       "    </tr>\n",
       "    <tr>\n",
       "      <th>149</th>\n",
       "      <td>Tyson Chandler</td>\n",
       "      <td>Houston Rockets</td>\n",
       "      <td>C</td>\n",
       "      <td>1982-10-02</td>\n",
       "      <td>2564753</td>\n",
       "    </tr>\n",
       "    <tr>\n",
       "      <th>415</th>\n",
       "      <td>Andre Iguodala</td>\n",
       "      <td>Memphis Grizzlies</td>\n",
       "      <td>SF</td>\n",
       "      <td>1984-01-28</td>\n",
       "      <td>17185185</td>\n",
       "    </tr>\n",
       "  </tbody>\n",
       "</table>\n",
       "</div>"
      ],
      "text/plain": [
       "               Name               Team Position   Birthday    Salary\n",
       "98     Vince Carter      Atlanta Hawks       PF 1977-01-26   2564753\n",
       "196   Udonis Haslem         Miami Heat        C 1980-06-09   2564753\n",
       "262     Kyle Korver    Milwaukee Bucks       PF 1981-03-17   6004753\n",
       "149  Tyson Chandler    Houston Rockets        C 1982-10-02   2564753\n",
       "415  Andre Iguodala  Memphis Grizzlies       SF 1984-01-28  17185185"
      ]
     },
     "execution_count": 33,
     "metadata": {},
     "output_type": "execute_result"
    }
   ],
   "source": [
    "nba.nsmallest(n=5, columns=\"Birthday\")"
   ]
  },
  {
   "cell_type": "code",
   "execution_count": 34,
   "id": "7e8fe961",
   "metadata": {},
   "outputs": [
    {
     "name": "stderr",
     "output_type": "stream",
     "text": [
      "/var/folders/c1/2ltzp02n15z_6jjqlpm151gc0000gn/T/ipykernel_74090/1629379923.py:1: FutureWarning: Dropping of nuisance columns in DataFrame reductions (with 'numeric_only=None') is deprecated; in a future version this will raise TypeError.  Select only valid columns before calling the reduction.\n",
      "  nba.sum()\n"
     ]
    },
    {
     "data": {
      "text/plain": [
       "Name        Shake MiltonChristian WoodPJ WashingtonDerrick...\n",
       "Team        Philadelphia 76ersDetroit PistonsCharlotte Hor...\n",
       "Position    SGPFPFPGGPFSGSFCSFPGPGFCPGSGPFCCPFPFSGPFPGSGSF...\n",
       "Salary                                             3444112694\n",
       "dtype: object"
      ]
     },
     "execution_count": 34,
     "metadata": {},
     "output_type": "execute_result"
    }
   ],
   "source": [
    "nba.sum()"
   ]
  },
  {
   "cell_type": "code",
   "execution_count": 35,
   "id": "aebd5c2b",
   "metadata": {},
   "outputs": [
    {
     "data": {
      "text/plain": [
       "Salary    7.653584e+06\n",
       "dtype: float64"
      ]
     },
     "execution_count": 35,
     "metadata": {},
     "output_type": "execute_result"
    }
   ],
   "source": [
    "nba.mean(numeric_only=True)"
   ]
  },
  {
   "cell_type": "code",
   "execution_count": 36,
   "id": "826c0f41",
   "metadata": {},
   "outputs": [
    {
     "data": {
      "text/plain": [
       "Salary    3303074.5\n",
       "dtype: float64"
      ]
     },
     "execution_count": 36,
     "metadata": {},
     "output_type": "execute_result"
    }
   ],
   "source": [
    "nba.median(numeric_only = True)"
   ]
  },
  {
   "cell_type": "code",
   "execution_count": 37,
   "id": "ec6bcbf4",
   "metadata": {},
   "outputs": [
    {
     "name": "stdout",
     "output_type": "stream",
     "text": [
      "Salary    7.653584e+06\n",
      "dtype: float64 Salary    9.288810e+06\n",
      "dtype: float64\n"
     ]
    }
   ],
   "source": [
    "print(nba.mean(numeric_only=True), nba.std(numeric_only=True))"
   ]
  },
  {
   "cell_type": "markdown",
   "id": "00a7771e",
   "metadata": {},
   "source": [
    "## Sorting a DataFrame"
   ]
  },
  {
   "cell_type": "code",
   "execution_count": 38,
   "id": "b5d271cc",
   "metadata": {},
   "outputs": [
    {
     "data": {
      "text/html": [
       "<div>\n",
       "<style scoped>\n",
       "    .dataframe tbody tr th:only-of-type {\n",
       "        vertical-align: middle;\n",
       "    }\n",
       "\n",
       "    .dataframe tbody tr th {\n",
       "        vertical-align: top;\n",
       "    }\n",
       "\n",
       "    .dataframe thead th {\n",
       "        text-align: right;\n",
       "    }\n",
       "</style>\n",
       "<table border=\"1\" class=\"dataframe\">\n",
       "  <thead>\n",
       "    <tr style=\"text-align: right;\">\n",
       "      <th></th>\n",
       "      <th>Name</th>\n",
       "      <th>Team</th>\n",
       "      <th>Position</th>\n",
       "      <th>Birthday</th>\n",
       "      <th>Salary</th>\n",
       "    </tr>\n",
       "  </thead>\n",
       "  <tbody>\n",
       "    <tr>\n",
       "      <th>52</th>\n",
       "      <td>Aaron Gordon</td>\n",
       "      <td>Orlando Magic</td>\n",
       "      <td>PF</td>\n",
       "      <td>1995-09-16</td>\n",
       "      <td>19863636</td>\n",
       "    </tr>\n",
       "    <tr>\n",
       "      <th>101</th>\n",
       "      <td>Aaron Holiday</td>\n",
       "      <td>Indiana Pacers</td>\n",
       "      <td>PG</td>\n",
       "      <td>1996-09-30</td>\n",
       "      <td>2239200</td>\n",
       "    </tr>\n",
       "    <tr>\n",
       "      <th>437</th>\n",
       "      <td>Abdel Nader</td>\n",
       "      <td>Oklahoma City Thunder</td>\n",
       "      <td>SF</td>\n",
       "      <td>1993-09-25</td>\n",
       "      <td>1618520</td>\n",
       "    </tr>\n",
       "    <tr>\n",
       "      <th>81</th>\n",
       "      <td>Adam Mokoka</td>\n",
       "      <td>Chicago Bulls</td>\n",
       "      <td>G</td>\n",
       "      <td>1998-07-18</td>\n",
       "      <td>79568</td>\n",
       "    </tr>\n",
       "    <tr>\n",
       "      <th>399</th>\n",
       "      <td>Admiral Schofield</td>\n",
       "      <td>Washington Wizards</td>\n",
       "      <td>SF</td>\n",
       "      <td>1997-03-30</td>\n",
       "      <td>1000000</td>\n",
       "    </tr>\n",
       "    <tr>\n",
       "      <th>...</th>\n",
       "      <td>...</td>\n",
       "      <td>...</td>\n",
       "      <td>...</td>\n",
       "      <td>...</td>\n",
       "      <td>...</td>\n",
       "    </tr>\n",
       "    <tr>\n",
       "      <th>159</th>\n",
       "      <td>Zach LaVine</td>\n",
       "      <td>Chicago Bulls</td>\n",
       "      <td>PG</td>\n",
       "      <td>1995-03-10</td>\n",
       "      <td>19500000</td>\n",
       "    </tr>\n",
       "    <tr>\n",
       "      <th>302</th>\n",
       "      <td>Zach Norvell</td>\n",
       "      <td>Los Angeles Lakers</td>\n",
       "      <td>SG</td>\n",
       "      <td>1997-12-09</td>\n",
       "      <td>79568</td>\n",
       "    </tr>\n",
       "    <tr>\n",
       "      <th>312</th>\n",
       "      <td>Zhaire Smith</td>\n",
       "      <td>Philadelphia 76ers</td>\n",
       "      <td>SG</td>\n",
       "      <td>1999-06-04</td>\n",
       "      <td>3058800</td>\n",
       "    </tr>\n",
       "    <tr>\n",
       "      <th>137</th>\n",
       "      <td>Zion Williamson</td>\n",
       "      <td>New Orleans Pelicans</td>\n",
       "      <td>F</td>\n",
       "      <td>2000-07-06</td>\n",
       "      <td>9757440</td>\n",
       "    </tr>\n",
       "    <tr>\n",
       "      <th>248</th>\n",
       "      <td>Zylan Cheatham</td>\n",
       "      <td>New Orleans Pelicans</td>\n",
       "      <td>SF</td>\n",
       "      <td>1995-11-17</td>\n",
       "      <td>79568</td>\n",
       "    </tr>\n",
       "  </tbody>\n",
       "</table>\n",
       "<p>450 rows × 5 columns</p>\n",
       "</div>"
      ],
      "text/plain": [
       "                  Name                   Team Position   Birthday    Salary\n",
       "52        Aaron Gordon          Orlando Magic       PF 1995-09-16  19863636\n",
       "101      Aaron Holiday         Indiana Pacers       PG 1996-09-30   2239200\n",
       "437        Abdel Nader  Oklahoma City Thunder       SF 1993-09-25   1618520\n",
       "81         Adam Mokoka          Chicago Bulls        G 1998-07-18     79568\n",
       "399  Admiral Schofield     Washington Wizards       SF 1997-03-30   1000000\n",
       "..                 ...                    ...      ...        ...       ...\n",
       "159        Zach LaVine          Chicago Bulls       PG 1995-03-10  19500000\n",
       "302       Zach Norvell     Los Angeles Lakers       SG 1997-12-09     79568\n",
       "312       Zhaire Smith     Philadelphia 76ers       SG 1999-06-04   3058800\n",
       "137    Zion Williamson   New Orleans Pelicans        F 2000-07-06   9757440\n",
       "248     Zylan Cheatham   New Orleans Pelicans       SF 1995-11-17     79568\n",
       "\n",
       "[450 rows x 5 columns]"
      ]
     },
     "execution_count": 38,
     "metadata": {},
     "output_type": "execute_result"
    }
   ],
   "source": [
    "nba.sort_values(by=\"Name\")"
   ]
  },
  {
   "cell_type": "code",
   "execution_count": 40,
   "id": "05230d13",
   "metadata": {},
   "outputs": [
    {
     "data": {
      "text/html": [
       "<div>\n",
       "<style scoped>\n",
       "    .dataframe tbody tr th:only-of-type {\n",
       "        vertical-align: middle;\n",
       "    }\n",
       "\n",
       "    .dataframe tbody tr th {\n",
       "        vertical-align: top;\n",
       "    }\n",
       "\n",
       "    .dataframe thead th {\n",
       "        text-align: right;\n",
       "    }\n",
       "</style>\n",
       "<table border=\"1\" class=\"dataframe\">\n",
       "  <thead>\n",
       "    <tr style=\"text-align: right;\">\n",
       "      <th></th>\n",
       "      <th>Name</th>\n",
       "      <th>Team</th>\n",
       "      <th>Position</th>\n",
       "      <th>Birthday</th>\n",
       "      <th>Salary</th>\n",
       "    </tr>\n",
       "  </thead>\n",
       "  <tbody>\n",
       "    <tr>\n",
       "      <th>248</th>\n",
       "      <td>Zylan Cheatham</td>\n",
       "      <td>New Orleans Pelicans</td>\n",
       "      <td>SF</td>\n",
       "      <td>1995-11-17</td>\n",
       "      <td>79568</td>\n",
       "    </tr>\n",
       "    <tr>\n",
       "      <th>137</th>\n",
       "      <td>Zion Williamson</td>\n",
       "      <td>New Orleans Pelicans</td>\n",
       "      <td>F</td>\n",
       "      <td>2000-07-06</td>\n",
       "      <td>9757440</td>\n",
       "    </tr>\n",
       "    <tr>\n",
       "      <th>312</th>\n",
       "      <td>Zhaire Smith</td>\n",
       "      <td>Philadelphia 76ers</td>\n",
       "      <td>SG</td>\n",
       "      <td>1999-06-04</td>\n",
       "      <td>3058800</td>\n",
       "    </tr>\n",
       "    <tr>\n",
       "      <th>302</th>\n",
       "      <td>Zach Norvell</td>\n",
       "      <td>Los Angeles Lakers</td>\n",
       "      <td>SG</td>\n",
       "      <td>1997-12-09</td>\n",
       "      <td>79568</td>\n",
       "    </tr>\n",
       "    <tr>\n",
       "      <th>159</th>\n",
       "      <td>Zach LaVine</td>\n",
       "      <td>Chicago Bulls</td>\n",
       "      <td>PG</td>\n",
       "      <td>1995-03-10</td>\n",
       "      <td>19500000</td>\n",
       "    </tr>\n",
       "  </tbody>\n",
       "</table>\n",
       "</div>"
      ],
      "text/plain": [
       "                Name                  Team Position   Birthday    Salary\n",
       "248   Zylan Cheatham  New Orleans Pelicans       SF 1995-11-17     79568\n",
       "137  Zion Williamson  New Orleans Pelicans        F 2000-07-06   9757440\n",
       "312     Zhaire Smith    Philadelphia 76ers       SG 1999-06-04   3058800\n",
       "302     Zach Norvell    Los Angeles Lakers       SG 1997-12-09     79568\n",
       "159      Zach LaVine         Chicago Bulls       PG 1995-03-10  19500000"
      ]
     },
     "execution_count": 40,
     "metadata": {},
     "output_type": "execute_result"
    }
   ],
   "source": [
    "nba.sort_values(\"Name\", ascending=False).head()"
   ]
  },
  {
   "cell_type": "code",
   "execution_count": 41,
   "id": "486c2115",
   "metadata": {},
   "outputs": [
    {
     "data": {
      "text/html": [
       "<div>\n",
       "<style scoped>\n",
       "    .dataframe tbody tr th:only-of-type {\n",
       "        vertical-align: middle;\n",
       "    }\n",
       "\n",
       "    .dataframe tbody tr th {\n",
       "        vertical-align: top;\n",
       "    }\n",
       "\n",
       "    .dataframe thead th {\n",
       "        text-align: right;\n",
       "    }\n",
       "</style>\n",
       "<table border=\"1\" class=\"dataframe\">\n",
       "  <thead>\n",
       "    <tr style=\"text-align: right;\">\n",
       "      <th></th>\n",
       "      <th>Name</th>\n",
       "      <th>Team</th>\n",
       "      <th>Position</th>\n",
       "      <th>Birthday</th>\n",
       "      <th>Salary</th>\n",
       "    </tr>\n",
       "  </thead>\n",
       "  <tbody>\n",
       "    <tr>\n",
       "      <th>136</th>\n",
       "      <td>Sekou Doumbouya</td>\n",
       "      <td>Detroit Pistons</td>\n",
       "      <td>SF</td>\n",
       "      <td>2000-12-23</td>\n",
       "      <td>3285120</td>\n",
       "    </tr>\n",
       "    <tr>\n",
       "      <th>432</th>\n",
       "      <td>Talen Horton-Tucker</td>\n",
       "      <td>Los Angeles Lakers</td>\n",
       "      <td>GF</td>\n",
       "      <td>2000-11-25</td>\n",
       "      <td>898310</td>\n",
       "    </tr>\n",
       "    <tr>\n",
       "      <th>137</th>\n",
       "      <td>Zion Williamson</td>\n",
       "      <td>New Orleans Pelicans</td>\n",
       "      <td>F</td>\n",
       "      <td>2000-07-06</td>\n",
       "      <td>9757440</td>\n",
       "    </tr>\n",
       "    <tr>\n",
       "      <th>313</th>\n",
       "      <td>RJ Barrett</td>\n",
       "      <td>New York Knicks</td>\n",
       "      <td>SG</td>\n",
       "      <td>2000-06-14</td>\n",
       "      <td>7839960</td>\n",
       "    </tr>\n",
       "    <tr>\n",
       "      <th>392</th>\n",
       "      <td>Jalen Lecque</td>\n",
       "      <td>Phoenix Suns</td>\n",
       "      <td>G</td>\n",
       "      <td>2000-06-13</td>\n",
       "      <td>898310</td>\n",
       "    </tr>\n",
       "  </tbody>\n",
       "</table>\n",
       "</div>"
      ],
      "text/plain": [
       "                    Name                  Team Position   Birthday   Salary\n",
       "136      Sekou Doumbouya       Detroit Pistons       SF 2000-12-23  3285120\n",
       "432  Talen Horton-Tucker    Los Angeles Lakers       GF 2000-11-25   898310\n",
       "137      Zion Williamson  New Orleans Pelicans        F 2000-07-06  9757440\n",
       "313           RJ Barrett       New York Knicks       SG 2000-06-14  7839960\n",
       "392         Jalen Lecque          Phoenix Suns        G 2000-06-13   898310"
      ]
     },
     "execution_count": 41,
     "metadata": {},
     "output_type": "execute_result"
    }
   ],
   "source": [
    "nba.sort_values(by=\"Birthday\", ascending=False).head()"
   ]
  },
  {
   "cell_type": "code",
   "execution_count": 42,
   "id": "59af9d98",
   "metadata": {},
   "outputs": [
    {
     "data": {
      "text/html": [
       "<div>\n",
       "<style scoped>\n",
       "    .dataframe tbody tr th:only-of-type {\n",
       "        vertical-align: middle;\n",
       "    }\n",
       "\n",
       "    .dataframe tbody tr th {\n",
       "        vertical-align: top;\n",
       "    }\n",
       "\n",
       "    .dataframe thead th {\n",
       "        text-align: right;\n",
       "    }\n",
       "</style>\n",
       "<table border=\"1\" class=\"dataframe\">\n",
       "  <thead>\n",
       "    <tr style=\"text-align: right;\">\n",
       "      <th></th>\n",
       "      <th>Name</th>\n",
       "      <th>Team</th>\n",
       "      <th>Position</th>\n",
       "      <th>Birthday</th>\n",
       "      <th>Salary</th>\n",
       "    </tr>\n",
       "  </thead>\n",
       "  <tbody>\n",
       "    <tr>\n",
       "      <th>359</th>\n",
       "      <td>Alex Len</td>\n",
       "      <td>Atlanta Hawks</td>\n",
       "      <td>C</td>\n",
       "      <td>1993-06-16</td>\n",
       "      <td>4160000</td>\n",
       "    </tr>\n",
       "    <tr>\n",
       "      <th>167</th>\n",
       "      <td>Allen Crabbe</td>\n",
       "      <td>Atlanta Hawks</td>\n",
       "      <td>SG</td>\n",
       "      <td>1992-04-09</td>\n",
       "      <td>18500000</td>\n",
       "    </tr>\n",
       "    <tr>\n",
       "      <th>276</th>\n",
       "      <td>Brandon Goodwin</td>\n",
       "      <td>Atlanta Hawks</td>\n",
       "      <td>PG</td>\n",
       "      <td>1995-10-02</td>\n",
       "      <td>79568</td>\n",
       "    </tr>\n",
       "    <tr>\n",
       "      <th>438</th>\n",
       "      <td>Bruno Fernando</td>\n",
       "      <td>Atlanta Hawks</td>\n",
       "      <td>C</td>\n",
       "      <td>1998-08-15</td>\n",
       "      <td>1400000</td>\n",
       "    </tr>\n",
       "    <tr>\n",
       "      <th>194</th>\n",
       "      <td>Cam Reddish</td>\n",
       "      <td>Atlanta Hawks</td>\n",
       "      <td>SF</td>\n",
       "      <td>1999-09-01</td>\n",
       "      <td>4245720</td>\n",
       "    </tr>\n",
       "    <tr>\n",
       "      <th>...</th>\n",
       "      <td>...</td>\n",
       "      <td>...</td>\n",
       "      <td>...</td>\n",
       "      <td>...</td>\n",
       "      <td>...</td>\n",
       "    </tr>\n",
       "    <tr>\n",
       "      <th>418</th>\n",
       "      <td>Jordan McRae</td>\n",
       "      <td>Washington Wizards</td>\n",
       "      <td>PG</td>\n",
       "      <td>1991-03-28</td>\n",
       "      <td>1645357</td>\n",
       "    </tr>\n",
       "    <tr>\n",
       "      <th>273</th>\n",
       "      <td>Justin Robinson</td>\n",
       "      <td>Washington Wizards</td>\n",
       "      <td>PG</td>\n",
       "      <td>1997-10-12</td>\n",
       "      <td>898310</td>\n",
       "    </tr>\n",
       "    <tr>\n",
       "      <th>428</th>\n",
       "      <td>Moritz Wagner</td>\n",
       "      <td>Washington Wizards</td>\n",
       "      <td>C</td>\n",
       "      <td>1997-04-26</td>\n",
       "      <td>2063520</td>\n",
       "    </tr>\n",
       "    <tr>\n",
       "      <th>21</th>\n",
       "      <td>Rui Hachimura</td>\n",
       "      <td>Washington Wizards</td>\n",
       "      <td>PF</td>\n",
       "      <td>1998-02-08</td>\n",
       "      <td>4469160</td>\n",
       "    </tr>\n",
       "    <tr>\n",
       "      <th>36</th>\n",
       "      <td>Thomas Bryant</td>\n",
       "      <td>Washington Wizards</td>\n",
       "      <td>C</td>\n",
       "      <td>1997-07-31</td>\n",
       "      <td>8000000</td>\n",
       "    </tr>\n",
       "  </tbody>\n",
       "</table>\n",
       "<p>450 rows × 5 columns</p>\n",
       "</div>"
      ],
      "text/plain": [
       "                Name                Team Position   Birthday    Salary\n",
       "359         Alex Len       Atlanta Hawks        C 1993-06-16   4160000\n",
       "167     Allen Crabbe       Atlanta Hawks       SG 1992-04-09  18500000\n",
       "276  Brandon Goodwin       Atlanta Hawks       PG 1995-10-02     79568\n",
       "438   Bruno Fernando       Atlanta Hawks        C 1998-08-15   1400000\n",
       "194      Cam Reddish       Atlanta Hawks       SF 1999-09-01   4245720\n",
       "..               ...                 ...      ...        ...       ...\n",
       "418     Jordan McRae  Washington Wizards       PG 1991-03-28   1645357\n",
       "273  Justin Robinson  Washington Wizards       PG 1997-10-12    898310\n",
       "428    Moritz Wagner  Washington Wizards        C 1997-04-26   2063520\n",
       "21     Rui Hachimura  Washington Wizards       PF 1998-02-08   4469160\n",
       "36     Thomas Bryant  Washington Wizards        C 1997-07-31   8000000\n",
       "\n",
       "[450 rows x 5 columns]"
      ]
     },
     "execution_count": 42,
     "metadata": {},
     "output_type": "execute_result"
    }
   ],
   "source": [
    "nba.sort_values(by = [\"Team\", \"Name\"])"
   ]
  },
  {
   "cell_type": "code",
   "execution_count": 45,
   "id": "5e4d7b80",
   "metadata": {},
   "outputs": [
    {
     "data": {
      "text/html": [
       "<div>\n",
       "<style scoped>\n",
       "    .dataframe tbody tr th:only-of-type {\n",
       "        vertical-align: middle;\n",
       "    }\n",
       "\n",
       "    .dataframe tbody tr th {\n",
       "        vertical-align: top;\n",
       "    }\n",
       "\n",
       "    .dataframe thead th {\n",
       "        text-align: right;\n",
       "    }\n",
       "</style>\n",
       "<table border=\"1\" class=\"dataframe\">\n",
       "  <thead>\n",
       "    <tr style=\"text-align: right;\">\n",
       "      <th></th>\n",
       "      <th>Name</th>\n",
       "      <th>Team</th>\n",
       "      <th>Position</th>\n",
       "      <th>Birthday</th>\n",
       "      <th>Salary</th>\n",
       "    </tr>\n",
       "  </thead>\n",
       "  <tbody>\n",
       "    <tr>\n",
       "      <th>111</th>\n",
       "      <td>Chandler Parsons</td>\n",
       "      <td>Atlanta Hawks</td>\n",
       "      <td>SF</td>\n",
       "      <td>1988-10-25</td>\n",
       "      <td>25102512</td>\n",
       "    </tr>\n",
       "    <tr>\n",
       "      <th>28</th>\n",
       "      <td>Evan Turner</td>\n",
       "      <td>Atlanta Hawks</td>\n",
       "      <td>PG</td>\n",
       "      <td>1988-10-27</td>\n",
       "      <td>18606556</td>\n",
       "    </tr>\n",
       "    <tr>\n",
       "      <th>167</th>\n",
       "      <td>Allen Crabbe</td>\n",
       "      <td>Atlanta Hawks</td>\n",
       "      <td>SG</td>\n",
       "      <td>1992-04-09</td>\n",
       "      <td>18500000</td>\n",
       "    </tr>\n",
       "    <tr>\n",
       "      <th>213</th>\n",
       "      <td>De'Andre Hunter</td>\n",
       "      <td>Atlanta Hawks</td>\n",
       "      <td>SF</td>\n",
       "      <td>1997-12-02</td>\n",
       "      <td>7068360</td>\n",
       "    </tr>\n",
       "    <tr>\n",
       "      <th>339</th>\n",
       "      <td>Jabari Parker</td>\n",
       "      <td>Atlanta Hawks</td>\n",
       "      <td>PF</td>\n",
       "      <td>1995-03-15</td>\n",
       "      <td>6500000</td>\n",
       "    </tr>\n",
       "  </tbody>\n",
       "</table>\n",
       "</div>"
      ],
      "text/plain": [
       "                 Name           Team Position   Birthday    Salary\n",
       "111  Chandler Parsons  Atlanta Hawks       SF 1988-10-25  25102512\n",
       "28        Evan Turner  Atlanta Hawks       PG 1988-10-27  18606556\n",
       "167      Allen Crabbe  Atlanta Hawks       SG 1992-04-09  18500000\n",
       "213   De'Andre Hunter  Atlanta Hawks       SF 1997-12-02   7068360\n",
       "339     Jabari Parker  Atlanta Hawks       PF 1995-03-15   6500000"
      ]
     },
     "execution_count": 45,
     "metadata": {},
     "output_type": "execute_result"
    }
   ],
   "source": [
    "nba = nba.sort_values(\n",
    "    by = [\"Team\", \"Salary\"], ascending = [True, False]\n",
    ")\n",
    "nba.head()"
   ]
  },
  {
   "cell_type": "code",
   "execution_count": 47,
   "id": "ccec3383",
   "metadata": {},
   "outputs": [
    {
     "data": {
      "text/html": [
       "<div>\n",
       "<style scoped>\n",
       "    .dataframe tbody tr th:only-of-type {\n",
       "        vertical-align: middle;\n",
       "    }\n",
       "\n",
       "    .dataframe tbody tr th {\n",
       "        vertical-align: top;\n",
       "    }\n",
       "\n",
       "    .dataframe thead th {\n",
       "        text-align: right;\n",
       "    }\n",
       "</style>\n",
       "<table border=\"1\" class=\"dataframe\">\n",
       "  <thead>\n",
       "    <tr style=\"text-align: right;\">\n",
       "      <th></th>\n",
       "      <th>Name</th>\n",
       "      <th>Team</th>\n",
       "      <th>Position</th>\n",
       "      <th>Birthday</th>\n",
       "      <th>Salary</th>\n",
       "    </tr>\n",
       "  </thead>\n",
       "  <tbody>\n",
       "    <tr>\n",
       "      <th>0</th>\n",
       "      <td>Shake Milton</td>\n",
       "      <td>Philadelphia 76ers</td>\n",
       "      <td>SG</td>\n",
       "      <td>1996-09-26</td>\n",
       "      <td>1445697</td>\n",
       "    </tr>\n",
       "    <tr>\n",
       "      <th>1</th>\n",
       "      <td>Christian Wood</td>\n",
       "      <td>Detroit Pistons</td>\n",
       "      <td>PF</td>\n",
       "      <td>1995-09-27</td>\n",
       "      <td>1645357</td>\n",
       "    </tr>\n",
       "    <tr>\n",
       "      <th>2</th>\n",
       "      <td>PJ Washington</td>\n",
       "      <td>Charlotte Hornets</td>\n",
       "      <td>PF</td>\n",
       "      <td>1998-08-23</td>\n",
       "      <td>3831840</td>\n",
       "    </tr>\n",
       "    <tr>\n",
       "      <th>3</th>\n",
       "      <td>Derrick Rose</td>\n",
       "      <td>Detroit Pistons</td>\n",
       "      <td>PG</td>\n",
       "      <td>1988-10-04</td>\n",
       "      <td>7317074</td>\n",
       "    </tr>\n",
       "    <tr>\n",
       "      <th>4</th>\n",
       "      <td>Marial Shayok</td>\n",
       "      <td>Philadelphia 76ers</td>\n",
       "      <td>G</td>\n",
       "      <td>1995-07-26</td>\n",
       "      <td>79568</td>\n",
       "    </tr>\n",
       "  </tbody>\n",
       "</table>\n",
       "</div>"
      ],
      "text/plain": [
       "             Name                Team Position   Birthday   Salary\n",
       "0    Shake Milton  Philadelphia 76ers       SG 1996-09-26  1445697\n",
       "1  Christian Wood     Detroit Pistons       PF 1995-09-27  1645357\n",
       "2   PJ Washington   Charlotte Hornets       PF 1998-08-23  3831840\n",
       "3    Derrick Rose     Detroit Pistons       PG 1988-10-04  7317074\n",
       "4   Marial Shayok  Philadelphia 76ers        G 1995-07-26    79568"
      ]
     },
     "execution_count": 47,
     "metadata": {},
     "output_type": "execute_result"
    }
   ],
   "source": [
    "nba.sort_index().head()"
   ]
  },
  {
   "cell_type": "code",
   "execution_count": 48,
   "id": "eed100ca",
   "metadata": {},
   "outputs": [
    {
     "data": {
      "text/html": [
       "<div>\n",
       "<style scoped>\n",
       "    .dataframe tbody tr th:only-of-type {\n",
       "        vertical-align: middle;\n",
       "    }\n",
       "\n",
       "    .dataframe tbody tr th {\n",
       "        vertical-align: top;\n",
       "    }\n",
       "\n",
       "    .dataframe thead th {\n",
       "        text-align: right;\n",
       "    }\n",
       "</style>\n",
       "<table border=\"1\" class=\"dataframe\">\n",
       "  <thead>\n",
       "    <tr style=\"text-align: right;\">\n",
       "      <th></th>\n",
       "      <th>Birthday</th>\n",
       "      <th>Name</th>\n",
       "      <th>Position</th>\n",
       "      <th>Salary</th>\n",
       "      <th>Team</th>\n",
       "    </tr>\n",
       "  </thead>\n",
       "  <tbody>\n",
       "    <tr>\n",
       "      <th>111</th>\n",
       "      <td>1988-10-25</td>\n",
       "      <td>Chandler Parsons</td>\n",
       "      <td>SF</td>\n",
       "      <td>25102512</td>\n",
       "      <td>Atlanta Hawks</td>\n",
       "    </tr>\n",
       "    <tr>\n",
       "      <th>28</th>\n",
       "      <td>1988-10-27</td>\n",
       "      <td>Evan Turner</td>\n",
       "      <td>PG</td>\n",
       "      <td>18606556</td>\n",
       "      <td>Atlanta Hawks</td>\n",
       "    </tr>\n",
       "    <tr>\n",
       "      <th>167</th>\n",
       "      <td>1992-04-09</td>\n",
       "      <td>Allen Crabbe</td>\n",
       "      <td>SG</td>\n",
       "      <td>18500000</td>\n",
       "      <td>Atlanta Hawks</td>\n",
       "    </tr>\n",
       "    <tr>\n",
       "      <th>213</th>\n",
       "      <td>1997-12-02</td>\n",
       "      <td>De'Andre Hunter</td>\n",
       "      <td>SF</td>\n",
       "      <td>7068360</td>\n",
       "      <td>Atlanta Hawks</td>\n",
       "    </tr>\n",
       "    <tr>\n",
       "      <th>339</th>\n",
       "      <td>1995-03-15</td>\n",
       "      <td>Jabari Parker</td>\n",
       "      <td>PF</td>\n",
       "      <td>6500000</td>\n",
       "      <td>Atlanta Hawks</td>\n",
       "    </tr>\n",
       "  </tbody>\n",
       "</table>\n",
       "</div>"
      ],
      "text/plain": [
       "      Birthday              Name Position    Salary           Team\n",
       "111 1988-10-25  Chandler Parsons       SF  25102512  Atlanta Hawks\n",
       "28  1988-10-27       Evan Turner       PG  18606556  Atlanta Hawks\n",
       "167 1992-04-09      Allen Crabbe       SG  18500000  Atlanta Hawks\n",
       "213 1997-12-02   De'Andre Hunter       SF   7068360  Atlanta Hawks\n",
       "339 1995-03-15     Jabari Parker       PF   6500000  Atlanta Hawks"
      ]
     },
     "execution_count": 48,
     "metadata": {},
     "output_type": "execute_result"
    }
   ],
   "source": [
    "nba.sort_index(axis=1).head()"
   ]
  },
  {
   "cell_type": "markdown",
   "id": "9ada91ca",
   "metadata": {},
   "source": [
    "## Setting a new index"
   ]
  },
  {
   "cell_type": "code",
   "execution_count": 50,
   "id": "91d2dd06",
   "metadata": {},
   "outputs": [],
   "source": [
    "nba = nba.set_index(\"Name\")"
   ]
  },
  {
   "cell_type": "code",
   "execution_count": 51,
   "id": "e031895f",
   "metadata": {},
   "outputs": [],
   "source": [
    "nba = pd.read_csv(nba_file, parse_dates=[\"Birthday\"], index_col=\"Name\")"
   ]
  },
  {
   "cell_type": "markdown",
   "id": "dac17f85",
   "metadata": {},
   "source": [
    "## Selecting columns and rows from a DataFrame"
   ]
  },
  {
   "cell_type": "code",
   "execution_count": 52,
   "id": "79d3dae7",
   "metadata": {},
   "outputs": [
    {
     "data": {
      "text/plain": [
       "Name\n",
       "Shake Milton       1445697\n",
       "Christian Wood     1645357\n",
       "PJ Washington      3831840\n",
       "Derrick Rose       7317074\n",
       "Marial Shayok        79568\n",
       "                    ...   \n",
       "Austin Rivers      2174310\n",
       "Harry Giles        2578800\n",
       "Robin Lopez        4767000\n",
       "Collin Sexton      4764960\n",
       "Ricky Rubio       16200000\n",
       "Name: Salary, Length: 450, dtype: int64"
      ]
     },
     "execution_count": 52,
     "metadata": {},
     "output_type": "execute_result"
    }
   ],
   "source": [
    "# Every column is available as an attribute \n",
    "nba.Salary"
   ]
  },
  {
   "cell_type": "code",
   "execution_count": 54,
   "id": "2aaecc19",
   "metadata": {},
   "outputs": [
    {
     "data": {
      "text/plain": [
       "Name\n",
       "Shake Milton      SG\n",
       "Christian Wood    PF\n",
       "PJ Washington     PF\n",
       "Derrick Rose      PG\n",
       "Marial Shayok      G\n",
       "                  ..\n",
       "Austin Rivers     PG\n",
       "Harry Giles       PF\n",
       "Robin Lopez        C\n",
       "Collin Sexton     PG\n",
       "Ricky Rubio       PG\n",
       "Name: Position, Length: 450, dtype: object"
      ]
     },
     "execution_count": 54,
     "metadata": {},
     "output_type": "execute_result"
    }
   ],
   "source": [
    "# Can also pass column name in brackets\n",
    "nba[\"Position\"]"
   ]
  },
  {
   "cell_type": "code",
   "execution_count": 55,
   "id": "004ba140",
   "metadata": {},
   "outputs": [
    {
     "data": {
      "text/html": [
       "<div>\n",
       "<style scoped>\n",
       "    .dataframe tbody tr th:only-of-type {\n",
       "        vertical-align: middle;\n",
       "    }\n",
       "\n",
       "    .dataframe tbody tr th {\n",
       "        vertical-align: top;\n",
       "    }\n",
       "\n",
       "    .dataframe thead th {\n",
       "        text-align: right;\n",
       "    }\n",
       "</style>\n",
       "<table border=\"1\" class=\"dataframe\">\n",
       "  <thead>\n",
       "    <tr style=\"text-align: right;\">\n",
       "      <th></th>\n",
       "      <th>Salary</th>\n",
       "      <th>Birthday</th>\n",
       "    </tr>\n",
       "    <tr>\n",
       "      <th>Name</th>\n",
       "      <th></th>\n",
       "      <th></th>\n",
       "    </tr>\n",
       "  </thead>\n",
       "  <tbody>\n",
       "    <tr>\n",
       "      <th>Shake Milton</th>\n",
       "      <td>1445697</td>\n",
       "      <td>1996-09-26</td>\n",
       "    </tr>\n",
       "    <tr>\n",
       "      <th>Christian Wood</th>\n",
       "      <td>1645357</td>\n",
       "      <td>1995-09-27</td>\n",
       "    </tr>\n",
       "    <tr>\n",
       "      <th>PJ Washington</th>\n",
       "      <td>3831840</td>\n",
       "      <td>1998-08-23</td>\n",
       "    </tr>\n",
       "    <tr>\n",
       "      <th>Derrick Rose</th>\n",
       "      <td>7317074</td>\n",
       "      <td>1988-10-04</td>\n",
       "    </tr>\n",
       "    <tr>\n",
       "      <th>Marial Shayok</th>\n",
       "      <td>79568</td>\n",
       "      <td>1995-07-26</td>\n",
       "    </tr>\n",
       "    <tr>\n",
       "      <th>...</th>\n",
       "      <td>...</td>\n",
       "      <td>...</td>\n",
       "    </tr>\n",
       "    <tr>\n",
       "      <th>Austin Rivers</th>\n",
       "      <td>2174310</td>\n",
       "      <td>1992-08-01</td>\n",
       "    </tr>\n",
       "    <tr>\n",
       "      <th>Harry Giles</th>\n",
       "      <td>2578800</td>\n",
       "      <td>1998-04-22</td>\n",
       "    </tr>\n",
       "    <tr>\n",
       "      <th>Robin Lopez</th>\n",
       "      <td>4767000</td>\n",
       "      <td>1988-04-01</td>\n",
       "    </tr>\n",
       "    <tr>\n",
       "      <th>Collin Sexton</th>\n",
       "      <td>4764960</td>\n",
       "      <td>1999-01-04</td>\n",
       "    </tr>\n",
       "    <tr>\n",
       "      <th>Ricky Rubio</th>\n",
       "      <td>16200000</td>\n",
       "      <td>1990-10-21</td>\n",
       "    </tr>\n",
       "  </tbody>\n",
       "</table>\n",
       "<p>450 rows × 2 columns</p>\n",
       "</div>"
      ],
      "text/plain": [
       "                  Salary   Birthday\n",
       "Name                               \n",
       "Shake Milton     1445697 1996-09-26\n",
       "Christian Wood   1645357 1995-09-27\n",
       "PJ Washington    3831840 1998-08-23\n",
       "Derrick Rose     7317074 1988-10-04\n",
       "Marial Shayok      79568 1995-07-26\n",
       "...                  ...        ...\n",
       "Austin Rivers    2174310 1992-08-01\n",
       "Harry Giles      2578800 1998-04-22\n",
       "Robin Lopez      4767000 1988-04-01\n",
       "Collin Sexton    4764960 1999-01-04\n",
       "Ricky Rubio     16200000 1990-10-21\n",
       "\n",
       "[450 rows x 2 columns]"
      ]
     },
     "execution_count": 55,
     "metadata": {},
     "output_type": "execute_result"
    }
   ],
   "source": [
    "# to get multiple columns put a list within brackets\n",
    "nba[[\"Salary\", \"Birthday\"]]"
   ]
  },
  {
   "cell_type": "code",
   "execution_count": 57,
   "id": "4243389c",
   "metadata": {},
   "outputs": [
    {
     "data": {
      "text/html": [
       "<div>\n",
       "<style scoped>\n",
       "    .dataframe tbody tr th:only-of-type {\n",
       "        vertical-align: middle;\n",
       "    }\n",
       "\n",
       "    .dataframe tbody tr th {\n",
       "        vertical-align: top;\n",
       "    }\n",
       "\n",
       "    .dataframe thead th {\n",
       "        text-align: right;\n",
       "    }\n",
       "</style>\n",
       "<table border=\"1\" class=\"dataframe\">\n",
       "  <thead>\n",
       "    <tr style=\"text-align: right;\">\n",
       "      <th></th>\n",
       "      <th>Team</th>\n",
       "      <th>Position</th>\n",
       "    </tr>\n",
       "    <tr>\n",
       "      <th>Name</th>\n",
       "      <th></th>\n",
       "      <th></th>\n",
       "    </tr>\n",
       "  </thead>\n",
       "  <tbody>\n",
       "    <tr>\n",
       "      <th>Shake Milton</th>\n",
       "      <td>Philadelphia 76ers</td>\n",
       "      <td>SG</td>\n",
       "    </tr>\n",
       "    <tr>\n",
       "      <th>Christian Wood</th>\n",
       "      <td>Detroit Pistons</td>\n",
       "      <td>PF</td>\n",
       "    </tr>\n",
       "    <tr>\n",
       "      <th>PJ Washington</th>\n",
       "      <td>Charlotte Hornets</td>\n",
       "      <td>PF</td>\n",
       "    </tr>\n",
       "    <tr>\n",
       "      <th>Derrick Rose</th>\n",
       "      <td>Detroit Pistons</td>\n",
       "      <td>PG</td>\n",
       "    </tr>\n",
       "    <tr>\n",
       "      <th>Marial Shayok</th>\n",
       "      <td>Philadelphia 76ers</td>\n",
       "      <td>G</td>\n",
       "    </tr>\n",
       "    <tr>\n",
       "      <th>...</th>\n",
       "      <td>...</td>\n",
       "      <td>...</td>\n",
       "    </tr>\n",
       "    <tr>\n",
       "      <th>Austin Rivers</th>\n",
       "      <td>Houston Rockets</td>\n",
       "      <td>PG</td>\n",
       "    </tr>\n",
       "    <tr>\n",
       "      <th>Harry Giles</th>\n",
       "      <td>Sacramento Kings</td>\n",
       "      <td>PF</td>\n",
       "    </tr>\n",
       "    <tr>\n",
       "      <th>Robin Lopez</th>\n",
       "      <td>Milwaukee Bucks</td>\n",
       "      <td>C</td>\n",
       "    </tr>\n",
       "    <tr>\n",
       "      <th>Collin Sexton</th>\n",
       "      <td>Cleveland Cavaliers</td>\n",
       "      <td>PG</td>\n",
       "    </tr>\n",
       "    <tr>\n",
       "      <th>Ricky Rubio</th>\n",
       "      <td>Phoenix Suns</td>\n",
       "      <td>PG</td>\n",
       "    </tr>\n",
       "  </tbody>\n",
       "</table>\n",
       "<p>450 rows × 2 columns</p>\n",
       "</div>"
      ],
      "text/plain": [
       "                               Team Position\n",
       "Name                                        \n",
       "Shake Milton     Philadelphia 76ers       SG\n",
       "Christian Wood      Detroit Pistons       PF\n",
       "PJ Washington     Charlotte Hornets       PF\n",
       "Derrick Rose        Detroit Pistons       PG\n",
       "Marial Shayok    Philadelphia 76ers        G\n",
       "...                             ...      ...\n",
       "Austin Rivers       Houston Rockets       PG\n",
       "Harry Giles        Sacramento Kings       PF\n",
       "Robin Lopez         Milwaukee Bucks        C\n",
       "Collin Sexton   Cleveland Cavaliers       PG\n",
       "Ricky Rubio            Phoenix Suns       PG\n",
       "\n",
       "[450 rows x 2 columns]"
      ]
     },
     "execution_count": 57,
     "metadata": {},
     "output_type": "execute_result"
    }
   ],
   "source": [
    "# can retrieve columns of a particular data type\n",
    "nba.select_dtypes(include=\"object\")"
   ]
  },
  {
   "cell_type": "code",
   "execution_count": 58,
   "id": "8b358391",
   "metadata": {},
   "outputs": [
    {
     "data": {
      "text/html": [
       "<div>\n",
       "<style scoped>\n",
       "    .dataframe tbody tr th:only-of-type {\n",
       "        vertical-align: middle;\n",
       "    }\n",
       "\n",
       "    .dataframe tbody tr th {\n",
       "        vertical-align: top;\n",
       "    }\n",
       "\n",
       "    .dataframe thead th {\n",
       "        text-align: right;\n",
       "    }\n",
       "</style>\n",
       "<table border=\"1\" class=\"dataframe\">\n",
       "  <thead>\n",
       "    <tr style=\"text-align: right;\">\n",
       "      <th></th>\n",
       "      <th>Birthday</th>\n",
       "    </tr>\n",
       "    <tr>\n",
       "      <th>Name</th>\n",
       "      <th></th>\n",
       "    </tr>\n",
       "  </thead>\n",
       "  <tbody>\n",
       "    <tr>\n",
       "      <th>Shake Milton</th>\n",
       "      <td>1996-09-26</td>\n",
       "    </tr>\n",
       "    <tr>\n",
       "      <th>Christian Wood</th>\n",
       "      <td>1995-09-27</td>\n",
       "    </tr>\n",
       "    <tr>\n",
       "      <th>PJ Washington</th>\n",
       "      <td>1998-08-23</td>\n",
       "    </tr>\n",
       "    <tr>\n",
       "      <th>Derrick Rose</th>\n",
       "      <td>1988-10-04</td>\n",
       "    </tr>\n",
       "    <tr>\n",
       "      <th>Marial Shayok</th>\n",
       "      <td>1995-07-26</td>\n",
       "    </tr>\n",
       "    <tr>\n",
       "      <th>...</th>\n",
       "      <td>...</td>\n",
       "    </tr>\n",
       "    <tr>\n",
       "      <th>Austin Rivers</th>\n",
       "      <td>1992-08-01</td>\n",
       "    </tr>\n",
       "    <tr>\n",
       "      <th>Harry Giles</th>\n",
       "      <td>1998-04-22</td>\n",
       "    </tr>\n",
       "    <tr>\n",
       "      <th>Robin Lopez</th>\n",
       "      <td>1988-04-01</td>\n",
       "    </tr>\n",
       "    <tr>\n",
       "      <th>Collin Sexton</th>\n",
       "      <td>1999-01-04</td>\n",
       "    </tr>\n",
       "    <tr>\n",
       "      <th>Ricky Rubio</th>\n",
       "      <td>1990-10-21</td>\n",
       "    </tr>\n",
       "  </tbody>\n",
       "</table>\n",
       "<p>450 rows × 1 columns</p>\n",
       "</div>"
      ],
      "text/plain": [
       "                 Birthday\n",
       "Name                     \n",
       "Shake Milton   1996-09-26\n",
       "Christian Wood 1995-09-27\n",
       "PJ Washington  1998-08-23\n",
       "Derrick Rose   1988-10-04\n",
       "Marial Shayok  1995-07-26\n",
       "...                   ...\n",
       "Austin Rivers  1992-08-01\n",
       "Harry Giles    1998-04-22\n",
       "Robin Lopez    1988-04-01\n",
       "Collin Sexton  1999-01-04\n",
       "Ricky Rubio    1990-10-21\n",
       "\n",
       "[450 rows x 1 columns]"
      ]
     },
     "execution_count": 58,
     "metadata": {},
     "output_type": "execute_result"
    }
   ],
   "source": [
    "nba.select_dtypes(exclude = [\"object\", \"int\"])"
   ]
  },
  {
   "cell_type": "markdown",
   "id": "1cd08a4e",
   "metadata": {},
   "source": [
    "## Selecting rows from a DataFrame"
   ]
  },
  {
   "cell_type": "code",
   "execution_count": 59,
   "id": "2d5a0891",
   "metadata": {},
   "outputs": [
    {
     "data": {
      "text/html": [
       "<div>\n",
       "<style scoped>\n",
       "    .dataframe tbody tr th:only-of-type {\n",
       "        vertical-align: middle;\n",
       "    }\n",
       "\n",
       "    .dataframe tbody tr th {\n",
       "        vertical-align: top;\n",
       "    }\n",
       "\n",
       "    .dataframe thead th {\n",
       "        text-align: right;\n",
       "    }\n",
       "</style>\n",
       "<table border=\"1\" class=\"dataframe\">\n",
       "  <thead>\n",
       "    <tr style=\"text-align: right;\">\n",
       "      <th></th>\n",
       "      <th>Team</th>\n",
       "      <th>Position</th>\n",
       "      <th>Birthday</th>\n",
       "      <th>Salary</th>\n",
       "    </tr>\n",
       "    <tr>\n",
       "      <th>Name</th>\n",
       "      <th></th>\n",
       "      <th></th>\n",
       "      <th></th>\n",
       "      <th></th>\n",
       "    </tr>\n",
       "  </thead>\n",
       "  <tbody>\n",
       "    <tr>\n",
       "      <th>Kawhi Leonard</th>\n",
       "      <td>Los Angeles Clippers</td>\n",
       "      <td>SF</td>\n",
       "      <td>1991-06-29</td>\n",
       "      <td>32742000</td>\n",
       "    </tr>\n",
       "    <tr>\n",
       "      <th>Paul George</th>\n",
       "      <td>Los Angeles Clippers</td>\n",
       "      <td>SF</td>\n",
       "      <td>1990-05-02</td>\n",
       "      <td>33005556</td>\n",
       "    </tr>\n",
       "  </tbody>\n",
       "</table>\n",
       "</div>"
      ],
      "text/plain": [
       "                               Team Position   Birthday    Salary\n",
       "Name                                                             \n",
       "Kawhi Leonard  Los Angeles Clippers       SF 1991-06-29  32742000\n",
       "Paul George    Los Angeles Clippers       SF 1990-05-02  33005556"
      ]
     },
     "execution_count": 59,
     "metadata": {},
     "output_type": "execute_result"
    }
   ],
   "source": [
    "# loc selects a row by index label\n",
    "nba.loc[\"LeBron James\"]\n",
    "## Also accepts a list\n",
    "nba.loc[[\"Kawhi Leonard\", \"Paul George\"]]"
   ]
  },
  {
   "cell_type": "code",
   "execution_count": 62,
   "id": "97c54448",
   "metadata": {},
   "outputs": [
    {
     "data": {
      "text/html": [
       "<div>\n",
       "<style scoped>\n",
       "    .dataframe tbody tr th:only-of-type {\n",
       "        vertical-align: middle;\n",
       "    }\n",
       "\n",
       "    .dataframe tbody tr th {\n",
       "        vertical-align: top;\n",
       "    }\n",
       "\n",
       "    .dataframe thead th {\n",
       "        text-align: right;\n",
       "    }\n",
       "</style>\n",
       "<table border=\"1\" class=\"dataframe\">\n",
       "  <thead>\n",
       "    <tr style=\"text-align: right;\">\n",
       "      <th></th>\n",
       "      <th>Team</th>\n",
       "      <th>Position</th>\n",
       "      <th>Birthday</th>\n",
       "      <th>Salary</th>\n",
       "    </tr>\n",
       "    <tr>\n",
       "      <th>Name</th>\n",
       "      <th></th>\n",
       "      <th></th>\n",
       "      <th></th>\n",
       "      <th></th>\n",
       "    </tr>\n",
       "  </thead>\n",
       "  <tbody>\n",
       "    <tr>\n",
       "      <th>Otto Porter</th>\n",
       "      <td>Chicago Bulls</td>\n",
       "      <td>SF</td>\n",
       "      <td>1993-06-03</td>\n",
       "      <td>27250576</td>\n",
       "    </tr>\n",
       "    <tr>\n",
       "      <th>PJ Dozier</th>\n",
       "      <td>Denver Nuggets</td>\n",
       "      <td>PG</td>\n",
       "      <td>1996-10-25</td>\n",
       "      <td>79568</td>\n",
       "    </tr>\n",
       "    <tr>\n",
       "      <th>PJ Washington</th>\n",
       "      <td>Charlotte Hornets</td>\n",
       "      <td>PF</td>\n",
       "      <td>1998-08-23</td>\n",
       "      <td>3831840</td>\n",
       "    </tr>\n",
       "    <tr>\n",
       "      <th>Pascal Siakam</th>\n",
       "      <td>Toronto Raptors</td>\n",
       "      <td>PF</td>\n",
       "      <td>1994-04-02</td>\n",
       "      <td>2351838</td>\n",
       "    </tr>\n",
       "    <tr>\n",
       "      <th>Pat Connaughton</th>\n",
       "      <td>Milwaukee Bucks</td>\n",
       "      <td>SG</td>\n",
       "      <td>1993-01-06</td>\n",
       "      <td>1723050</td>\n",
       "    </tr>\n",
       "    <tr>\n",
       "      <th>Patrick Beverley</th>\n",
       "      <td>Los Angeles Clippers</td>\n",
       "      <td>PG</td>\n",
       "      <td>1988-07-12</td>\n",
       "      <td>12345680</td>\n",
       "    </tr>\n",
       "  </tbody>\n",
       "</table>\n",
       "</div>"
      ],
      "text/plain": [
       "                                  Team Position   Birthday    Salary\n",
       "Name                                                                \n",
       "Otto Porter              Chicago Bulls       SF 1993-06-03  27250576\n",
       "PJ Dozier               Denver Nuggets       PG 1996-10-25     79568\n",
       "PJ Washington        Charlotte Hornets       PF 1998-08-23   3831840\n",
       "Pascal Siakam          Toronto Raptors       PF 1994-04-02   2351838\n",
       "Pat Connaughton        Milwaukee Bucks       SG 1993-01-06   1723050\n",
       "Patrick Beverley  Los Angeles Clippers       PG 1988-07-12  12345680"
      ]
     },
     "execution_count": 62,
     "metadata": {},
     "output_type": "execute_result"
    }
   ],
   "source": [
    "# Can also pull a range with : , is faster if you sort first\n",
    "nba.sort_index().loc[\"Otto Porter\":\"Patrick Beverley\"]\n",
    "# Note that it includes upper bound, where python's slice does not"
   ]
  },
  {
   "cell_type": "code",
   "execution_count": 63,
   "id": "8cc56c09",
   "metadata": {},
   "outputs": [
    {
     "data": {
      "text/html": [
       "<div>\n",
       "<style scoped>\n",
       "    .dataframe tbody tr th:only-of-type {\n",
       "        vertical-align: middle;\n",
       "    }\n",
       "\n",
       "    .dataframe tbody tr th {\n",
       "        vertical-align: top;\n",
       "    }\n",
       "\n",
       "    .dataframe thead th {\n",
       "        text-align: right;\n",
       "    }\n",
       "</style>\n",
       "<table border=\"1\" class=\"dataframe\">\n",
       "  <thead>\n",
       "    <tr style=\"text-align: right;\">\n",
       "      <th></th>\n",
       "      <th>Team</th>\n",
       "      <th>Position</th>\n",
       "      <th>Birthday</th>\n",
       "      <th>Salary</th>\n",
       "    </tr>\n",
       "    <tr>\n",
       "      <th>Name</th>\n",
       "      <th></th>\n",
       "      <th></th>\n",
       "      <th></th>\n",
       "      <th></th>\n",
       "    </tr>\n",
       "  </thead>\n",
       "  <tbody>\n",
       "    <tr>\n",
       "      <th>Zach Collins</th>\n",
       "      <td>Portland Trail Blazers</td>\n",
       "      <td>C</td>\n",
       "      <td>1997-11-19</td>\n",
       "      <td>4240200</td>\n",
       "    </tr>\n",
       "    <tr>\n",
       "      <th>Zach LaVine</th>\n",
       "      <td>Chicago Bulls</td>\n",
       "      <td>PG</td>\n",
       "      <td>1995-03-10</td>\n",
       "      <td>19500000</td>\n",
       "    </tr>\n",
       "    <tr>\n",
       "      <th>Zach Norvell</th>\n",
       "      <td>Los Angeles Lakers</td>\n",
       "      <td>SG</td>\n",
       "      <td>1997-12-09</td>\n",
       "      <td>79568</td>\n",
       "    </tr>\n",
       "    <tr>\n",
       "      <th>Zhaire Smith</th>\n",
       "      <td>Philadelphia 76ers</td>\n",
       "      <td>SG</td>\n",
       "      <td>1999-06-04</td>\n",
       "      <td>3058800</td>\n",
       "    </tr>\n",
       "    <tr>\n",
       "      <th>Zion Williamson</th>\n",
       "      <td>New Orleans Pelicans</td>\n",
       "      <td>F</td>\n",
       "      <td>2000-07-06</td>\n",
       "      <td>9757440</td>\n",
       "    </tr>\n",
       "    <tr>\n",
       "      <th>Zylan Cheatham</th>\n",
       "      <td>New Orleans Pelicans</td>\n",
       "      <td>SF</td>\n",
       "      <td>1995-11-17</td>\n",
       "      <td>79568</td>\n",
       "    </tr>\n",
       "  </tbody>\n",
       "</table>\n",
       "</div>"
      ],
      "text/plain": [
       "                                   Team Position   Birthday    Salary\n",
       "Name                                                                 \n",
       "Zach Collins     Portland Trail Blazers        C 1997-11-19   4240200\n",
       "Zach LaVine               Chicago Bulls       PG 1995-03-10  19500000\n",
       "Zach Norvell         Los Angeles Lakers       SG 1997-12-09     79568\n",
       "Zhaire Smith         Philadelphia 76ers       SG 1999-06-04   3058800\n",
       "Zion Williamson    New Orleans Pelicans        F 2000-07-06   9757440\n",
       "Zylan Cheatham     New Orleans Pelicans       SF 1995-11-17     79568"
      ]
     },
     "execution_count": 63,
     "metadata": {},
     "output_type": "execute_result"
    }
   ],
   "source": [
    "nba.sort_index().loc[\"Zach Collins\" :]"
   ]
  },
  {
   "cell_type": "code",
   "execution_count": 65,
   "id": "23f020ce",
   "metadata": {},
   "outputs": [
    {
     "data": {
      "text/html": [
       "<div>\n",
       "<style scoped>\n",
       "    .dataframe tbody tr th:only-of-type {\n",
       "        vertical-align: middle;\n",
       "    }\n",
       "\n",
       "    .dataframe tbody tr th {\n",
       "        vertical-align: top;\n",
       "    }\n",
       "\n",
       "    .dataframe thead th {\n",
       "        text-align: right;\n",
       "    }\n",
       "</style>\n",
       "<table border=\"1\" class=\"dataframe\">\n",
       "  <thead>\n",
       "    <tr style=\"text-align: right;\">\n",
       "      <th></th>\n",
       "      <th>Team</th>\n",
       "      <th>Position</th>\n",
       "      <th>Birthday</th>\n",
       "      <th>Salary</th>\n",
       "    </tr>\n",
       "    <tr>\n",
       "      <th>Name</th>\n",
       "      <th></th>\n",
       "      <th></th>\n",
       "      <th></th>\n",
       "      <th></th>\n",
       "    </tr>\n",
       "  </thead>\n",
       "  <tbody>\n",
       "    <tr>\n",
       "      <th>Aaron Gordon</th>\n",
       "      <td>Orlando Magic</td>\n",
       "      <td>PF</td>\n",
       "      <td>1995-09-16</td>\n",
       "      <td>19863636</td>\n",
       "    </tr>\n",
       "    <tr>\n",
       "      <th>Aaron Holiday</th>\n",
       "      <td>Indiana Pacers</td>\n",
       "      <td>PG</td>\n",
       "      <td>1996-09-30</td>\n",
       "      <td>2239200</td>\n",
       "    </tr>\n",
       "    <tr>\n",
       "      <th>Abdel Nader</th>\n",
       "      <td>Oklahoma City Thunder</td>\n",
       "      <td>SF</td>\n",
       "      <td>1993-09-25</td>\n",
       "      <td>1618520</td>\n",
       "    </tr>\n",
       "    <tr>\n",
       "      <th>Adam Mokoka</th>\n",
       "      <td>Chicago Bulls</td>\n",
       "      <td>G</td>\n",
       "      <td>1998-07-18</td>\n",
       "      <td>79568</td>\n",
       "    </tr>\n",
       "    <tr>\n",
       "      <th>Admiral Schofield</th>\n",
       "      <td>Washington Wizards</td>\n",
       "      <td>SF</td>\n",
       "      <td>1997-03-30</td>\n",
       "      <td>1000000</td>\n",
       "    </tr>\n",
       "    <tr>\n",
       "      <th>Al Horford</th>\n",
       "      <td>Philadelphia 76ers</td>\n",
       "      <td>C</td>\n",
       "      <td>1986-06-03</td>\n",
       "      <td>28000000</td>\n",
       "    </tr>\n",
       "  </tbody>\n",
       "</table>\n",
       "</div>"
      ],
      "text/plain": [
       "                                    Team Position   Birthday    Salary\n",
       "Name                                                                  \n",
       "Aaron Gordon               Orlando Magic       PF 1995-09-16  19863636\n",
       "Aaron Holiday             Indiana Pacers       PG 1996-09-30   2239200\n",
       "Abdel Nader        Oklahoma City Thunder       SF 1993-09-25   1618520\n",
       "Adam Mokoka                Chicago Bulls        G 1998-07-18     79568\n",
       "Admiral Schofield     Washington Wizards       SF 1997-03-30   1000000\n",
       "Al Horford            Philadelphia 76ers        C 1986-06-03  28000000"
      ]
     },
     "execution_count": 65,
     "metadata": {},
     "output_type": "execute_result"
    }
   ],
   "source": [
    "nba.sort_index().loc[:\"Al Horford\"]"
   ]
  },
  {
   "cell_type": "code",
   "execution_count": 66,
   "id": "412f6f65",
   "metadata": {},
   "outputs": [
    {
     "data": {
      "text/plain": [
       "Team             Denver Nuggets\n",
       "Position                     PF\n",
       "Birthday    1999-04-03 00:00:00\n",
       "Salary                  1416852\n",
       "Name: Jarred Vanderbilt, dtype: object"
      ]
     },
     "execution_count": 66,
     "metadata": {},
     "output_type": "execute_result"
    }
   ],
   "source": [
    "# Use iloc to pull by index position\n",
    "nba.iloc[300]"
   ]
  },
  {
   "cell_type": "code",
   "execution_count": 67,
   "id": "188f707d",
   "metadata": {},
   "outputs": [
    {
     "data": {
      "text/html": [
       "<div>\n",
       "<style scoped>\n",
       "    .dataframe tbody tr th:only-of-type {\n",
       "        vertical-align: middle;\n",
       "    }\n",
       "\n",
       "    .dataframe tbody tr th {\n",
       "        vertical-align: top;\n",
       "    }\n",
       "\n",
       "    .dataframe thead th {\n",
       "        text-align: right;\n",
       "    }\n",
       "</style>\n",
       "<table border=\"1\" class=\"dataframe\">\n",
       "  <thead>\n",
       "    <tr style=\"text-align: right;\">\n",
       "      <th></th>\n",
       "      <th>Team</th>\n",
       "      <th>Position</th>\n",
       "      <th>Birthday</th>\n",
       "      <th>Salary</th>\n",
       "    </tr>\n",
       "    <tr>\n",
       "      <th>Name</th>\n",
       "      <th></th>\n",
       "      <th></th>\n",
       "      <th></th>\n",
       "      <th></th>\n",
       "    </tr>\n",
       "  </thead>\n",
       "  <tbody>\n",
       "    <tr>\n",
       "      <th>Brian Bowen</th>\n",
       "      <td>Indiana Pacers</td>\n",
       "      <td>SG</td>\n",
       "      <td>1998-10-02</td>\n",
       "      <td>79568</td>\n",
       "    </tr>\n",
       "    <tr>\n",
       "      <th>Marco Belinelli</th>\n",
       "      <td>San Antonio Spurs</td>\n",
       "      <td>SF</td>\n",
       "      <td>1986-03-25</td>\n",
       "      <td>5846154</td>\n",
       "    </tr>\n",
       "    <tr>\n",
       "      <th>Jarred Vanderbilt</th>\n",
       "      <td>Denver Nuggets</td>\n",
       "      <td>PF</td>\n",
       "      <td>1999-04-03</td>\n",
       "      <td>1416852</td>\n",
       "    </tr>\n",
       "  </tbody>\n",
       "</table>\n",
       "</div>"
      ],
      "text/plain": [
       "                                Team Position   Birthday   Salary\n",
       "Name                                                             \n",
       "Brian Bowen           Indiana Pacers       SG 1998-10-02    79568\n",
       "Marco Belinelli    San Antonio Spurs       SF 1986-03-25  5846154\n",
       "Jarred Vanderbilt     Denver Nuggets       PF 1999-04-03  1416852"
      ]
     },
     "execution_count": 67,
     "metadata": {},
     "output_type": "execute_result"
    }
   ],
   "source": [
    "nba.iloc[[100,200,300]]"
   ]
  },
  {
   "cell_type": "code",
   "execution_count": 68,
   "id": "45dfd76c",
   "metadata": {},
   "outputs": [
    {
     "data": {
      "text/html": [
       "<div>\n",
       "<style scoped>\n",
       "    .dataframe tbody tr th:only-of-type {\n",
       "        vertical-align: middle;\n",
       "    }\n",
       "\n",
       "    .dataframe tbody tr th {\n",
       "        vertical-align: top;\n",
       "    }\n",
       "\n",
       "    .dataframe thead th {\n",
       "        text-align: right;\n",
       "    }\n",
       "</style>\n",
       "<table border=\"1\" class=\"dataframe\">\n",
       "  <thead>\n",
       "    <tr style=\"text-align: right;\">\n",
       "      <th></th>\n",
       "      <th>Team</th>\n",
       "      <th>Position</th>\n",
       "      <th>Birthday</th>\n",
       "      <th>Salary</th>\n",
       "    </tr>\n",
       "    <tr>\n",
       "      <th>Name</th>\n",
       "      <th></th>\n",
       "      <th></th>\n",
       "      <th></th>\n",
       "      <th></th>\n",
       "    </tr>\n",
       "  </thead>\n",
       "  <tbody>\n",
       "    <tr>\n",
       "      <th>Louis King</th>\n",
       "      <td>Detroit Pistons</td>\n",
       "      <td>F</td>\n",
       "      <td>1999-04-06</td>\n",
       "      <td>79568</td>\n",
       "    </tr>\n",
       "    <tr>\n",
       "      <th>Kostas Antetokounmpo</th>\n",
       "      <td>Los Angeles Lakers</td>\n",
       "      <td>PF</td>\n",
       "      <td>1997-11-20</td>\n",
       "      <td>79568</td>\n",
       "    </tr>\n",
       "    <tr>\n",
       "      <th>Rodions Kurucs</th>\n",
       "      <td>Brooklyn Nets</td>\n",
       "      <td>PF</td>\n",
       "      <td>1998-02-05</td>\n",
       "      <td>1699236</td>\n",
       "    </tr>\n",
       "    <tr>\n",
       "      <th>Spencer Dinwiddie</th>\n",
       "      <td>Brooklyn Nets</td>\n",
       "      <td>PG</td>\n",
       "      <td>1993-04-06</td>\n",
       "      <td>10605600</td>\n",
       "    </tr>\n",
       "  </tbody>\n",
       "</table>\n",
       "</div>"
      ],
      "text/plain": [
       "                                    Team Position   Birthday    Salary\n",
       "Name                                                                  \n",
       "Louis King               Detroit Pistons        F 1999-04-06     79568\n",
       "Kostas Antetokounmpo  Los Angeles Lakers       PF 1997-11-20     79568\n",
       "Rodions Kurucs             Brooklyn Nets       PF 1998-02-05   1699236\n",
       "Spencer Dinwiddie          Brooklyn Nets       PG 1993-04-06  10605600"
      ]
     },
     "execution_count": 68,
     "metadata": {},
     "output_type": "execute_result"
    }
   ],
   "source": [
    "# iloc can also take a range, but it does not include the last, so like python\n",
    "nba.iloc[400:404]"
   ]
  },
  {
   "cell_type": "code",
   "execution_count": 69,
   "id": "603eb9c7",
   "metadata": {},
   "outputs": [
    {
     "data": {
      "text/html": [
       "<div>\n",
       "<style scoped>\n",
       "    .dataframe tbody tr th:only-of-type {\n",
       "        vertical-align: middle;\n",
       "    }\n",
       "\n",
       "    .dataframe tbody tr th {\n",
       "        vertical-align: top;\n",
       "    }\n",
       "\n",
       "    .dataframe thead th {\n",
       "        text-align: right;\n",
       "    }\n",
       "</style>\n",
       "<table border=\"1\" class=\"dataframe\">\n",
       "  <thead>\n",
       "    <tr style=\"text-align: right;\">\n",
       "      <th></th>\n",
       "      <th>Team</th>\n",
       "      <th>Position</th>\n",
       "      <th>Birthday</th>\n",
       "      <th>Salary</th>\n",
       "    </tr>\n",
       "    <tr>\n",
       "      <th>Name</th>\n",
       "      <th></th>\n",
       "      <th></th>\n",
       "      <th></th>\n",
       "      <th></th>\n",
       "    </tr>\n",
       "  </thead>\n",
       "  <tbody>\n",
       "    <tr>\n",
       "      <th>Shake Milton</th>\n",
       "      <td>Philadelphia 76ers</td>\n",
       "      <td>SG</td>\n",
       "      <td>1996-09-26</td>\n",
       "      <td>1445697</td>\n",
       "    </tr>\n",
       "    <tr>\n",
       "      <th>Christian Wood</th>\n",
       "      <td>Detroit Pistons</td>\n",
       "      <td>PF</td>\n",
       "      <td>1995-09-27</td>\n",
       "      <td>1645357</td>\n",
       "    </tr>\n",
       "  </tbody>\n",
       "</table>\n",
       "</div>"
      ],
      "text/plain": [
       "                              Team Position   Birthday   Salary\n",
       "Name                                                           \n",
       "Shake Milton    Philadelphia 76ers       SG 1996-09-26  1445697\n",
       "Christian Wood     Detroit Pistons       PF 1995-09-27  1645357"
      ]
     },
     "execution_count": 69,
     "metadata": {},
     "output_type": "execute_result"
    }
   ],
   "source": [
    "nba.iloc[:2]"
   ]
  },
  {
   "cell_type": "code",
   "execution_count": 70,
   "id": "84b78258",
   "metadata": {},
   "outputs": [
    {
     "data": {
      "text/html": [
       "<div>\n",
       "<style scoped>\n",
       "    .dataframe tbody tr th:only-of-type {\n",
       "        vertical-align: middle;\n",
       "    }\n",
       "\n",
       "    .dataframe tbody tr th {\n",
       "        vertical-align: top;\n",
       "    }\n",
       "\n",
       "    .dataframe thead th {\n",
       "        text-align: right;\n",
       "    }\n",
       "</style>\n",
       "<table border=\"1\" class=\"dataframe\">\n",
       "  <thead>\n",
       "    <tr style=\"text-align: right;\">\n",
       "      <th></th>\n",
       "      <th>Team</th>\n",
       "      <th>Position</th>\n",
       "      <th>Birthday</th>\n",
       "      <th>Salary</th>\n",
       "    </tr>\n",
       "    <tr>\n",
       "      <th>Name</th>\n",
       "      <th></th>\n",
       "      <th></th>\n",
       "      <th></th>\n",
       "      <th></th>\n",
       "    </tr>\n",
       "  </thead>\n",
       "  <tbody>\n",
       "    <tr>\n",
       "      <th>Robin Lopez</th>\n",
       "      <td>Milwaukee Bucks</td>\n",
       "      <td>C</td>\n",
       "      <td>1988-04-01</td>\n",
       "      <td>4767000</td>\n",
       "    </tr>\n",
       "    <tr>\n",
       "      <th>Collin Sexton</th>\n",
       "      <td>Cleveland Cavaliers</td>\n",
       "      <td>PG</td>\n",
       "      <td>1999-01-04</td>\n",
       "      <td>4764960</td>\n",
       "    </tr>\n",
       "    <tr>\n",
       "      <th>Ricky Rubio</th>\n",
       "      <td>Phoenix Suns</td>\n",
       "      <td>PG</td>\n",
       "      <td>1990-10-21</td>\n",
       "      <td>16200000</td>\n",
       "    </tr>\n",
       "  </tbody>\n",
       "</table>\n",
       "</div>"
      ],
      "text/plain": [
       "                              Team Position   Birthday    Salary\n",
       "Name                                                            \n",
       "Robin Lopez        Milwaukee Bucks        C 1988-04-01   4767000\n",
       "Collin Sexton  Cleveland Cavaliers       PG 1999-01-04   4764960\n",
       "Ricky Rubio           Phoenix Suns       PG 1990-10-21  16200000"
      ]
     },
     "execution_count": 70,
     "metadata": {},
     "output_type": "execute_result"
    }
   ],
   "source": [
    "nba.iloc[447:]"
   ]
  },
  {
   "cell_type": "code",
   "execution_count": 71,
   "id": "497d7171",
   "metadata": {},
   "outputs": [
    {
     "data": {
      "text/html": [
       "<div>\n",
       "<style scoped>\n",
       "    .dataframe tbody tr th:only-of-type {\n",
       "        vertical-align: middle;\n",
       "    }\n",
       "\n",
       "    .dataframe tbody tr th {\n",
       "        vertical-align: top;\n",
       "    }\n",
       "\n",
       "    .dataframe thead th {\n",
       "        text-align: right;\n",
       "    }\n",
       "</style>\n",
       "<table border=\"1\" class=\"dataframe\">\n",
       "  <thead>\n",
       "    <tr style=\"text-align: right;\">\n",
       "      <th></th>\n",
       "      <th>Team</th>\n",
       "      <th>Position</th>\n",
       "      <th>Birthday</th>\n",
       "      <th>Salary</th>\n",
       "    </tr>\n",
       "    <tr>\n",
       "      <th>Name</th>\n",
       "      <th></th>\n",
       "      <th></th>\n",
       "      <th></th>\n",
       "      <th></th>\n",
       "    </tr>\n",
       "  </thead>\n",
       "  <tbody>\n",
       "    <tr>\n",
       "      <th>Jared Dudley</th>\n",
       "      <td>Los Angeles Lakers</td>\n",
       "      <td>PF</td>\n",
       "      <td>1985-07-10</td>\n",
       "      <td>2564753</td>\n",
       "    </tr>\n",
       "    <tr>\n",
       "      <th>Max Strus</th>\n",
       "      <td>Chicago Bulls</td>\n",
       "      <td>SG</td>\n",
       "      <td>1996-03-28</td>\n",
       "      <td>79568</td>\n",
       "    </tr>\n",
       "    <tr>\n",
       "      <th>Kevon Looney</th>\n",
       "      <td>Golden State Warriors</td>\n",
       "      <td>C</td>\n",
       "      <td>1996-02-06</td>\n",
       "      <td>4464286</td>\n",
       "    </tr>\n",
       "    <tr>\n",
       "      <th>Willy Hernangomez</th>\n",
       "      <td>Charlotte Hornets</td>\n",
       "      <td>C</td>\n",
       "      <td>1994-05-27</td>\n",
       "      <td>1557250</td>\n",
       "    </tr>\n",
       "  </tbody>\n",
       "</table>\n",
       "</div>"
      ],
      "text/plain": [
       "                                    Team Position   Birthday   Salary\n",
       "Name                                                                 \n",
       "Jared Dudley          Los Angeles Lakers       PF 1985-07-10  2564753\n",
       "Max Strus                  Chicago Bulls       SG 1996-03-28    79568\n",
       "Kevon Looney       Golden State Warriors        C 1996-02-06  4464286\n",
       "Willy Hernangomez      Charlotte Hornets        C 1994-05-27  1557250"
      ]
     },
     "execution_count": 71,
     "metadata": {},
     "output_type": "execute_result"
    }
   ],
   "source": [
    "nba.iloc[-10:-6]"
   ]
  },
  {
   "cell_type": "code",
   "execution_count": 72,
   "id": "c5515c9f",
   "metadata": {},
   "outputs": [
    {
     "data": {
      "text/html": [
       "<div>\n",
       "<style scoped>\n",
       "    .dataframe tbody tr th:only-of-type {\n",
       "        vertical-align: middle;\n",
       "    }\n",
       "\n",
       "    .dataframe tbody tr th {\n",
       "        vertical-align: top;\n",
       "    }\n",
       "\n",
       "    .dataframe thead th {\n",
       "        text-align: right;\n",
       "    }\n",
       "</style>\n",
       "<table border=\"1\" class=\"dataframe\">\n",
       "  <thead>\n",
       "    <tr style=\"text-align: right;\">\n",
       "      <th></th>\n",
       "      <th>Team</th>\n",
       "      <th>Position</th>\n",
       "      <th>Birthday</th>\n",
       "      <th>Salary</th>\n",
       "    </tr>\n",
       "    <tr>\n",
       "      <th>Name</th>\n",
       "      <th></th>\n",
       "      <th></th>\n",
       "      <th></th>\n",
       "      <th></th>\n",
       "    </tr>\n",
       "  </thead>\n",
       "  <tbody>\n",
       "    <tr>\n",
       "      <th>Shake Milton</th>\n",
       "      <td>Philadelphia 76ers</td>\n",
       "      <td>SG</td>\n",
       "      <td>1996-09-26</td>\n",
       "      <td>1445697</td>\n",
       "    </tr>\n",
       "    <tr>\n",
       "      <th>PJ Washington</th>\n",
       "      <td>Charlotte Hornets</td>\n",
       "      <td>PF</td>\n",
       "      <td>1998-08-23</td>\n",
       "      <td>3831840</td>\n",
       "    </tr>\n",
       "    <tr>\n",
       "      <th>Marial Shayok</th>\n",
       "      <td>Philadelphia 76ers</td>\n",
       "      <td>G</td>\n",
       "      <td>1995-07-26</td>\n",
       "      <td>79568</td>\n",
       "    </tr>\n",
       "    <tr>\n",
       "      <th>Kendrick Nunn</th>\n",
       "      <td>Miami Heat</td>\n",
       "      <td>SG</td>\n",
       "      <td>1995-08-03</td>\n",
       "      <td>1416852</td>\n",
       "    </tr>\n",
       "    <tr>\n",
       "      <th>Brook Lopez</th>\n",
       "      <td>Milwaukee Bucks</td>\n",
       "      <td>C</td>\n",
       "      <td>1988-04-01</td>\n",
       "      <td>12093024</td>\n",
       "    </tr>\n",
       "  </tbody>\n",
       "</table>\n",
       "</div>"
      ],
      "text/plain": [
       "                             Team Position   Birthday    Salary\n",
       "Name                                                           \n",
       "Shake Milton   Philadelphia 76ers       SG 1996-09-26   1445697\n",
       "PJ Washington   Charlotte Hornets       PF 1998-08-23   3831840\n",
       "Marial Shayok  Philadelphia 76ers        G 1995-07-26     79568\n",
       "Kendrick Nunn          Miami Heat       SG 1995-08-03   1416852\n",
       "Brook Lopez       Milwaukee Bucks        C 1988-04-01  12093024"
      ]
     },
     "execution_count": 72,
     "metadata": {},
     "output_type": "execute_result"
    }
   ],
   "source": [
    "nba.iloc[0:10:2]"
   ]
  },
  {
   "cell_type": "code",
   "execution_count": 76,
   "id": "4010092c",
   "metadata": {},
   "outputs": [
    {
     "data": {
      "text/plain": [
       "Position                     PG\n",
       "Birthday    1989-08-26 00:00:00\n",
       "Name: James Harden, dtype: object"
      ]
     },
     "execution_count": 76,
     "metadata": {},
     "output_type": "execute_result"
    }
   ],
   "source": [
    "nba.loc[\"James Harden\", [\"Position\", \"Birthday\"]]"
   ]
  },
  {
   "cell_type": "code",
   "execution_count": 77,
   "id": "665b8b7e",
   "metadata": {},
   "outputs": [
    {
     "data": {
      "text/html": [
       "<div>\n",
       "<style scoped>\n",
       "    .dataframe tbody tr th:only-of-type {\n",
       "        vertical-align: middle;\n",
       "    }\n",
       "\n",
       "    .dataframe tbody tr th {\n",
       "        vertical-align: top;\n",
       "    }\n",
       "\n",
       "    .dataframe thead th {\n",
       "        text-align: right;\n",
       "    }\n",
       "</style>\n",
       "<table border=\"1\" class=\"dataframe\">\n",
       "  <thead>\n",
       "    <tr style=\"text-align: right;\">\n",
       "      <th></th>\n",
       "      <th>Team</th>\n",
       "      <th>Salary</th>\n",
       "    </tr>\n",
       "    <tr>\n",
       "      <th>Name</th>\n",
       "      <th></th>\n",
       "      <th></th>\n",
       "    </tr>\n",
       "  </thead>\n",
       "  <tbody>\n",
       "    <tr>\n",
       "      <th>Russell Westbrook</th>\n",
       "      <td>Houston Rockets</td>\n",
       "      <td>38506482</td>\n",
       "    </tr>\n",
       "    <tr>\n",
       "      <th>Anthony Davis</th>\n",
       "      <td>Los Angeles Lakers</td>\n",
       "      <td>27093019</td>\n",
       "    </tr>\n",
       "  </tbody>\n",
       "</table>\n",
       "</div>"
      ],
      "text/plain": [
       "                                 Team    Salary\n",
       "Name                                           \n",
       "Russell Westbrook     Houston Rockets  38506482\n",
       "Anthony Davis      Los Angeles Lakers  27093019"
      ]
     },
     "execution_count": 77,
     "metadata": {},
     "output_type": "execute_result"
    }
   ],
   "source": [
    "nba.loc[[\"Russell Westbrook\", \"Anthony Davis\"],[\"Team\", \"Salary\"]]"
   ]
  },
  {
   "cell_type": "code",
   "execution_count": 78,
   "id": "a21e60a5",
   "metadata": {},
   "outputs": [
    {
     "data": {
      "text/plain": [
       "Position                      C\n",
       "Birthday    1994-03-16 00:00:00\n",
       "Salary                 27504630\n",
       "Name: Joel Embiid, dtype: object"
      ]
     },
     "execution_count": 78,
     "metadata": {},
     "output_type": "execute_result"
    }
   ],
   "source": [
    "nba.loc[\"Joel Embiid\", \"Position\":\"Salary\"]"
   ]
  },
  {
   "cell_type": "code",
   "execution_count": 81,
   "id": "84d2fc24",
   "metadata": {},
   "outputs": [
    {
     "data": {
      "text/plain": [
       "796806"
      ]
     },
     "execution_count": 81,
     "metadata": {},
     "output_type": "execute_result"
    }
   ],
   "source": [
    "nba.iloc[57,3]"
   ]
  },
  {
   "cell_type": "code",
   "execution_count": 82,
   "id": "c1dcbe84",
   "metadata": {},
   "outputs": [
    {
     "data": {
      "text/html": [
       "<div>\n",
       "<style scoped>\n",
       "    .dataframe tbody tr th:only-of-type {\n",
       "        vertical-align: middle;\n",
       "    }\n",
       "\n",
       "    .dataframe tbody tr th {\n",
       "        vertical-align: top;\n",
       "    }\n",
       "\n",
       "    .dataframe thead th {\n",
       "        text-align: right;\n",
       "    }\n",
       "</style>\n",
       "<table border=\"1\" class=\"dataframe\">\n",
       "  <thead>\n",
       "    <tr style=\"text-align: right;\">\n",
       "      <th></th>\n",
       "      <th>Team</th>\n",
       "      <th>Position</th>\n",
       "      <th>Birthday</th>\n",
       "    </tr>\n",
       "    <tr>\n",
       "      <th>Name</th>\n",
       "      <th></th>\n",
       "      <th></th>\n",
       "      <th></th>\n",
       "    </tr>\n",
       "  </thead>\n",
       "  <tbody>\n",
       "    <tr>\n",
       "      <th>Brian Bowen</th>\n",
       "      <td>Indiana Pacers</td>\n",
       "      <td>SG</td>\n",
       "      <td>1998-10-02</td>\n",
       "    </tr>\n",
       "    <tr>\n",
       "      <th>Aaron Holiday</th>\n",
       "      <td>Indiana Pacers</td>\n",
       "      <td>PG</td>\n",
       "      <td>1996-09-30</td>\n",
       "    </tr>\n",
       "    <tr>\n",
       "      <th>Troy Daniels</th>\n",
       "      <td>Los Angeles Lakers</td>\n",
       "      <td>SG</td>\n",
       "      <td>1991-07-15</td>\n",
       "    </tr>\n",
       "    <tr>\n",
       "      <th>Buddy Hield</th>\n",
       "      <td>Sacramento Kings</td>\n",
       "      <td>SG</td>\n",
       "      <td>1992-12-17</td>\n",
       "    </tr>\n",
       "  </tbody>\n",
       "</table>\n",
       "</div>"
      ],
      "text/plain": [
       "                             Team Position   Birthday\n",
       "Name                                                 \n",
       "Brian Bowen        Indiana Pacers       SG 1998-10-02\n",
       "Aaron Holiday      Indiana Pacers       PG 1996-09-30\n",
       "Troy Daniels   Los Angeles Lakers       SG 1991-07-15\n",
       "Buddy Hield      Sacramento Kings       SG 1992-12-17"
      ]
     },
     "execution_count": 82,
     "metadata": {},
     "output_type": "execute_result"
    }
   ],
   "source": [
    "nba.iloc[100:104, :3]"
   ]
  },
  {
   "cell_type": "code",
   "execution_count": 83,
   "id": "62655620",
   "metadata": {},
   "outputs": [
    {
     "data": {
      "text/plain": [
       "'PF'"
      ]
     },
     "execution_count": 83,
     "metadata": {},
     "output_type": "execute_result"
    }
   ],
   "source": [
    "# at and iat are faster when you want a particular value\n",
    "nba.at[\"Austin Rivers\", \"Birthday\"]\n",
    "nba.iat[263,1]"
   ]
  },
  {
   "cell_type": "markdown",
   "id": "81b8f16e",
   "metadata": {},
   "source": [
    "## Extracting values from Series\n",
    "loc, iloc, at, and iat also work for series"
   ]
  },
  {
   "cell_type": "code",
   "execution_count": 84,
   "id": "5b6a66dc",
   "metadata": {},
   "outputs": [
    {
     "data": {
      "text/plain": [
       "29802321"
      ]
     },
     "execution_count": 84,
     "metadata": {},
     "output_type": "execute_result"
    }
   ],
   "source": [
    "nba[\"Salary\"].loc[\"Damian Lillard\"]"
   ]
  },
  {
   "cell_type": "code",
   "execution_count": 85,
   "id": "9851a04f",
   "metadata": {},
   "outputs": [
    {
     "data": {
      "text/plain": [
       "2033160"
      ]
     },
     "execution_count": 85,
     "metadata": {},
     "output_type": "execute_result"
    }
   ],
   "source": [
    "nba[\"Salary\"].iat[234]"
   ]
  },
  {
   "cell_type": "markdown",
   "id": "128ed38a",
   "metadata": {},
   "source": [
    "## Renaming columns or rows"
   ]
  },
  {
   "cell_type": "code",
   "execution_count": 86,
   "id": "b18bd350",
   "metadata": {},
   "outputs": [
    {
     "data": {
      "text/plain": [
       "Index(['Team', 'Position', 'Birthday', 'Salary'], dtype='object')"
      ]
     },
     "execution_count": 86,
     "metadata": {},
     "output_type": "execute_result"
    }
   ],
   "source": [
    "nba.columns"
   ]
  },
  {
   "cell_type": "code",
   "execution_count": 87,
   "id": "335b0898",
   "metadata": {},
   "outputs": [
    {
     "data": {
      "text/html": [
       "<div>\n",
       "<style scoped>\n",
       "    .dataframe tbody tr th:only-of-type {\n",
       "        vertical-align: middle;\n",
       "    }\n",
       "\n",
       "    .dataframe tbody tr th {\n",
       "        vertical-align: top;\n",
       "    }\n",
       "\n",
       "    .dataframe thead th {\n",
       "        text-align: right;\n",
       "    }\n",
       "</style>\n",
       "<table border=\"1\" class=\"dataframe\">\n",
       "  <thead>\n",
       "    <tr style=\"text-align: right;\">\n",
       "      <th></th>\n",
       "      <th>Team</th>\n",
       "      <th>Position</th>\n",
       "      <th>DoB</th>\n",
       "      <th>Pay</th>\n",
       "    </tr>\n",
       "    <tr>\n",
       "      <th>Name</th>\n",
       "      <th></th>\n",
       "      <th></th>\n",
       "      <th></th>\n",
       "      <th></th>\n",
       "    </tr>\n",
       "  </thead>\n",
       "  <tbody>\n",
       "    <tr>\n",
       "      <th>Shake Milton</th>\n",
       "      <td>Philadelphia 76ers</td>\n",
       "      <td>SG</td>\n",
       "      <td>1996-09-26</td>\n",
       "      <td>1445697</td>\n",
       "    </tr>\n",
       "  </tbody>\n",
       "</table>\n",
       "</div>"
      ],
      "text/plain": [
       "                            Team Position        DoB      Pay\n",
       "Name                                                         \n",
       "Shake Milton  Philadelphia 76ers       SG 1996-09-26  1445697"
      ]
     },
     "execution_count": 87,
     "metadata": {},
     "output_type": "execute_result"
    }
   ],
   "source": [
    "nba.columns = [\"Team\", \"Position\", \"DoB\", \"Pay\"]\n",
    "nba.head(1)"
   ]
  },
  {
   "cell_type": "code",
   "execution_count": 89,
   "id": "75732416",
   "metadata": {},
   "outputs": [],
   "source": [
    "nba = nba.rename(columns = { \"DoB\": \"Birthday\"})"
   ]
  },
  {
   "cell_type": "code",
   "execution_count": 90,
   "id": "f7f92ef3",
   "metadata": {},
   "outputs": [
    {
     "data": {
      "text/plain": [
       "Team            Houston Rockets\n",
       "Position                     PG\n",
       "Birthday    1989-08-26 00:00:00\n",
       "Pay                    38199000\n",
       "Name: James Harden, dtype: object"
      ]
     },
     "execution_count": 90,
     "metadata": {},
     "output_type": "execute_result"
    }
   ],
   "source": [
    "nba.loc[\"James Harden\"]"
   ]
  },
  {
   "cell_type": "code",
   "execution_count": 91,
   "id": "2c74aac2",
   "metadata": {},
   "outputs": [],
   "source": [
    "nba = nba.rename(\n",
    "    index = {\"James Harden\": \"The Beard\"}\n",
    ")"
   ]
  },
  {
   "cell_type": "code",
   "execution_count": 92,
   "id": "d9932ff0",
   "metadata": {},
   "outputs": [
    {
     "data": {
      "text/plain": [
       "Team            Houston Rockets\n",
       "Position                     PG\n",
       "Birthday    1989-08-26 00:00:00\n",
       "Pay                    38199000\n",
       "Name: The Beard, dtype: object"
      ]
     },
     "execution_count": 92,
     "metadata": {},
     "output_type": "execute_result"
    }
   ],
   "source": [
    "nba.loc[\"The Beard\"]"
   ]
  },
  {
   "cell_type": "markdown",
   "id": "fbeddd3d",
   "metadata": {},
   "source": [
    "## Resetting an index"
   ]
  },
  {
   "cell_type": "code",
   "execution_count": 94,
   "id": "0b12ea75",
   "metadata": {},
   "outputs": [
    {
     "data": {
      "text/html": [
       "<div>\n",
       "<style scoped>\n",
       "    .dataframe tbody tr th:only-of-type {\n",
       "        vertical-align: middle;\n",
       "    }\n",
       "\n",
       "    .dataframe tbody tr th {\n",
       "        vertical-align: top;\n",
       "    }\n",
       "\n",
       "    .dataframe thead th {\n",
       "        text-align: right;\n",
       "    }\n",
       "</style>\n",
       "<table border=\"1\" class=\"dataframe\">\n",
       "  <thead>\n",
       "    <tr style=\"text-align: right;\">\n",
       "      <th></th>\n",
       "      <th>Position</th>\n",
       "      <th>Birthday</th>\n",
       "      <th>Pay</th>\n",
       "    </tr>\n",
       "    <tr>\n",
       "      <th>Team</th>\n",
       "      <th></th>\n",
       "      <th></th>\n",
       "      <th></th>\n",
       "    </tr>\n",
       "  </thead>\n",
       "  <tbody>\n",
       "    <tr>\n",
       "      <th>Philadelphia 76ers</th>\n",
       "      <td>SG</td>\n",
       "      <td>1996-09-26</td>\n",
       "      <td>1445697</td>\n",
       "    </tr>\n",
       "    <tr>\n",
       "      <th>Detroit Pistons</th>\n",
       "      <td>PF</td>\n",
       "      <td>1995-09-27</td>\n",
       "      <td>1645357</td>\n",
       "    </tr>\n",
       "    <tr>\n",
       "      <th>Charlotte Hornets</th>\n",
       "      <td>PF</td>\n",
       "      <td>1998-08-23</td>\n",
       "      <td>3831840</td>\n",
       "    </tr>\n",
       "    <tr>\n",
       "      <th>Detroit Pistons</th>\n",
       "      <td>PG</td>\n",
       "      <td>1988-10-04</td>\n",
       "      <td>7317074</td>\n",
       "    </tr>\n",
       "    <tr>\n",
       "      <th>Philadelphia 76ers</th>\n",
       "      <td>G</td>\n",
       "      <td>1995-07-26</td>\n",
       "      <td>79568</td>\n",
       "    </tr>\n",
       "  </tbody>\n",
       "</table>\n",
       "</div>"
      ],
      "text/plain": [
       "                   Position   Birthday      Pay\n",
       "Team                                           \n",
       "Philadelphia 76ers       SG 1996-09-26  1445697\n",
       "Detroit Pistons          PF 1995-09-27  1645357\n",
       "Charlotte Hornets        PF 1998-08-23  3831840\n",
       "Detroit Pistons          PG 1988-10-04  7317074\n",
       "Philadelphia 76ers        G 1995-07-26    79568"
      ]
     },
     "execution_count": 94,
     "metadata": {},
     "output_type": "execute_result"
    }
   ],
   "source": [
    "# If we just set a new index, the old one, and its data, disappears\n",
    "nba.set_index(\"Team\").head()"
   ]
  },
  {
   "cell_type": "code",
   "execution_count": 95,
   "id": "4ed012a7",
   "metadata": {},
   "outputs": [
    {
     "data": {
      "text/html": [
       "<div>\n",
       "<style scoped>\n",
       "    .dataframe tbody tr th:only-of-type {\n",
       "        vertical-align: middle;\n",
       "    }\n",
       "\n",
       "    .dataframe tbody tr th {\n",
       "        vertical-align: top;\n",
       "    }\n",
       "\n",
       "    .dataframe thead th {\n",
       "        text-align: right;\n",
       "    }\n",
       "</style>\n",
       "<table border=\"1\" class=\"dataframe\">\n",
       "  <thead>\n",
       "    <tr style=\"text-align: right;\">\n",
       "      <th></th>\n",
       "      <th>Name</th>\n",
       "      <th>Team</th>\n",
       "      <th>Position</th>\n",
       "      <th>Birthday</th>\n",
       "      <th>Pay</th>\n",
       "    </tr>\n",
       "  </thead>\n",
       "  <tbody>\n",
       "    <tr>\n",
       "      <th>0</th>\n",
       "      <td>Shake Milton</td>\n",
       "      <td>Philadelphia 76ers</td>\n",
       "      <td>SG</td>\n",
       "      <td>1996-09-26</td>\n",
       "      <td>1445697</td>\n",
       "    </tr>\n",
       "    <tr>\n",
       "      <th>1</th>\n",
       "      <td>Christian Wood</td>\n",
       "      <td>Detroit Pistons</td>\n",
       "      <td>PF</td>\n",
       "      <td>1995-09-27</td>\n",
       "      <td>1645357</td>\n",
       "    </tr>\n",
       "    <tr>\n",
       "      <th>2</th>\n",
       "      <td>PJ Washington</td>\n",
       "      <td>Charlotte Hornets</td>\n",
       "      <td>PF</td>\n",
       "      <td>1998-08-23</td>\n",
       "      <td>3831840</td>\n",
       "    </tr>\n",
       "    <tr>\n",
       "      <th>3</th>\n",
       "      <td>Derrick Rose</td>\n",
       "      <td>Detroit Pistons</td>\n",
       "      <td>PG</td>\n",
       "      <td>1988-10-04</td>\n",
       "      <td>7317074</td>\n",
       "    </tr>\n",
       "    <tr>\n",
       "      <th>4</th>\n",
       "      <td>Marial Shayok</td>\n",
       "      <td>Philadelphia 76ers</td>\n",
       "      <td>G</td>\n",
       "      <td>1995-07-26</td>\n",
       "      <td>79568</td>\n",
       "    </tr>\n",
       "  </tbody>\n",
       "</table>\n",
       "</div>"
      ],
      "text/plain": [
       "             Name                Team Position   Birthday      Pay\n",
       "0    Shake Milton  Philadelphia 76ers       SG 1996-09-26  1445697\n",
       "1  Christian Wood     Detroit Pistons       PF 1995-09-27  1645357\n",
       "2   PJ Washington   Charlotte Hornets       PF 1998-08-23  3831840\n",
       "3    Derrick Rose     Detroit Pistons       PG 1988-10-04  7317074\n",
       "4   Marial Shayok  Philadelphia 76ers        G 1995-07-26    79568"
      ]
     },
     "execution_count": 95,
     "metadata": {},
     "output_type": "execute_result"
    }
   ],
   "source": [
    "# reset_index moves the current index to a column\n",
    "nba.reset_index().head()"
   ]
  },
  {
   "cell_type": "code",
   "execution_count": 96,
   "id": "ec5aa97b",
   "metadata": {},
   "outputs": [
    {
     "data": {
      "text/html": [
       "<div>\n",
       "<style scoped>\n",
       "    .dataframe tbody tr th:only-of-type {\n",
       "        vertical-align: middle;\n",
       "    }\n",
       "\n",
       "    .dataframe tbody tr th {\n",
       "        vertical-align: top;\n",
       "    }\n",
       "\n",
       "    .dataframe thead th {\n",
       "        text-align: right;\n",
       "    }\n",
       "</style>\n",
       "<table border=\"1\" class=\"dataframe\">\n",
       "  <thead>\n",
       "    <tr style=\"text-align: right;\">\n",
       "      <th></th>\n",
       "      <th>Name</th>\n",
       "      <th>Position</th>\n",
       "      <th>Birthday</th>\n",
       "      <th>Pay</th>\n",
       "    </tr>\n",
       "    <tr>\n",
       "      <th>Team</th>\n",
       "      <th></th>\n",
       "      <th></th>\n",
       "      <th></th>\n",
       "      <th></th>\n",
       "    </tr>\n",
       "  </thead>\n",
       "  <tbody>\n",
       "    <tr>\n",
       "      <th>Philadelphia 76ers</th>\n",
       "      <td>Shake Milton</td>\n",
       "      <td>SG</td>\n",
       "      <td>1996-09-26</td>\n",
       "      <td>1445697</td>\n",
       "    </tr>\n",
       "    <tr>\n",
       "      <th>Detroit Pistons</th>\n",
       "      <td>Christian Wood</td>\n",
       "      <td>PF</td>\n",
       "      <td>1995-09-27</td>\n",
       "      <td>1645357</td>\n",
       "    </tr>\n",
       "    <tr>\n",
       "      <th>Charlotte Hornets</th>\n",
       "      <td>PJ Washington</td>\n",
       "      <td>PF</td>\n",
       "      <td>1998-08-23</td>\n",
       "      <td>3831840</td>\n",
       "    </tr>\n",
       "    <tr>\n",
       "      <th>Detroit Pistons</th>\n",
       "      <td>Derrick Rose</td>\n",
       "      <td>PG</td>\n",
       "      <td>1988-10-04</td>\n",
       "      <td>7317074</td>\n",
       "    </tr>\n",
       "    <tr>\n",
       "      <th>Philadelphia 76ers</th>\n",
       "      <td>Marial Shayok</td>\n",
       "      <td>G</td>\n",
       "      <td>1995-07-26</td>\n",
       "      <td>79568</td>\n",
       "    </tr>\n",
       "  </tbody>\n",
       "</table>\n",
       "</div>"
      ],
      "text/plain": [
       "                              Name Position   Birthday      Pay\n",
       "Team                                                           \n",
       "Philadelphia 76ers    Shake Milton       SG 1996-09-26  1445697\n",
       "Detroit Pistons     Christian Wood       PF 1995-09-27  1645357\n",
       "Charlotte Hornets    PJ Washington       PF 1998-08-23  3831840\n",
       "Detroit Pistons       Derrick Rose       PG 1988-10-04  7317074\n",
       "Philadelphia 76ers   Marial Shayok        G 1995-07-26    79568"
      ]
     },
     "execution_count": 96,
     "metadata": {},
     "output_type": "execute_result"
    }
   ],
   "source": [
    "nba.reset_index().set_index(\"Team\").head()"
   ]
  },
  {
   "cell_type": "markdown",
   "id": "4605e41a",
   "metadata": {},
   "source": [
    "## Coding challenge"
   ]
  },
  {
   "cell_type": "code",
   "execution_count": 97,
   "id": "f08bf044",
   "metadata": {},
   "outputs": [],
   "source": [
    "data_dir = \"../../pandas-in-action/chapter_04_the_dataframe_object/\"\n",
    "nba_file = data_dir + \"nfl.csv\""
   ]
  },
  {
   "cell_type": "code",
   "execution_count": 108,
   "id": "14c963a3",
   "metadata": {},
   "outputs": [],
   "source": [
    "nfl = pd.read_csv(nba_file, parse_dates=[\"Birthday\"], index_col=\"Name\")"
   ]
  },
  {
   "cell_type": "code",
   "execution_count": 109,
   "id": "26065d3a",
   "metadata": {},
   "outputs": [
    {
     "data": {
      "text/html": [
       "<div>\n",
       "<style scoped>\n",
       "    .dataframe tbody tr th:only-of-type {\n",
       "        vertical-align: middle;\n",
       "    }\n",
       "\n",
       "    .dataframe tbody tr th {\n",
       "        vertical-align: top;\n",
       "    }\n",
       "\n",
       "    .dataframe thead th {\n",
       "        text-align: right;\n",
       "    }\n",
       "</style>\n",
       "<table border=\"1\" class=\"dataframe\">\n",
       "  <thead>\n",
       "    <tr style=\"text-align: right;\">\n",
       "      <th></th>\n",
       "      <th>Team</th>\n",
       "      <th>Position</th>\n",
       "      <th>Birthday</th>\n",
       "      <th>Salary</th>\n",
       "    </tr>\n",
       "    <tr>\n",
       "      <th>Name</th>\n",
       "      <th></th>\n",
       "      <th></th>\n",
       "      <th></th>\n",
       "      <th></th>\n",
       "    </tr>\n",
       "  </thead>\n",
       "  <tbody>\n",
       "    <tr>\n",
       "      <th>Tremon Smith</th>\n",
       "      <td>Philadelphia Eagles</td>\n",
       "      <td>RB</td>\n",
       "      <td>1996-07-20</td>\n",
       "      <td>570000</td>\n",
       "    </tr>\n",
       "    <tr>\n",
       "      <th>Shawn Williams</th>\n",
       "      <td>Cincinnati Bengals</td>\n",
       "      <td>SS</td>\n",
       "      <td>1991-05-13</td>\n",
       "      <td>3500000</td>\n",
       "    </tr>\n",
       "    <tr>\n",
       "      <th>Adam Butler</th>\n",
       "      <td>New England Patriots</td>\n",
       "      <td>DT</td>\n",
       "      <td>1994-04-12</td>\n",
       "      <td>645000</td>\n",
       "    </tr>\n",
       "    <tr>\n",
       "      <th>Derek Wolfe</th>\n",
       "      <td>Denver Broncos</td>\n",
       "      <td>DE</td>\n",
       "      <td>1990-02-24</td>\n",
       "      <td>8000000</td>\n",
       "    </tr>\n",
       "    <tr>\n",
       "      <th>Jake Ryan</th>\n",
       "      <td>Jacksonville Jaguars</td>\n",
       "      <td>OLB</td>\n",
       "      <td>1992-02-27</td>\n",
       "      <td>1000000</td>\n",
       "    </tr>\n",
       "  </tbody>\n",
       "</table>\n",
       "</div>"
      ],
      "text/plain": [
       "                                Team Position   Birthday   Salary\n",
       "Name                                                             \n",
       "Tremon Smith     Philadelphia Eagles       RB 1996-07-20   570000\n",
       "Shawn Williams    Cincinnati Bengals       SS 1991-05-13  3500000\n",
       "Adam Butler     New England Patriots       DT 1994-04-12   645000\n",
       "Derek Wolfe           Denver Broncos       DE 1990-02-24  8000000\n",
       "Jake Ryan       Jacksonville Jaguars      OLB 1992-02-27  1000000"
      ]
     },
     "execution_count": 109,
     "metadata": {},
     "output_type": "execute_result"
    }
   ],
   "source": [
    "nfl.head()"
   ]
  },
  {
   "cell_type": "code",
   "execution_count": 110,
   "id": "29f2e19f",
   "metadata": {},
   "outputs": [
    {
     "ename": "AttributeError",
     "evalue": "'DataFrame' object has no attribute 'Name'",
     "output_type": "error",
     "traceback": [
      "\u001b[0;31m---------------------------------------------------------------------------\u001b[0m",
      "\u001b[0;31mAttributeError\u001b[0m                            Traceback (most recent call last)",
      "Input \u001b[0;32mIn [110]\u001b[0m, in \u001b[0;36m<cell line: 1>\u001b[0;34m()\u001b[0m\n\u001b[0;32m----> 1\u001b[0m \u001b[43mnfl\u001b[49m\u001b[38;5;241;43m.\u001b[39;49m\u001b[43mName\u001b[49m\u001b[38;5;241m.\u001b[39mcount()\n",
      "File \u001b[0;32m/Applications/anaconda3/lib/python3.9/site-packages/pandas/core/generic.py:5575\u001b[0m, in \u001b[0;36mNDFrame.__getattr__\u001b[0;34m(self, name)\u001b[0m\n\u001b[1;32m   5568\u001b[0m \u001b[38;5;28;01mif\u001b[39;00m (\n\u001b[1;32m   5569\u001b[0m     name \u001b[38;5;129;01mnot\u001b[39;00m \u001b[38;5;129;01min\u001b[39;00m \u001b[38;5;28mself\u001b[39m\u001b[38;5;241m.\u001b[39m_internal_names_set\n\u001b[1;32m   5570\u001b[0m     \u001b[38;5;129;01mand\u001b[39;00m name \u001b[38;5;129;01mnot\u001b[39;00m \u001b[38;5;129;01min\u001b[39;00m \u001b[38;5;28mself\u001b[39m\u001b[38;5;241m.\u001b[39m_metadata\n\u001b[1;32m   5571\u001b[0m     \u001b[38;5;129;01mand\u001b[39;00m name \u001b[38;5;129;01mnot\u001b[39;00m \u001b[38;5;129;01min\u001b[39;00m \u001b[38;5;28mself\u001b[39m\u001b[38;5;241m.\u001b[39m_accessors\n\u001b[1;32m   5572\u001b[0m     \u001b[38;5;129;01mand\u001b[39;00m \u001b[38;5;28mself\u001b[39m\u001b[38;5;241m.\u001b[39m_info_axis\u001b[38;5;241m.\u001b[39m_can_hold_identifiers_and_holds_name(name)\n\u001b[1;32m   5573\u001b[0m ):\n\u001b[1;32m   5574\u001b[0m     \u001b[38;5;28;01mreturn\u001b[39;00m \u001b[38;5;28mself\u001b[39m[name]\n\u001b[0;32m-> 5575\u001b[0m \u001b[38;5;28;01mreturn\u001b[39;00m \u001b[38;5;28;43mobject\u001b[39;49m\u001b[38;5;241;43m.\u001b[39;49m\u001b[38;5;21;43m__getattribute__\u001b[39;49m\u001b[43m(\u001b[49m\u001b[38;5;28;43mself\u001b[39;49m\u001b[43m,\u001b[49m\u001b[43m \u001b[49m\u001b[43mname\u001b[49m\u001b[43m)\u001b[49m\n",
      "\u001b[0;31mAttributeError\u001b[0m: 'DataFrame' object has no attribute 'Name'"
     ]
    }
   ],
   "source": []
  },
  {
   "cell_type": "code",
   "execution_count": 115,
   "id": "cf19a167",
   "metadata": {},
   "outputs": [
    {
     "data": {
      "text/plain": [
       "1655"
      ]
     },
     "execution_count": 115,
     "metadata": {},
     "output_type": "execute_result"
    }
   ],
   "source": [
    "nfl.Team.value_counts().sum()"
   ]
  },
  {
   "cell_type": "code",
   "execution_count": 122,
   "id": "34322845",
   "metadata": {},
   "outputs": [
    {
     "data": {
      "text/html": [
       "<div>\n",
       "<style scoped>\n",
       "    .dataframe tbody tr th:only-of-type {\n",
       "        vertical-align: middle;\n",
       "    }\n",
       "\n",
       "    .dataframe tbody tr th {\n",
       "        vertical-align: top;\n",
       "    }\n",
       "\n",
       "    .dataframe thead th {\n",
       "        text-align: right;\n",
       "    }\n",
       "</style>\n",
       "<table border=\"1\" class=\"dataframe\">\n",
       "  <thead>\n",
       "    <tr style=\"text-align: right;\">\n",
       "      <th></th>\n",
       "      <th>Team</th>\n",
       "      <th>Position</th>\n",
       "      <th>Birthday</th>\n",
       "      <th>Salary</th>\n",
       "    </tr>\n",
       "    <tr>\n",
       "      <th>Name</th>\n",
       "      <th></th>\n",
       "      <th></th>\n",
       "      <th></th>\n",
       "      <th></th>\n",
       "    </tr>\n",
       "  </thead>\n",
       "  <tbody>\n",
       "    <tr>\n",
       "      <th>Kirk Cousins</th>\n",
       "      <td>Minnesota Vikings</td>\n",
       "      <td>QB</td>\n",
       "      <td>1988-08-19</td>\n",
       "      <td>27500000</td>\n",
       "    </tr>\n",
       "    <tr>\n",
       "      <th>Jameis Winston</th>\n",
       "      <td>Tampa Bay Buccaneers</td>\n",
       "      <td>QB</td>\n",
       "      <td>1994-01-06</td>\n",
       "      <td>20922000</td>\n",
       "    </tr>\n",
       "    <tr>\n",
       "      <th>Marcus Mariota</th>\n",
       "      <td>Tennessee Titans</td>\n",
       "      <td>QB</td>\n",
       "      <td>1993-10-30</td>\n",
       "      <td>20922000</td>\n",
       "    </tr>\n",
       "    <tr>\n",
       "      <th>Derek Carr</th>\n",
       "      <td>Oakland Raiders</td>\n",
       "      <td>QB</td>\n",
       "      <td>1991-03-28</td>\n",
       "      <td>19900000</td>\n",
       "    </tr>\n",
       "    <tr>\n",
       "      <th>Jimmy Garoppolo</th>\n",
       "      <td>San Francisco 49Ers</td>\n",
       "      <td>QB</td>\n",
       "      <td>1991-11-02</td>\n",
       "      <td>17200000</td>\n",
       "    </tr>\n",
       "  </tbody>\n",
       "</table>\n",
       "</div>"
      ],
      "text/plain": [
       "                                 Team Position   Birthday    Salary\n",
       "Name                                                               \n",
       "Kirk Cousins        Minnesota Vikings       QB 1988-08-19  27500000\n",
       "Jameis Winston   Tampa Bay Buccaneers       QB 1994-01-06  20922000\n",
       "Marcus Mariota       Tennessee Titans       QB 1993-10-30  20922000\n",
       "Derek Carr            Oakland Raiders       QB 1991-03-28  19900000\n",
       "Jimmy Garoppolo   San Francisco 49Ers       QB 1991-11-02  17200000"
      ]
     },
     "execution_count": 122,
     "metadata": {},
     "output_type": "execute_result"
    }
   ],
   "source": [
    "# 5 highest paid players\n",
    "nfl.sort_values([\"Salary\"], ascending=False).head()"
   ]
  },
  {
   "cell_type": "code",
   "execution_count": 123,
   "id": "bd780184",
   "metadata": {},
   "outputs": [
    {
     "data": {
      "text/html": [
       "<div>\n",
       "<style scoped>\n",
       "    .dataframe tbody tr th:only-of-type {\n",
       "        vertical-align: middle;\n",
       "    }\n",
       "\n",
       "    .dataframe tbody tr th {\n",
       "        vertical-align: top;\n",
       "    }\n",
       "\n",
       "    .dataframe thead th {\n",
       "        text-align: right;\n",
       "    }\n",
       "</style>\n",
       "<table border=\"1\" class=\"dataframe\">\n",
       "  <thead>\n",
       "    <tr style=\"text-align: right;\">\n",
       "      <th></th>\n",
       "      <th>Team</th>\n",
       "      <th>Position</th>\n",
       "      <th>Birthday</th>\n",
       "      <th>Salary</th>\n",
       "    </tr>\n",
       "    <tr>\n",
       "      <th>Name</th>\n",
       "      <th></th>\n",
       "      <th></th>\n",
       "      <th></th>\n",
       "      <th></th>\n",
       "    </tr>\n",
       "  </thead>\n",
       "  <tbody>\n",
       "    <tr>\n",
       "      <th>Chandler Jones</th>\n",
       "      <td>Arizona Cardinals</td>\n",
       "      <td>OLB</td>\n",
       "      <td>1990-02-27</td>\n",
       "      <td>16500000</td>\n",
       "    </tr>\n",
       "    <tr>\n",
       "      <th>Patrick Peterson</th>\n",
       "      <td>Arizona Cardinals</td>\n",
       "      <td>CB</td>\n",
       "      <td>1990-07-11</td>\n",
       "      <td>11000000</td>\n",
       "    </tr>\n",
       "    <tr>\n",
       "      <th>Larry Fitzgerald</th>\n",
       "      <td>Arizona Cardinals</td>\n",
       "      <td>WR</td>\n",
       "      <td>1983-08-31</td>\n",
       "      <td>11000000</td>\n",
       "    </tr>\n",
       "    <tr>\n",
       "      <th>David Johnson</th>\n",
       "      <td>Arizona Cardinals</td>\n",
       "      <td>RB</td>\n",
       "      <td>1991-12-16</td>\n",
       "      <td>5700000</td>\n",
       "    </tr>\n",
       "    <tr>\n",
       "      <th>Justin Pugh</th>\n",
       "      <td>Arizona Cardinals</td>\n",
       "      <td>G</td>\n",
       "      <td>1990-08-15</td>\n",
       "      <td>5000000</td>\n",
       "    </tr>\n",
       "    <tr>\n",
       "      <th>...</th>\n",
       "      <td>...</td>\n",
       "      <td>...</td>\n",
       "      <td>...</td>\n",
       "      <td>...</td>\n",
       "    </tr>\n",
       "    <tr>\n",
       "      <th>Ross Pierschbacher</th>\n",
       "      <td>Washington Redskins</td>\n",
       "      <td>C</td>\n",
       "      <td>1995-05-05</td>\n",
       "      <td>495000</td>\n",
       "    </tr>\n",
       "    <tr>\n",
       "      <th>Kelvin Harmon</th>\n",
       "      <td>Washington Redskins</td>\n",
       "      <td>WR</td>\n",
       "      <td>1996-12-15</td>\n",
       "      <td>495000</td>\n",
       "    </tr>\n",
       "    <tr>\n",
       "      <th>Wes Martin</th>\n",
       "      <td>Washington Redskins</td>\n",
       "      <td>G</td>\n",
       "      <td>1996-05-09</td>\n",
       "      <td>495000</td>\n",
       "    </tr>\n",
       "    <tr>\n",
       "      <th>Jimmy Moreland</th>\n",
       "      <td>Washington Redskins</td>\n",
       "      <td>CB</td>\n",
       "      <td>1995-08-26</td>\n",
       "      <td>495000</td>\n",
       "    </tr>\n",
       "    <tr>\n",
       "      <th>Jeremy Reaves</th>\n",
       "      <td>Washington Redskins</td>\n",
       "      <td>SS</td>\n",
       "      <td>1996-08-29</td>\n",
       "      <td>495000</td>\n",
       "    </tr>\n",
       "  </tbody>\n",
       "</table>\n",
       "<p>1655 rows × 4 columns</p>\n",
       "</div>"
      ],
      "text/plain": [
       "                                   Team Position   Birthday    Salary\n",
       "Name                                                                 \n",
       "Chandler Jones        Arizona Cardinals      OLB 1990-02-27  16500000\n",
       "Patrick Peterson      Arizona Cardinals       CB 1990-07-11  11000000\n",
       "Larry Fitzgerald      Arizona Cardinals       WR 1983-08-31  11000000\n",
       "David Johnson         Arizona Cardinals       RB 1991-12-16   5700000\n",
       "Justin Pugh           Arizona Cardinals        G 1990-08-15   5000000\n",
       "...                                 ...      ...        ...       ...\n",
       "Ross Pierschbacher  Washington Redskins        C 1995-05-05    495000\n",
       "Kelvin Harmon       Washington Redskins       WR 1996-12-15    495000\n",
       "Wes Martin          Washington Redskins        G 1996-05-09    495000\n",
       "Jimmy Moreland      Washington Redskins       CB 1995-08-26    495000\n",
       "Jeremy Reaves       Washington Redskins       SS 1996-08-29    495000\n",
       "\n",
       "[1655 rows x 4 columns]"
      ]
     },
     "execution_count": 123,
     "metadata": {},
     "output_type": "execute_result"
    }
   ],
   "source": [
    "# Sort by team asc, then slaray desc\n",
    "nfl.sort_values([\"Team\", \"Salary\"], ascending = [True, False])"
   ]
  }
 ],
 "metadata": {
  "kernelspec": {
   "display_name": "Python 3 (ipykernel)",
   "language": "python",
   "name": "python3"
  },
  "language_info": {
   "codemirror_mode": {
    "name": "ipython",
    "version": 3
   },
   "file_extension": ".py",
   "mimetype": "text/x-python",
   "name": "python",
   "nbconvert_exporter": "python",
   "pygments_lexer": "ipython3",
   "version": "3.9.12"
  }
 },
 "nbformat": 4,
 "nbformat_minor": 5
}

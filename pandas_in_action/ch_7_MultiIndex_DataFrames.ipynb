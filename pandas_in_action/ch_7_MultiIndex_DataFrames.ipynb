{
 "cells": [
  {
   "cell_type": "code",
   "execution_count": 1,
   "id": "92bb261d",
   "metadata": {},
   "outputs": [],
   "source": [
    "import pandas as pd"
   ]
  },
  {
   "cell_type": "code",
   "execution_count": 3,
   "id": "96a22cb2",
   "metadata": {},
   "outputs": [
    {
     "data": {
      "text/plain": [
       "('8809 Flair Square', 'Toddside', 'IL', '37206')"
      ]
     },
     "execution_count": 3,
     "metadata": {},
     "output_type": "execute_result"
    }
   ],
   "source": [
    "address = (\"8809 Flair Square\", \"Toddside\", \"IL\", \"37206\")\n",
    "address"
   ]
  },
  {
   "cell_type": "code",
   "execution_count": 4,
   "id": "13a2d959",
   "metadata": {},
   "outputs": [],
   "source": [
    "addresses = [\n",
    "    address,\n",
    "    (\"9901 Austin Street\", \"Todside\", \"IL\", \"37206\"),\n",
    "    (\"905 Hogan Quarter\", \"Franklin\", \"IL\", \"37206\"),\n",
    "]"
   ]
  },
  {
   "cell_type": "code",
   "execution_count": 6,
   "id": "8adf703e",
   "metadata": {},
   "outputs": [
    {
     "data": {
      "text/plain": [
       "MultiIndex([( '8809 Flair Square', 'Toddside', 'IL', '37206'),\n",
       "            ('9901 Austin Street',  'Todside', 'IL', '37206'),\n",
       "            ( '905 Hogan Quarter', 'Franklin', 'IL', '37206')],\n",
       "           )"
      ]
     },
     "execution_count": 6,
     "metadata": {},
     "output_type": "execute_result"
    }
   ],
   "source": [
    "pd.MultiIndex.from_tuples(addresses)"
   ]
  },
  {
   "cell_type": "code",
   "execution_count": 7,
   "id": "7cbbb05b",
   "metadata": {},
   "outputs": [
    {
     "data": {
      "text/plain": [
       "MultiIndex([( '8809 Flair Square', 'Toddside', 'IL', '37206'),\n",
       "            ('9901 Austin Street',  'Todside', 'IL', '37206'),\n",
       "            ( '905 Hogan Quarter', 'Franklin', 'IL', '37206')],\n",
       "           names=['Street', 'City', 'State', 'Zip'])"
      ]
     },
     "execution_count": 7,
     "metadata": {},
     "output_type": "execute_result"
    }
   ],
   "source": [
    "row_index = pd.MultiIndex.from_tuples(\n",
    "    tuples = addresses,\n",
    "    names = [\"Street\", \"City\", \"State\", \"Zip\"]\n",
    ")\n",
    "row_index"
   ]
  },
  {
   "cell_type": "code",
   "execution_count": 9,
   "id": "da088d66",
   "metadata": {},
   "outputs": [
    {
     "data": {
      "text/html": [
       "<div>\n",
       "<style scoped>\n",
       "    .dataframe tbody tr th:only-of-type {\n",
       "        vertical-align: middle;\n",
       "    }\n",
       "\n",
       "    .dataframe tbody tr th {\n",
       "        vertical-align: top;\n",
       "    }\n",
       "\n",
       "    .dataframe thead th {\n",
       "        text-align: right;\n",
       "    }\n",
       "</style>\n",
       "<table border=\"1\" class=\"dataframe\">\n",
       "  <thead>\n",
       "    <tr style=\"text-align: right;\">\n",
       "      <th></th>\n",
       "      <th></th>\n",
       "      <th></th>\n",
       "      <th></th>\n",
       "      <th>Schools</th>\n",
       "      <th>Cost of Living</th>\n",
       "    </tr>\n",
       "    <tr>\n",
       "      <th>Street</th>\n",
       "      <th>City</th>\n",
       "      <th>State</th>\n",
       "      <th>Zip</th>\n",
       "      <th></th>\n",
       "      <th></th>\n",
       "    </tr>\n",
       "  </thead>\n",
       "  <tbody>\n",
       "    <tr>\n",
       "      <th>8809 Flair Square</th>\n",
       "      <th>Toddside</th>\n",
       "      <th>IL</th>\n",
       "      <th>37206</th>\n",
       "      <td>A</td>\n",
       "      <td>B+</td>\n",
       "    </tr>\n",
       "    <tr>\n",
       "      <th>9901 Austin Street</th>\n",
       "      <th>Todside</th>\n",
       "      <th>IL</th>\n",
       "      <th>37206</th>\n",
       "      <td>C+</td>\n",
       "      <td>C</td>\n",
       "    </tr>\n",
       "    <tr>\n",
       "      <th>905 Hogan Quarter</th>\n",
       "      <th>Franklin</th>\n",
       "      <th>IL</th>\n",
       "      <th>37206</th>\n",
       "      <td>D-</td>\n",
       "      <td>A</td>\n",
       "    </tr>\n",
       "  </tbody>\n",
       "</table>\n",
       "</div>"
      ],
      "text/plain": [
       "                                        Schools Cost of Living\n",
       "Street             City     State Zip                         \n",
       "8809 Flair Square  Toddside IL    37206       A             B+\n",
       "9901 Austin Street Todside  IL    37206      C+              C\n",
       "905 Hogan Quarter  Franklin IL    37206      D-              A"
      ]
     },
     "execution_count": 9,
     "metadata": {},
     "output_type": "execute_result"
    }
   ],
   "source": [
    "data = [\n",
    "    [\"A\", \"B+\"],\n",
    "    [\"C+\", \"C\"],\n",
    "    [\"D-\", \"A\"],\n",
    "]\n",
    "\n",
    "columns = [\"Schools\", \"Cost of Living\"]\n",
    "\n",
    "area_grades = pd.DataFrame(\n",
    "    data = data, index = row_index, columns = columns\n",
    ")\n",
    "\n",
    "area_grades"
   ]
  },
  {
   "cell_type": "code",
   "execution_count": 10,
   "id": "ee6a8311",
   "metadata": {},
   "outputs": [
    {
     "data": {
      "text/plain": [
       "Index(['Schools', 'Cost of Living'], dtype='object')"
      ]
     },
     "execution_count": 10,
     "metadata": {},
     "output_type": "execute_result"
    }
   ],
   "source": [
    "area_grades.columns"
   ]
  },
  {
   "cell_type": "code",
   "execution_count": 11,
   "id": "f61f656c",
   "metadata": {},
   "outputs": [
    {
     "data": {
      "text/plain": [
       "MultiIndex([( 'Culture', 'Restaurants'),\n",
       "            ( 'Culture',     'Museums'),\n",
       "            ('Services',      'Police'),\n",
       "            ('Services',     'Schools')],\n",
       "           )"
      ]
     },
     "execution_count": 11,
     "metadata": {},
     "output_type": "execute_result"
    }
   ],
   "source": [
    "column_index = pd.MultiIndex.from_tuples(\n",
    "    [\n",
    "        (\"Culture\", \"Restaurants\"),\n",
    "        (\"Culture\", \"Museums\"),\n",
    "        (\"Services\", \"Police\"),\n",
    "        (\"Services\", \"Schools\")\n",
    "    ]\n",
    ")\n",
    "column_index"
   ]
  },
  {
   "cell_type": "code",
   "execution_count": 12,
   "id": "2afcc544",
   "metadata": {},
   "outputs": [],
   "source": [
    "data = [\n",
    "    [\"C-\", \"B+\", \"B-\", \"A\"],\n",
    "    [\"D+\", \"C\", \"A\", \"C+\"],\n",
    "    [\"A-\", \"A\", \"D+\", \"F\"]\n",
    "]"
   ]
  },
  {
   "cell_type": "code",
   "execution_count": 13,
   "id": "86626d18",
   "metadata": {},
   "outputs": [
    {
     "data": {
      "text/html": [
       "<div>\n",
       "<style scoped>\n",
       "    .dataframe tbody tr th:only-of-type {\n",
       "        vertical-align: middle;\n",
       "    }\n",
       "\n",
       "    .dataframe tbody tr th {\n",
       "        vertical-align: top;\n",
       "    }\n",
       "\n",
       "    .dataframe thead tr th {\n",
       "        text-align: left;\n",
       "    }\n",
       "\n",
       "    .dataframe thead tr:last-of-type th {\n",
       "        text-align: right;\n",
       "    }\n",
       "</style>\n",
       "<table border=\"1\" class=\"dataframe\">\n",
       "  <thead>\n",
       "    <tr>\n",
       "      <th></th>\n",
       "      <th></th>\n",
       "      <th></th>\n",
       "      <th></th>\n",
       "      <th colspan=\"2\" halign=\"left\">Culture</th>\n",
       "      <th colspan=\"2\" halign=\"left\">Services</th>\n",
       "    </tr>\n",
       "    <tr>\n",
       "      <th></th>\n",
       "      <th></th>\n",
       "      <th></th>\n",
       "      <th></th>\n",
       "      <th>Restaurants</th>\n",
       "      <th>Museums</th>\n",
       "      <th>Police</th>\n",
       "      <th>Schools</th>\n",
       "    </tr>\n",
       "    <tr>\n",
       "      <th>Street</th>\n",
       "      <th>City</th>\n",
       "      <th>State</th>\n",
       "      <th>Zip</th>\n",
       "      <th></th>\n",
       "      <th></th>\n",
       "      <th></th>\n",
       "      <th></th>\n",
       "    </tr>\n",
       "  </thead>\n",
       "  <tbody>\n",
       "    <tr>\n",
       "      <th>8809 Flair Square</th>\n",
       "      <th>Toddside</th>\n",
       "      <th>IL</th>\n",
       "      <th>37206</th>\n",
       "      <td>C-</td>\n",
       "      <td>B+</td>\n",
       "      <td>B-</td>\n",
       "      <td>A</td>\n",
       "    </tr>\n",
       "    <tr>\n",
       "      <th>9901 Austin Street</th>\n",
       "      <th>Todside</th>\n",
       "      <th>IL</th>\n",
       "      <th>37206</th>\n",
       "      <td>D+</td>\n",
       "      <td>C</td>\n",
       "      <td>A</td>\n",
       "      <td>C+</td>\n",
       "    </tr>\n",
       "    <tr>\n",
       "      <th>905 Hogan Quarter</th>\n",
       "      <th>Franklin</th>\n",
       "      <th>IL</th>\n",
       "      <th>37206</th>\n",
       "      <td>A-</td>\n",
       "      <td>A</td>\n",
       "      <td>D+</td>\n",
       "      <td>F</td>\n",
       "    </tr>\n",
       "  </tbody>\n",
       "</table>\n",
       "</div>"
      ],
      "text/plain": [
       "                                            Culture         Services        \n",
       "                                        Restaurants Museums   Police Schools\n",
       "Street             City     State Zip                                       \n",
       "8809 Flair Square  Toddside IL    37206          C-      B+       B-       A\n",
       "9901 Austin Street Todside  IL    37206          D+       C        A      C+\n",
       "905 Hogan Quarter  Franklin IL    37206          A-       A       D+       F"
      ]
     },
     "execution_count": 13,
     "metadata": {},
     "output_type": "execute_result"
    }
   ],
   "source": [
    "pd.DataFrame(\n",
    "    data = data, index = row_index, columns = column_index\n",
    ")"
   ]
  },
  {
   "cell_type": "markdown",
   "id": "5f632f5d",
   "metadata": {},
   "source": [
    "## 7.2 MultiIndex DataFrames"
   ]
  },
  {
   "cell_type": "code",
   "execution_count": 16,
   "id": "9be7d8e3",
   "metadata": {},
   "outputs": [
    {
     "data": {
      "text/html": [
       "<div>\n",
       "<style scoped>\n",
       "    .dataframe tbody tr th:only-of-type {\n",
       "        vertical-align: middle;\n",
       "    }\n",
       "\n",
       "    .dataframe tbody tr th {\n",
       "        vertical-align: top;\n",
       "    }\n",
       "\n",
       "    .dataframe thead th {\n",
       "        text-align: right;\n",
       "    }\n",
       "</style>\n",
       "<table border=\"1\" class=\"dataframe\">\n",
       "  <thead>\n",
       "    <tr style=\"text-align: right;\">\n",
       "      <th></th>\n",
       "      <th>Unnamed: 0</th>\n",
       "      <th>Unnamed: 1</th>\n",
       "      <th>Unnamed: 2</th>\n",
       "      <th>Culture</th>\n",
       "      <th>Culture.1</th>\n",
       "      <th>Services</th>\n",
       "      <th>Services.1</th>\n",
       "    </tr>\n",
       "  </thead>\n",
       "  <tbody>\n",
       "    <tr>\n",
       "      <th>0</th>\n",
       "      <td>NaN</td>\n",
       "      <td>NaN</td>\n",
       "      <td>NaN</td>\n",
       "      <td>Restaurants</td>\n",
       "      <td>Museums</td>\n",
       "      <td>Police</td>\n",
       "      <td>Schools</td>\n",
       "    </tr>\n",
       "    <tr>\n",
       "      <th>1</th>\n",
       "      <td>State</td>\n",
       "      <td>City</td>\n",
       "      <td>Street</td>\n",
       "      <td>NaN</td>\n",
       "      <td>NaN</td>\n",
       "      <td>NaN</td>\n",
       "      <td>NaN</td>\n",
       "    </tr>\n",
       "    <tr>\n",
       "      <th>2</th>\n",
       "      <td>MO</td>\n",
       "      <td>Fisherborough</td>\n",
       "      <td>244 Tracy View</td>\n",
       "      <td>C+</td>\n",
       "      <td>F</td>\n",
       "      <td>D-</td>\n",
       "      <td>A+</td>\n",
       "    </tr>\n",
       "    <tr>\n",
       "      <th>3</th>\n",
       "      <td>SD</td>\n",
       "      <td>Port Curtisville</td>\n",
       "      <td>446 Cynthia Inlet</td>\n",
       "      <td>C-</td>\n",
       "      <td>B</td>\n",
       "      <td>B</td>\n",
       "      <td>D+</td>\n",
       "    </tr>\n",
       "    <tr>\n",
       "      <th>4</th>\n",
       "      <td>WV</td>\n",
       "      <td>Jimenezview</td>\n",
       "      <td>432 John Common</td>\n",
       "      <td>A</td>\n",
       "      <td>A+</td>\n",
       "      <td>F</td>\n",
       "      <td>B</td>\n",
       "    </tr>\n",
       "  </tbody>\n",
       "</table>\n",
       "</div>"
      ],
      "text/plain": [
       "  Unnamed: 0        Unnamed: 1         Unnamed: 2      Culture Culture.1  \\\n",
       "0        NaN               NaN                NaN  Restaurants   Museums   \n",
       "1      State              City             Street          NaN       NaN   \n",
       "2         MO     Fisherborough     244 Tracy View           C+         F   \n",
       "3         SD  Port Curtisville  446 Cynthia Inlet           C-         B   \n",
       "4         WV       Jimenezview    432 John Common            A        A+   \n",
       "\n",
       "  Services Services.1  \n",
       "0   Police    Schools  \n",
       "1      NaN        NaN  \n",
       "2       D-         A+  \n",
       "3        B         D+  \n",
       "4        F          B  "
      ]
     },
     "execution_count": 16,
     "metadata": {},
     "output_type": "execute_result"
    }
   ],
   "source": [
    "neighborhoods = pd.read_csv(\"neighborhoods.csv\")\n",
    "neighborhoods.head()"
   ]
  },
  {
   "cell_type": "code",
   "execution_count": 17,
   "id": "e3d6c731",
   "metadata": {},
   "outputs": [
    {
     "data": {
      "text/html": [
       "<div>\n",
       "<style scoped>\n",
       "    .dataframe tbody tr th:only-of-type {\n",
       "        vertical-align: middle;\n",
       "    }\n",
       "\n",
       "    .dataframe tbody tr th {\n",
       "        vertical-align: top;\n",
       "    }\n",
       "\n",
       "    .dataframe thead th {\n",
       "        text-align: right;\n",
       "    }\n",
       "</style>\n",
       "<table border=\"1\" class=\"dataframe\">\n",
       "  <thead>\n",
       "    <tr style=\"text-align: right;\">\n",
       "      <th></th>\n",
       "      <th></th>\n",
       "      <th></th>\n",
       "      <th>Culture</th>\n",
       "      <th>Culture.1</th>\n",
       "      <th>Services</th>\n",
       "      <th>Services.1</th>\n",
       "    </tr>\n",
       "  </thead>\n",
       "  <tbody>\n",
       "    <tr>\n",
       "      <th>NaN</th>\n",
       "      <th>NaN</th>\n",
       "      <th>NaN</th>\n",
       "      <td>Restaurants</td>\n",
       "      <td>Museums</td>\n",
       "      <td>Police</td>\n",
       "      <td>Schools</td>\n",
       "    </tr>\n",
       "    <tr>\n",
       "      <th>State</th>\n",
       "      <th>City</th>\n",
       "      <th>Street</th>\n",
       "      <td>NaN</td>\n",
       "      <td>NaN</td>\n",
       "      <td>NaN</td>\n",
       "      <td>NaN</td>\n",
       "    </tr>\n",
       "    <tr>\n",
       "      <th>MO</th>\n",
       "      <th>Fisherborough</th>\n",
       "      <th>244 Tracy View</th>\n",
       "      <td>C+</td>\n",
       "      <td>F</td>\n",
       "      <td>D-</td>\n",
       "      <td>A+</td>\n",
       "    </tr>\n",
       "    <tr>\n",
       "      <th>SD</th>\n",
       "      <th>Port Curtisville</th>\n",
       "      <th>446 Cynthia Inlet</th>\n",
       "      <td>C-</td>\n",
       "      <td>B</td>\n",
       "      <td>B</td>\n",
       "      <td>D+</td>\n",
       "    </tr>\n",
       "    <tr>\n",
       "      <th>WV</th>\n",
       "      <th>Jimenezview</th>\n",
       "      <th>432 John Common</th>\n",
       "      <td>A</td>\n",
       "      <td>A+</td>\n",
       "      <td>F</td>\n",
       "      <td>B</td>\n",
       "    </tr>\n",
       "  </tbody>\n",
       "</table>\n",
       "</div>"
      ],
      "text/plain": [
       "                                              Culture Culture.1 Services  \\\n",
       "NaN   NaN              NaN                Restaurants   Museums   Police   \n",
       "State City             Street                     NaN       NaN      NaN   \n",
       "MO    Fisherborough    244 Tracy View              C+         F       D-   \n",
       "SD    Port Curtisville 446 Cynthia Inlet           C-         B        B   \n",
       "WV    Jimenezview      432 John Common              A        A+        F   \n",
       "\n",
       "                                         Services.1  \n",
       "NaN   NaN              NaN                  Schools  \n",
       "State City             Street                   NaN  \n",
       "MO    Fisherborough    244 Tracy View            A+  \n",
       "SD    Port Curtisville 446 Cynthia Inlet         D+  \n",
       "WV    Jimenezview      432 John Common            B  "
      ]
     },
     "execution_count": 17,
     "metadata": {},
     "output_type": "execute_result"
    }
   ],
   "source": [
    "neighborhoods = pd.read_csv (\n",
    "    \"neighborhoods.csv\",\n",
    "    index_col = [0, 1, 2]\n",
    ")\n",
    "neighborhoods.head()"
   ]
  },
  {
   "cell_type": "code",
   "execution_count": 18,
   "id": "25353c5e",
   "metadata": {},
   "outputs": [
    {
     "data": {
      "text/html": [
       "<div>\n",
       "<style scoped>\n",
       "    .dataframe tbody tr th:only-of-type {\n",
       "        vertical-align: middle;\n",
       "    }\n",
       "\n",
       "    .dataframe tbody tr th {\n",
       "        vertical-align: top;\n",
       "    }\n",
       "\n",
       "    .dataframe thead tr th {\n",
       "        text-align: left;\n",
       "    }\n",
       "\n",
       "    .dataframe thead tr:last-of-type th {\n",
       "        text-align: right;\n",
       "    }\n",
       "</style>\n",
       "<table border=\"1\" class=\"dataframe\">\n",
       "  <thead>\n",
       "    <tr>\n",
       "      <th></th>\n",
       "      <th></th>\n",
       "      <th></th>\n",
       "      <th colspan=\"2\" halign=\"left\">Culture</th>\n",
       "      <th colspan=\"2\" halign=\"left\">Services</th>\n",
       "    </tr>\n",
       "    <tr>\n",
       "      <th></th>\n",
       "      <th></th>\n",
       "      <th></th>\n",
       "      <th>Restaurants</th>\n",
       "      <th>Museums</th>\n",
       "      <th>Police</th>\n",
       "      <th>Schools</th>\n",
       "    </tr>\n",
       "    <tr>\n",
       "      <th>State</th>\n",
       "      <th>City</th>\n",
       "      <th>Street</th>\n",
       "      <th></th>\n",
       "      <th></th>\n",
       "      <th></th>\n",
       "      <th></th>\n",
       "    </tr>\n",
       "  </thead>\n",
       "  <tbody>\n",
       "    <tr>\n",
       "      <th>MO</th>\n",
       "      <th>Fisherborough</th>\n",
       "      <th>244 Tracy View</th>\n",
       "      <td>C+</td>\n",
       "      <td>F</td>\n",
       "      <td>D-</td>\n",
       "      <td>A+</td>\n",
       "    </tr>\n",
       "    <tr>\n",
       "      <th>SD</th>\n",
       "      <th>Port Curtisville</th>\n",
       "      <th>446 Cynthia Inlet</th>\n",
       "      <td>C-</td>\n",
       "      <td>B</td>\n",
       "      <td>B</td>\n",
       "      <td>D+</td>\n",
       "    </tr>\n",
       "    <tr>\n",
       "      <th>WV</th>\n",
       "      <th>Jimenezview</th>\n",
       "      <th>432 John Common</th>\n",
       "      <td>A</td>\n",
       "      <td>A+</td>\n",
       "      <td>F</td>\n",
       "      <td>B</td>\n",
       "    </tr>\n",
       "    <tr>\n",
       "      <th>AK</th>\n",
       "      <th>Stevenshire</th>\n",
       "      <th>238 Andrew Rue</th>\n",
       "      <td>D-</td>\n",
       "      <td>A</td>\n",
       "      <td>A-</td>\n",
       "      <td>A-</td>\n",
       "    </tr>\n",
       "    <tr>\n",
       "      <th>ND</th>\n",
       "      <th>New Joshuaport</th>\n",
       "      <th>877 Walter Neck</th>\n",
       "      <td>D+</td>\n",
       "      <td>C-</td>\n",
       "      <td>B</td>\n",
       "      <td>B</td>\n",
       "    </tr>\n",
       "  </tbody>\n",
       "</table>\n",
       "</div>"
      ],
      "text/plain": [
       "                                             Culture         Services        \n",
       "                                         Restaurants Museums   Police Schools\n",
       "State City             Street                                                \n",
       "MO    Fisherborough    244 Tracy View             C+       F       D-      A+\n",
       "SD    Port Curtisville 446 Cynthia Inlet          C-       B        B      D+\n",
       "WV    Jimenezview      432 John Common             A      A+        F       B\n",
       "AK    Stevenshire      238 Andrew Rue             D-       A       A-      A-\n",
       "ND    New Joshuaport   877 Walter Neck            D+      C-        B       B"
      ]
     },
     "execution_count": 18,
     "metadata": {},
     "output_type": "execute_result"
    }
   ],
   "source": [
    "neighborhoods = pd.read_csv (\n",
    "    \"neighborhoods.csv\",\n",
    "    index_col = [0, 1, 2],\n",
    "    header = [0, 1]\n",
    ")\n",
    "neighborhoods.head()"
   ]
  },
  {
   "cell_type": "code",
   "execution_count": 19,
   "id": "d9a96960",
   "metadata": {},
   "outputs": [
    {
     "name": "stdout",
     "output_type": "stream",
     "text": [
      "<class 'pandas.core.frame.DataFrame'>\n",
      "MultiIndex: 251 entries, ('MO', 'Fisherborough', '244 Tracy View') to ('NE', 'South Kennethmouth', '346 Wallace Pass')\n",
      "Data columns (total 4 columns):\n",
      " #   Column                  Non-Null Count  Dtype \n",
      "---  ------                  --------------  ----- \n",
      " 0   (Culture, Restaurants)  251 non-null    object\n",
      " 1   (Culture, Museums)      251 non-null    object\n",
      " 2   (Services, Police)      251 non-null    object\n",
      " 3   (Services, Schools)     251 non-null    object\n",
      "dtypes: object(4)\n",
      "memory usage: 27.2+ KB\n"
     ]
    }
   ],
   "source": [
    "neighborhoods.info()"
   ]
  },
  {
   "cell_type": "code",
   "execution_count": 21,
   "id": "c9abf335",
   "metadata": {},
   "outputs": [
    {
     "data": {
      "text/plain": [
       "MultiIndex([('MO',      'Fisherborough',        '244 Tracy View'),\n",
       "            ('SD',   'Port Curtisville',     '446 Cynthia Inlet'),\n",
       "            ('WV',        'Jimenezview',       '432 John Common'),\n",
       "            ('AK',        'Stevenshire',        '238 Andrew Rue'),\n",
       "            ('ND',     'New Joshuaport',       '877 Walter Neck'),\n",
       "            ('ID',         'Wellsville',   '696 Weber Stravenue'),\n",
       "            ('TN',          'Jodiburgh',    '285 Justin Corners'),\n",
       "            ('DC',   'Lake Christopher',   '607 Montoya Harbors'),\n",
       "            ('OH',          'Port Mike',      '041 Michael Neck'),\n",
       "            ('ND',         'Hardyburgh', '550 Gilmore Mountains'),\n",
       "            ...\n",
       "            ('AK',          'Scottstad',      '114 Jones Garden'),\n",
       "            ('IA',    'Port Willieport',  '320 Jennifer Mission'),\n",
       "            ('ME',         'Port Linda',        '692 Hill Glens'),\n",
       "            ('KS',         'Kaylamouth',       '483 Freeman Via'),\n",
       "            ('WA',     'Port Shawnfort',    '691 Winters Bridge'),\n",
       "            ('MI',      'North Matthew',      '055 Clayton Isle'),\n",
       "            ('MT',            'Chadton',     '601 Richards Road'),\n",
       "            ('SC',          'Diazmouth',     '385 Robin Harbors'),\n",
       "            ('VA',         'Laurentown',     '255 Gonzalez Land'),\n",
       "            ('NE', 'South Kennethmouth',      '346 Wallace Pass')],\n",
       "           names=['State', 'City', 'Street'], length=251)"
      ]
     },
     "execution_count": 21,
     "metadata": {},
     "output_type": "execute_result"
    }
   ],
   "source": [
    "neighborhoods.index"
   ]
  },
  {
   "cell_type": "code",
   "execution_count": 22,
   "id": "c5b47875",
   "metadata": {},
   "outputs": [
    {
     "data": {
      "text/plain": [
       "MultiIndex([( 'Culture', 'Restaurants'),\n",
       "            ( 'Culture',     'Museums'),\n",
       "            ('Services',      'Police'),\n",
       "            ('Services',     'Schools')],\n",
       "           )"
      ]
     },
     "execution_count": 22,
     "metadata": {},
     "output_type": "execute_result"
    }
   ],
   "source": [
    "neighborhoods.columns"
   ]
  },
  {
   "cell_type": "code",
   "execution_count": 23,
   "id": "8339ce8e",
   "metadata": {},
   "outputs": [
    {
     "data": {
      "text/plain": [
       "Index(['Fisherborough', 'Port Curtisville', 'Jimenezview', 'Stevenshire',\n",
       "       'New Joshuaport', 'Wellsville', 'Jodiburgh', 'Lake Christopher',\n",
       "       'Port Mike', 'Hardyburgh',\n",
       "       ...\n",
       "       'Scottstad', 'Port Willieport', 'Port Linda', 'Kaylamouth',\n",
       "       'Port Shawnfort', 'North Matthew', 'Chadton', 'Diazmouth', 'Laurentown',\n",
       "       'South Kennethmouth'],\n",
       "      dtype='object', name='City', length=251)"
      ]
     },
     "execution_count": 23,
     "metadata": {},
     "output_type": "execute_result"
    }
   ],
   "source": [
    "# The two lines below are equivalent\n",
    "neighborhoods.index.get_level_values(1)\n",
    "neighborhoods.index.get_level_values(\"City\")"
   ]
  },
  {
   "cell_type": "code",
   "execution_count": 24,
   "id": "4c468a77",
   "metadata": {},
   "outputs": [
    {
     "data": {
      "text/plain": [
       "FrozenList([None, None])"
      ]
     },
     "execution_count": 24,
     "metadata": {},
     "output_type": "execute_result"
    }
   ],
   "source": [
    "neighborhoods.columns.names"
   ]
  },
  {
   "cell_type": "code",
   "execution_count": 25,
   "id": "ade03172",
   "metadata": {},
   "outputs": [
    {
     "data": {
      "text/plain": [
       "FrozenList(['Category', 'Subcategory'])"
      ]
     },
     "execution_count": 25,
     "metadata": {},
     "output_type": "execute_result"
    }
   ],
   "source": [
    "neighborhoods.columns.names = [\"Category\", \"Subcategory\"]\n",
    "neighborhoods.columns.names"
   ]
  },
  {
   "cell_type": "code",
   "execution_count": 26,
   "id": "fecf781b",
   "metadata": {},
   "outputs": [
    {
     "data": {
      "text/html": [
       "<div>\n",
       "<style scoped>\n",
       "    .dataframe tbody tr th:only-of-type {\n",
       "        vertical-align: middle;\n",
       "    }\n",
       "\n",
       "    .dataframe tbody tr th {\n",
       "        vertical-align: top;\n",
       "    }\n",
       "\n",
       "    .dataframe thead tr th {\n",
       "        text-align: left;\n",
       "    }\n",
       "\n",
       "    .dataframe thead tr:last-of-type th {\n",
       "        text-align: right;\n",
       "    }\n",
       "</style>\n",
       "<table border=\"1\" class=\"dataframe\">\n",
       "  <thead>\n",
       "    <tr>\n",
       "      <th></th>\n",
       "      <th></th>\n",
       "      <th>Category</th>\n",
       "      <th colspan=\"2\" halign=\"left\">Culture</th>\n",
       "      <th colspan=\"2\" halign=\"left\">Services</th>\n",
       "    </tr>\n",
       "    <tr>\n",
       "      <th></th>\n",
       "      <th></th>\n",
       "      <th>Subcategory</th>\n",
       "      <th>Restaurants</th>\n",
       "      <th>Museums</th>\n",
       "      <th>Police</th>\n",
       "      <th>Schools</th>\n",
       "    </tr>\n",
       "    <tr>\n",
       "      <th>State</th>\n",
       "      <th>City</th>\n",
       "      <th>Street</th>\n",
       "      <th></th>\n",
       "      <th></th>\n",
       "      <th></th>\n",
       "      <th></th>\n",
       "    </tr>\n",
       "  </thead>\n",
       "  <tbody>\n",
       "    <tr>\n",
       "      <th>MO</th>\n",
       "      <th>Fisherborough</th>\n",
       "      <th>244 Tracy View</th>\n",
       "      <td>C+</td>\n",
       "      <td>F</td>\n",
       "      <td>D-</td>\n",
       "      <td>A+</td>\n",
       "    </tr>\n",
       "    <tr>\n",
       "      <th>SD</th>\n",
       "      <th>Port Curtisville</th>\n",
       "      <th>446 Cynthia Inlet</th>\n",
       "      <td>C-</td>\n",
       "      <td>B</td>\n",
       "      <td>B</td>\n",
       "      <td>D+</td>\n",
       "    </tr>\n",
       "    <tr>\n",
       "      <th>WV</th>\n",
       "      <th>Jimenezview</th>\n",
       "      <th>432 John Common</th>\n",
       "      <td>A</td>\n",
       "      <td>A+</td>\n",
       "      <td>F</td>\n",
       "      <td>B</td>\n",
       "    </tr>\n",
       "  </tbody>\n",
       "</table>\n",
       "</div>"
      ],
      "text/plain": [
       "Category                                     Culture         Services        \n",
       "Subcategory                              Restaurants Museums   Police Schools\n",
       "State City             Street                                                \n",
       "MO    Fisherborough    244 Tracy View             C+       F       D-      A+\n",
       "SD    Port Curtisville 446 Cynthia Inlet          C-       B        B      D+\n",
       "WV    Jimenezview      432 John Common             A      A+        F       B"
      ]
     },
     "execution_count": 26,
     "metadata": {},
     "output_type": "execute_result"
    }
   ],
   "source": [
    "neighborhoods.head(3)"
   ]
  },
  {
   "cell_type": "code",
   "execution_count": 28,
   "id": "933000cd",
   "metadata": {},
   "outputs": [
    {
     "data": {
      "text/plain": [
       "Index(['Culture', 'Culture', 'Services', 'Services'], dtype='object', name='Category')"
      ]
     },
     "execution_count": 28,
     "metadata": {},
     "output_type": "execute_result"
    }
   ],
   "source": [
    "# Now that the colums have names, they can be referenced by either name or number, just like the rows before\n",
    "neighborhoods.columns.get_level_values(0)\n",
    "neighborhoods.columns.get_level_values(\"Category\")"
   ]
  },
  {
   "cell_type": "code",
   "execution_count": 29,
   "id": "07cdb420",
   "metadata": {},
   "outputs": [
    {
     "data": {
      "text/html": [
       "<div>\n",
       "<style scoped>\n",
       "    .dataframe tbody tr th:only-of-type {\n",
       "        vertical-align: middle;\n",
       "    }\n",
       "\n",
       "    .dataframe tbody tr th {\n",
       "        vertical-align: top;\n",
       "    }\n",
       "\n",
       "    .dataframe thead tr th {\n",
       "        text-align: left;\n",
       "    }\n",
       "\n",
       "    .dataframe thead tr:last-of-type th {\n",
       "        text-align: right;\n",
       "    }\n",
       "</style>\n",
       "<table border=\"1\" class=\"dataframe\">\n",
       "  <thead>\n",
       "    <tr>\n",
       "      <th></th>\n",
       "      <th></th>\n",
       "      <th>Category</th>\n",
       "      <th colspan=\"2\" halign=\"left\">Culture</th>\n",
       "      <th colspan=\"2\" halign=\"left\">Services</th>\n",
       "    </tr>\n",
       "    <tr>\n",
       "      <th></th>\n",
       "      <th></th>\n",
       "      <th>Subcategory</th>\n",
       "      <th>Restaurants</th>\n",
       "      <th>Museums</th>\n",
       "      <th>Police</th>\n",
       "      <th>Schools</th>\n",
       "    </tr>\n",
       "    <tr>\n",
       "      <th>State</th>\n",
       "      <th>City</th>\n",
       "      <th>Street</th>\n",
       "      <th></th>\n",
       "      <th></th>\n",
       "      <th></th>\n",
       "      <th></th>\n",
       "    </tr>\n",
       "  </thead>\n",
       "  <tbody>\n",
       "    <tr>\n",
       "      <th>MO</th>\n",
       "      <th>Fisherborough</th>\n",
       "      <th>244 Tracy View</th>\n",
       "      <td>C+</td>\n",
       "      <td>F</td>\n",
       "      <td>D-</td>\n",
       "      <td>A+</td>\n",
       "    </tr>\n",
       "  </tbody>\n",
       "</table>\n",
       "</div>"
      ],
      "text/plain": [
       "Category                               Culture         Services        \n",
       "Subcategory                        Restaurants Museums   Police Schools\n",
       "State City          Street                                             \n",
       "MO    Fisherborough 244 Tracy View          C+       F       D-      A+"
      ]
     },
     "execution_count": 29,
     "metadata": {},
     "output_type": "execute_result"
    }
   ],
   "source": [
    "neighborhoods.head(1)"
   ]
  },
  {
   "cell_type": "code",
   "execution_count": 30,
   "id": "a9be5008",
   "metadata": {},
   "outputs": [
    {
     "data": {
      "text/plain": [
       "Category  Subcategory\n",
       "Culture   Restaurants    13\n",
       "          Museums        13\n",
       "Services  Police         13\n",
       "          Schools        13\n",
       "dtype: int64"
      ]
     },
     "execution_count": 30,
     "metadata": {},
     "output_type": "execute_result"
    }
   ],
   "source": [
    "neighborhoods.nunique()"
   ]
  },
  {
   "cell_type": "code",
   "execution_count": null,
   "id": "10f684ce",
   "metadata": {},
   "outputs": [],
   "source": []
  }
 ],
 "metadata": {
  "kernelspec": {
   "display_name": "Python 3 (ipykernel)",
   "language": "python",
   "name": "python3"
  },
  "language_info": {
   "codemirror_mode": {
    "name": "ipython",
    "version": 3
   },
   "file_extension": ".py",
   "mimetype": "text/x-python",
   "name": "python",
   "nbconvert_exporter": "python",
   "pygments_lexer": "ipython3",
   "version": "3.9.12"
  }
 },
 "nbformat": 4,
 "nbformat_minor": 5
}

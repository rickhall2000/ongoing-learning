{
 "cells": [
  {
   "cell_type": "code",
   "execution_count": 1,
   "id": "4625df28",
   "metadata": {},
   "outputs": [],
   "source": [
    "import numpy as np"
   ]
  },
  {
   "cell_type": "markdown",
   "id": "0f32eea0",
   "metadata": {},
   "source": [
    "## Introducing Strides"
   ]
  },
  {
   "cell_type": "code",
   "execution_count": 2,
   "id": "03d8c4d3",
   "metadata": {},
   "outputs": [
    {
     "data": {
      "text/plain": [
       "array([0, 1, 2, 3, 4, 5, 6, 7], dtype=int8)"
      ]
     },
     "execution_count": 2,
     "metadata": {},
     "output_type": "execute_result"
    }
   ],
   "source": [
    "x = np.arange(8, dtype = np.int8)\n",
    "x"
   ]
  },
  {
   "cell_type": "code",
   "execution_count": 3,
   "id": "837b8dbe",
   "metadata": {},
   "outputs": [
    {
     "data": {
      "text/plain": [
       "(1,)"
      ]
     },
     "execution_count": 3,
     "metadata": {},
     "output_type": "execute_result"
    }
   ],
   "source": [
    "x.strides"
   ]
  },
  {
   "cell_type": "code",
   "execution_count": 7,
   "id": "ba10a678",
   "metadata": {},
   "outputs": [
    {
     "data": {
      "text/plain": [
       "'<memory at 0x7fc38a9c4880>'"
      ]
     },
     "execution_count": 7,
     "metadata": {},
     "output_type": "execute_result"
    }
   ],
   "source": [
    "str(x.data)"
   ]
  },
  {
   "cell_type": "code",
   "execution_count": 8,
   "id": "cce3889a",
   "metadata": {},
   "outputs": [
    {
     "data": {
      "text/plain": [
       "array([[0, 1, 2, 3],\n",
       "       [4, 5, 6, 7]], dtype=int8)"
      ]
     },
     "execution_count": 8,
     "metadata": {},
     "output_type": "execute_result"
    }
   ],
   "source": [
    "x.shape = 2,4\n",
    "x"
   ]
  },
  {
   "cell_type": "code",
   "execution_count": 9,
   "id": "379b8bed",
   "metadata": {},
   "outputs": [
    {
     "data": {
      "text/plain": [
       "(4, 1)"
      ]
     },
     "execution_count": 9,
     "metadata": {},
     "output_type": "execute_result"
    }
   ],
   "source": [
    "x.strides"
   ]
  },
  {
   "cell_type": "code",
   "execution_count": 11,
   "id": "034e749e",
   "metadata": {},
   "outputs": [
    {
     "data": {
      "text/plain": [
       "(8, 2, 1)"
      ]
     },
     "execution_count": 11,
     "metadata": {},
     "output_type": "execute_result"
    }
   ],
   "source": [
    "x.shape = 1,4,2\n",
    "x.strides"
   ]
  },
  {
   "cell_type": "code",
   "execution_count": 13,
   "id": "bd5f89d5",
   "metadata": {},
   "outputs": [
    {
     "data": {
      "text/plain": [
       "((10000,), (10000,))"
      ]
     },
     "execution_count": 13,
     "metadata": {},
     "output_type": "execute_result"
    }
   ],
   "source": [
    "x = np.ones((10000,))\n",
    "y = np.ones((10000 * 100,))[::100]\n",
    "x.shape, y.shape"
   ]
  },
  {
   "cell_type": "code",
   "execution_count": 14,
   "id": "13dc048e",
   "metadata": {},
   "outputs": [
    {
     "data": {
      "text/plain": [
       "array([ True,  True,  True, ...,  True,  True,  True])"
      ]
     },
     "execution_count": 14,
     "metadata": {},
     "output_type": "execute_result"
    }
   ],
   "source": [
    "x == y"
   ]
  },
  {
   "cell_type": "code",
   "execution_count": 15,
   "id": "e78babcd",
   "metadata": {},
   "outputs": [
    {
     "data": {
      "text/plain": [
       "  C_CONTIGUOUS : True\n",
       "  F_CONTIGUOUS : True\n",
       "  OWNDATA : True\n",
       "  WRITEABLE : True\n",
       "  ALIGNED : True\n",
       "  WRITEBACKIFCOPY : False\n",
       "  UPDATEIFCOPY : False"
      ]
     },
     "execution_count": 15,
     "metadata": {},
     "output_type": "execute_result"
    }
   ],
   "source": [
    "x.flags"
   ]
  },
  {
   "cell_type": "code",
   "execution_count": 16,
   "id": "4a27b6eb",
   "metadata": {},
   "outputs": [
    {
     "data": {
      "text/plain": [
       "  C_CONTIGUOUS : False\n",
       "  F_CONTIGUOUS : False\n",
       "  OWNDATA : False\n",
       "  WRITEABLE : True\n",
       "  ALIGNED : True\n",
       "  WRITEBACKIFCOPY : False\n",
       "  UPDATEIFCOPY : False"
      ]
     },
     "execution_count": 16,
     "metadata": {},
     "output_type": "execute_result"
    }
   ],
   "source": [
    "y.flags"
   ]
  },
  {
   "cell_type": "code",
   "execution_count": 17,
   "id": "7d9c5ae8",
   "metadata": {},
   "outputs": [
    {
     "data": {
      "text/plain": [
       "((8,), (800,))"
      ]
     },
     "execution_count": 17,
     "metadata": {},
     "output_type": "execute_result"
    }
   ],
   "source": [
    "x.strides, y.strides"
   ]
  },
  {
   "cell_type": "code",
   "execution_count": 18,
   "id": "104cb220",
   "metadata": {},
   "outputs": [
    {
     "name": "stdout",
     "output_type": "stream",
     "text": [
      "6.37 µs ± 66.9 ns per loop (mean ± std. dev. of 7 runs, 100,000 loops each)\n"
     ]
    }
   ],
   "source": [
    "%timeit x.sum()"
   ]
  },
  {
   "cell_type": "code",
   "execution_count": 19,
   "id": "d28f3dd7",
   "metadata": {},
   "outputs": [
    {
     "name": "stdout",
     "output_type": "stream",
     "text": [
      "24.8 µs ± 1.07 µs per loop (mean ± std. dev. of 7 runs, 10,000 loops each)\n"
     ]
    }
   ],
   "source": [
    "%timeit y.sum()"
   ]
  },
  {
   "cell_type": "markdown",
   "id": "eacfa30a",
   "metadata": {},
   "source": [
    "## Structured arrays"
   ]
  },
  {
   "cell_type": "code",
   "execution_count": 20,
   "id": "06a3f3be",
   "metadata": {},
   "outputs": [
    {
     "data": {
      "text/plain": [
       "array([( 1,  0.5, b'NumPy'), (10, -0.5, b'Essential')],\n",
       "      dtype=[('f0', '<i4'), ('f1', '<f4'), ('f2', 'S10')])"
      ]
     },
     "execution_count": 20,
     "metadata": {},
     "output_type": "execute_result"
    }
   ],
   "source": [
    "x = np.empty((2,), dtype = ('i4,f4,a10'))\n",
    "x[:] = [(1,0.5, 'NumPy'), (10,-0.5, 'Essential')]\n",
    "x"
   ]
  },
  {
   "cell_type": "code",
   "execution_count": 21,
   "id": "339e4b65",
   "metadata": {},
   "outputs": [
    {
     "data": {
      "text/plain": [
       "(1, 0.5, b'NumPy')"
      ]
     },
     "execution_count": 21,
     "metadata": {},
     "output_type": "execute_result"
    }
   ],
   "source": [
    "x[0]"
   ]
  },
  {
   "cell_type": "code",
   "execution_count": 22,
   "id": "819d9143",
   "metadata": {},
   "outputs": [
    {
     "data": {
      "text/plain": [
       "array([b'NumPy', b'Essential'], dtype='|S10')"
      ]
     },
     "execution_count": 22,
     "metadata": {},
     "output_type": "execute_result"
    }
   ],
   "source": [
    "x['f2']"
   ]
  },
  {
   "cell_type": "code",
   "execution_count": 23,
   "id": "654a03cf",
   "metadata": {},
   "outputs": [
    {
     "data": {
      "text/plain": [
       "array([ 1, 10], dtype=int32)"
      ]
     },
     "execution_count": 23,
     "metadata": {},
     "output_type": "execute_result"
    }
   ],
   "source": [
    "y = x['f0']\n",
    "y"
   ]
  },
  {
   "cell_type": "code",
   "execution_count": 24,
   "id": "f7b4b8a4",
   "metadata": {},
   "outputs": [
    {
     "data": {
      "text/plain": [
       "array([ 10, 100], dtype=int32)"
      ]
     },
     "execution_count": 24,
     "metadata": {},
     "output_type": "execute_result"
    }
   ],
   "source": [
    "y[:] = y * 10\n",
    "y"
   ]
  },
  {
   "cell_type": "code",
   "execution_count": 25,
   "id": "87985314",
   "metadata": {},
   "outputs": [
    {
     "data": {
      "text/plain": [
       "array([ 10, 100], dtype=int32)"
      ]
     },
     "execution_count": 25,
     "metadata": {},
     "output_type": "execute_result"
    }
   ],
   "source": [
    "y[:] = y + 0.5\n",
    "y"
   ]
  },
  {
   "cell_type": "code",
   "execution_count": 26,
   "id": "3039ea38",
   "metadata": {},
   "outputs": [
    {
     "data": {
      "text/plain": [
       "array([( 10,  0.5, b'NumPy'), (100, -0.5, b'Essential')],\n",
       "      dtype=[('f0', '<i4'), ('f1', '<f4'), ('f2', 'S10')])"
      ]
     },
     "execution_count": 26,
     "metadata": {},
     "output_type": "execute_result"
    }
   ],
   "source": [
    "x"
   ]
  },
  {
   "cell_type": "code",
   "execution_count": 27,
   "id": "ef7470b6",
   "metadata": {},
   "outputs": [
    {
     "data": {
      "text/plain": [
       "array([([1, 1, 1], [[1., 1., 1.], [1., 1., 1.]]),\n",
       "       ([1, 1, 1], [[1., 1., 1.], [1., 1., 1.]])],\n",
       "      dtype=[('f0', '<i4', (3,)), ('f1', '<f4', (2, 3))])"
      ]
     },
     "execution_count": 27,
     "metadata": {},
     "output_type": "execute_result"
    }
   ],
   "source": [
    "z = np.ones((2,), dtype=('3i4, (2,3)f4'))\n",
    "z"
   ]
  },
  {
   "cell_type": "code",
   "execution_count": 28,
   "id": "63398b43",
   "metadata": {},
   "outputs": [
    {
     "data": {
      "text/plain": [
       "('f0', 'f1', 'f2')"
      ]
     },
     "execution_count": 28,
     "metadata": {},
     "output_type": "execute_result"
    }
   ],
   "source": [
    "x.dtype.names"
   ]
  },
  {
   "cell_type": "code",
   "execution_count": 29,
   "id": "6bc28f0d",
   "metadata": {},
   "outputs": [
    {
     "data": {
      "text/plain": [
       "array([( 10,  0.5, b'NumPy'), (100, -0.5, b'Essential')],\n",
       "      dtype=[('id', '<i4'), ('value', '<f4'), ('note', 'S10')])"
      ]
     },
     "execution_count": 29,
     "metadata": {},
     "output_type": "execute_result"
    }
   ],
   "source": [
    "x.dtype.names = ('id', 'value', 'note')\n",
    "x"
   ]
  },
  {
   "cell_type": "code",
   "execution_count": 31,
   "id": "56705a05",
   "metadata": {},
   "outputs": [
    {
     "data": {
      "text/plain": [
       "array([(0, [0., 0.]), (0, [0., 0.])],\n",
       "      dtype=[('id', '<i4'), ('value', '<f4', (2,))])"
      ]
     },
     "execution_count": 31,
     "metadata": {},
     "output_type": "execute_result"
    }
   ],
   "source": [
    "list_ex = np.zeros((2,), dtype = [('id', 'i4'), ('value', 'f4', (2,))])\n",
    "list_ex"
   ]
  },
  {
   "cell_type": "code",
   "execution_count": 32,
   "id": "a87fc125",
   "metadata": {},
   "outputs": [
    {
     "data": {
      "text/plain": [
       "array([(0, [0., 0.]), (0, [0., 0.])],\n",
       "      dtype=[('id', '<i4'), ('value', '<f4', (2,))])"
      ]
     },
     "execution_count": 32,
     "metadata": {},
     "output_type": "execute_result"
    }
   ],
   "source": [
    "dict_ex = np.zeros((2,), dtype = {'names':['id', 'value'], 'formats': ['i4', '2f4']})\n",
    "dict_ex"
   ]
  },
  {
   "cell_type": "code",
   "execution_count": 33,
   "id": "a0d08162",
   "metadata": {},
   "outputs": [
    {
     "data": {
      "text/plain": [
       "array([( 10, b'NumPy'), (100, b'Essential')],\n",
       "      dtype={'names':['id','note'], 'formats':['<i4','S10'], 'offsets':[0,8], 'itemsize':18})"
      ]
     },
     "execution_count": 33,
     "metadata": {},
     "output_type": "execute_result"
    }
   ],
   "source": [
    "x[['id', 'note']]"
   ]
  },
  {
   "cell_type": "markdown",
   "id": "cb3e0f59",
   "metadata": {},
   "source": [
    "### Dates and time in NumPy"
   ]
  },
  {
   "cell_type": "code",
   "execution_count": null,
   "id": "8e191ee9",
   "metadata": {},
   "outputs": [],
   "source": []
  }
 ],
 "metadata": {
  "kernelspec": {
   "display_name": "Python 3 (ipykernel)",
   "language": "python",
   "name": "python3"
  },
  "language_info": {
   "codemirror_mode": {
    "name": "ipython",
    "version": 3
   },
   "file_extension": ".py",
   "mimetype": "text/x-python",
   "name": "python",
   "nbconvert_exporter": "python",
   "pygments_lexer": "ipython3",
   "version": "3.9.12"
  }
 },
 "nbformat": 4,
 "nbformat_minor": 5
}

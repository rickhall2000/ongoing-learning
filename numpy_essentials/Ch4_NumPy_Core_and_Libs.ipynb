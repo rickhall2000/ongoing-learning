{
 "cells": [
  {
   "cell_type": "code",
   "execution_count": 1,
   "id": "4625df28",
   "metadata": {},
   "outputs": [],
   "source": [
    "import numpy as np"
   ]
  },
  {
   "cell_type": "markdown",
   "id": "0f32eea0",
   "metadata": {},
   "source": [
    "## Introducing Strides"
   ]
  },
  {
   "cell_type": "code",
   "execution_count": 2,
   "id": "03d8c4d3",
   "metadata": {},
   "outputs": [
    {
     "data": {
      "text/plain": [
       "array([0, 1, 2, 3, 4, 5, 6, 7], dtype=int8)"
      ]
     },
     "execution_count": 2,
     "metadata": {},
     "output_type": "execute_result"
    }
   ],
   "source": [
    "x = np.arange(8, dtype = np.int8)\n",
    "x"
   ]
  },
  {
   "cell_type": "code",
   "execution_count": 3,
   "id": "837b8dbe",
   "metadata": {},
   "outputs": [
    {
     "data": {
      "text/plain": [
       "(1,)"
      ]
     },
     "execution_count": 3,
     "metadata": {},
     "output_type": "execute_result"
    }
   ],
   "source": [
    "x.strides"
   ]
  },
  {
   "cell_type": "code",
   "execution_count": 4,
   "id": "ba10a678",
   "metadata": {},
   "outputs": [
    {
     "data": {
      "text/plain": [
       "'<memory at 0x7fd131e64100>'"
      ]
     },
     "execution_count": 4,
     "metadata": {},
     "output_type": "execute_result"
    }
   ],
   "source": [
    "str(x.data)"
   ]
  },
  {
   "cell_type": "code",
   "execution_count": 5,
   "id": "cce3889a",
   "metadata": {},
   "outputs": [
    {
     "data": {
      "text/plain": [
       "array([[0, 1, 2, 3],\n",
       "       [4, 5, 6, 7]], dtype=int8)"
      ]
     },
     "execution_count": 5,
     "metadata": {},
     "output_type": "execute_result"
    }
   ],
   "source": [
    "x.shape = 2,4\n",
    "x"
   ]
  },
  {
   "cell_type": "code",
   "execution_count": 6,
   "id": "379b8bed",
   "metadata": {},
   "outputs": [
    {
     "data": {
      "text/plain": [
       "(4, 1)"
      ]
     },
     "execution_count": 6,
     "metadata": {},
     "output_type": "execute_result"
    }
   ],
   "source": [
    "x.strides"
   ]
  },
  {
   "cell_type": "code",
   "execution_count": 7,
   "id": "034e749e",
   "metadata": {},
   "outputs": [
    {
     "data": {
      "text/plain": [
       "(8, 2, 1)"
      ]
     },
     "execution_count": 7,
     "metadata": {},
     "output_type": "execute_result"
    }
   ],
   "source": [
    "x.shape = 1,4,2\n",
    "x.strides"
   ]
  },
  {
   "cell_type": "code",
   "execution_count": 8,
   "id": "bd5f89d5",
   "metadata": {},
   "outputs": [
    {
     "data": {
      "text/plain": [
       "((10000,), (10000,))"
      ]
     },
     "execution_count": 8,
     "metadata": {},
     "output_type": "execute_result"
    }
   ],
   "source": [
    "x = np.ones((10000,))\n",
    "y = np.ones((10000 * 100,))[::100]\n",
    "x.shape, y.shape"
   ]
  },
  {
   "cell_type": "code",
   "execution_count": 9,
   "id": "13dc048e",
   "metadata": {},
   "outputs": [
    {
     "data": {
      "text/plain": [
       "array([ True,  True,  True, ...,  True,  True,  True])"
      ]
     },
     "execution_count": 9,
     "metadata": {},
     "output_type": "execute_result"
    }
   ],
   "source": [
    "x == y"
   ]
  },
  {
   "cell_type": "code",
   "execution_count": 10,
   "id": "e78babcd",
   "metadata": {},
   "outputs": [
    {
     "data": {
      "text/plain": [
       "  C_CONTIGUOUS : True\n",
       "  F_CONTIGUOUS : True\n",
       "  OWNDATA : True\n",
       "  WRITEABLE : True\n",
       "  ALIGNED : True\n",
       "  WRITEBACKIFCOPY : False\n",
       "  UPDATEIFCOPY : False"
      ]
     },
     "execution_count": 10,
     "metadata": {},
     "output_type": "execute_result"
    }
   ],
   "source": [
    "x.flags"
   ]
  },
  {
   "cell_type": "code",
   "execution_count": 11,
   "id": "4a27b6eb",
   "metadata": {},
   "outputs": [
    {
     "data": {
      "text/plain": [
       "  C_CONTIGUOUS : False\n",
       "  F_CONTIGUOUS : False\n",
       "  OWNDATA : False\n",
       "  WRITEABLE : True\n",
       "  ALIGNED : True\n",
       "  WRITEBACKIFCOPY : False\n",
       "  UPDATEIFCOPY : False"
      ]
     },
     "execution_count": 11,
     "metadata": {},
     "output_type": "execute_result"
    }
   ],
   "source": [
    "y.flags"
   ]
  },
  {
   "cell_type": "code",
   "execution_count": 12,
   "id": "7d9c5ae8",
   "metadata": {},
   "outputs": [
    {
     "data": {
      "text/plain": [
       "((8,), (800,))"
      ]
     },
     "execution_count": 12,
     "metadata": {},
     "output_type": "execute_result"
    }
   ],
   "source": [
    "x.strides, y.strides"
   ]
  },
  {
   "cell_type": "code",
   "execution_count": 13,
   "id": "104cb220",
   "metadata": {},
   "outputs": [
    {
     "name": "stdout",
     "output_type": "stream",
     "text": [
      "6.02 µs ± 106 ns per loop (mean ± std. dev. of 7 runs, 100,000 loops each)\n"
     ]
    }
   ],
   "source": [
    "%timeit x.sum()"
   ]
  },
  {
   "cell_type": "code",
   "execution_count": 14,
   "id": "d28f3dd7",
   "metadata": {},
   "outputs": [
    {
     "name": "stdout",
     "output_type": "stream",
     "text": [
      "23.4 µs ± 334 ns per loop (mean ± std. dev. of 7 runs, 10,000 loops each)\n"
     ]
    }
   ],
   "source": [
    "%timeit y.sum()"
   ]
  },
  {
   "cell_type": "markdown",
   "id": "eacfa30a",
   "metadata": {},
   "source": [
    "## Structured arrays"
   ]
  },
  {
   "cell_type": "code",
   "execution_count": 15,
   "id": "06a3f3be",
   "metadata": {},
   "outputs": [
    {
     "data": {
      "text/plain": [
       "array([( 1,  0.5, b'NumPy'), (10, -0.5, b'Essential')],\n",
       "      dtype=[('f0', '<i4'), ('f1', '<f4'), ('f2', 'S10')])"
      ]
     },
     "execution_count": 15,
     "metadata": {},
     "output_type": "execute_result"
    }
   ],
   "source": [
    "x = np.empty((2,), dtype = ('i4,f4,a10'))\n",
    "x[:] = [(1,0.5, 'NumPy'), (10,-0.5, 'Essential')]\n",
    "x"
   ]
  },
  {
   "cell_type": "code",
   "execution_count": 16,
   "id": "339e4b65",
   "metadata": {},
   "outputs": [
    {
     "data": {
      "text/plain": [
       "(1, 0.5, b'NumPy')"
      ]
     },
     "execution_count": 16,
     "metadata": {},
     "output_type": "execute_result"
    }
   ],
   "source": [
    "x[0]"
   ]
  },
  {
   "cell_type": "code",
   "execution_count": 17,
   "id": "819d9143",
   "metadata": {},
   "outputs": [
    {
     "data": {
      "text/plain": [
       "array([b'NumPy', b'Essential'], dtype='|S10')"
      ]
     },
     "execution_count": 17,
     "metadata": {},
     "output_type": "execute_result"
    }
   ],
   "source": [
    "x['f2']"
   ]
  },
  {
   "cell_type": "code",
   "execution_count": 18,
   "id": "654a03cf",
   "metadata": {},
   "outputs": [
    {
     "data": {
      "text/plain": [
       "array([ 1, 10], dtype=int32)"
      ]
     },
     "execution_count": 18,
     "metadata": {},
     "output_type": "execute_result"
    }
   ],
   "source": [
    "y = x['f0']\n",
    "y"
   ]
  },
  {
   "cell_type": "code",
   "execution_count": 19,
   "id": "f7b4b8a4",
   "metadata": {},
   "outputs": [
    {
     "data": {
      "text/plain": [
       "array([ 10, 100], dtype=int32)"
      ]
     },
     "execution_count": 19,
     "metadata": {},
     "output_type": "execute_result"
    }
   ],
   "source": [
    "y[:] = y * 10\n",
    "y"
   ]
  },
  {
   "cell_type": "code",
   "execution_count": 20,
   "id": "87985314",
   "metadata": {},
   "outputs": [
    {
     "data": {
      "text/plain": [
       "array([ 10, 100], dtype=int32)"
      ]
     },
     "execution_count": 20,
     "metadata": {},
     "output_type": "execute_result"
    }
   ],
   "source": [
    "y[:] = y + 0.5\n",
    "y"
   ]
  },
  {
   "cell_type": "code",
   "execution_count": 21,
   "id": "3039ea38",
   "metadata": {},
   "outputs": [
    {
     "data": {
      "text/plain": [
       "array([( 10,  0.5, b'NumPy'), (100, -0.5, b'Essential')],\n",
       "      dtype=[('f0', '<i4'), ('f1', '<f4'), ('f2', 'S10')])"
      ]
     },
     "execution_count": 21,
     "metadata": {},
     "output_type": "execute_result"
    }
   ],
   "source": [
    "x"
   ]
  },
  {
   "cell_type": "code",
   "execution_count": 22,
   "id": "ef7470b6",
   "metadata": {},
   "outputs": [
    {
     "data": {
      "text/plain": [
       "array([([1, 1, 1], [[1., 1., 1.], [1., 1., 1.]]),\n",
       "       ([1, 1, 1], [[1., 1., 1.], [1., 1., 1.]])],\n",
       "      dtype=[('f0', '<i4', (3,)), ('f1', '<f4', (2, 3))])"
      ]
     },
     "execution_count": 22,
     "metadata": {},
     "output_type": "execute_result"
    }
   ],
   "source": [
    "z = np.ones((2,), dtype=('3i4, (2,3)f4'))\n",
    "z"
   ]
  },
  {
   "cell_type": "code",
   "execution_count": 23,
   "id": "63398b43",
   "metadata": {},
   "outputs": [
    {
     "data": {
      "text/plain": [
       "('f0', 'f1', 'f2')"
      ]
     },
     "execution_count": 23,
     "metadata": {},
     "output_type": "execute_result"
    }
   ],
   "source": [
    "x.dtype.names"
   ]
  },
  {
   "cell_type": "code",
   "execution_count": 24,
   "id": "6bc28f0d",
   "metadata": {},
   "outputs": [
    {
     "data": {
      "text/plain": [
       "array([( 10,  0.5, b'NumPy'), (100, -0.5, b'Essential')],\n",
       "      dtype=[('id', '<i4'), ('value', '<f4'), ('note', 'S10')])"
      ]
     },
     "execution_count": 24,
     "metadata": {},
     "output_type": "execute_result"
    }
   ],
   "source": [
    "x.dtype.names = ('id', 'value', 'note')\n",
    "x"
   ]
  },
  {
   "cell_type": "code",
   "execution_count": 25,
   "id": "56705a05",
   "metadata": {},
   "outputs": [
    {
     "data": {
      "text/plain": [
       "array([(0, [0., 0.]), (0, [0., 0.])],\n",
       "      dtype=[('id', '<i4'), ('value', '<f4', (2,))])"
      ]
     },
     "execution_count": 25,
     "metadata": {},
     "output_type": "execute_result"
    }
   ],
   "source": [
    "list_ex = np.zeros((2,), dtype = [('id', 'i4'), ('value', 'f4', (2,))])\n",
    "list_ex"
   ]
  },
  {
   "cell_type": "code",
   "execution_count": 26,
   "id": "a87fc125",
   "metadata": {},
   "outputs": [
    {
     "data": {
      "text/plain": [
       "array([(0, [0., 0.]), (0, [0., 0.])],\n",
       "      dtype=[('id', '<i4'), ('value', '<f4', (2,))])"
      ]
     },
     "execution_count": 26,
     "metadata": {},
     "output_type": "execute_result"
    }
   ],
   "source": [
    "dict_ex = np.zeros((2,), dtype = {'names':['id', 'value'], 'formats': ['i4', '2f4']})\n",
    "dict_ex"
   ]
  },
  {
   "cell_type": "code",
   "execution_count": 27,
   "id": "a0d08162",
   "metadata": {},
   "outputs": [
    {
     "data": {
      "text/plain": [
       "array([( 10, b'NumPy'), (100, b'Essential')],\n",
       "      dtype={'names':['id','note'], 'formats':['<i4','S10'], 'offsets':[0,8], 'itemsize':18})"
      ]
     },
     "execution_count": 27,
     "metadata": {},
     "output_type": "execute_result"
    }
   ],
   "source": [
    "x[['id', 'note']]"
   ]
  },
  {
   "cell_type": "markdown",
   "id": "cb3e0f59",
   "metadata": {},
   "source": [
    "### Dates and time in NumPy"
   ]
  },
  {
   "cell_type": "code",
   "execution_count": 28,
   "id": "8e191ee9",
   "metadata": {},
   "outputs": [
    {
     "data": {
      "text/plain": [
       "(dtype('<M8[D]'), dtype('<M8[M]'))"
      ]
     },
     "execution_count": 28,
     "metadata": {},
     "output_type": "execute_result"
    }
   ],
   "source": [
    "x = np.datetime64('2015-04-01')\n",
    "y = np.datetime64('2015-04')\n",
    "x.dtype, y.dtype"
   ]
  },
  {
   "cell_type": "code",
   "execution_count": 29,
   "id": "eba23f37",
   "metadata": {},
   "outputs": [
    {
     "data": {
      "text/plain": [
       "(numpy.datetime64('2015-04-01'), dtype('<M8[D]'))"
      ]
     },
     "execution_count": 29,
     "metadata": {},
     "output_type": "execute_result"
    }
   ],
   "source": [
    "y = np.datetime64('2015-04', 'D')\n",
    "y, y.dtype"
   ]
  },
  {
   "cell_type": "code",
   "execution_count": 30,
   "id": "0fb5744c",
   "metadata": {},
   "outputs": [
    {
     "data": {
      "text/plain": [
       "array(['2015-01', '2015-02', '2015-03'], dtype='datetime64[M]')"
      ]
     },
     "execution_count": 30,
     "metadata": {},
     "output_type": "execute_result"
    }
   ],
   "source": [
    "x = np.arange('2015-01', '2015-04', dtype = 'datetime64[M]')\n",
    "x"
   ]
  },
  {
   "cell_type": "code",
   "execution_count": 31,
   "id": "01636229",
   "metadata": {},
   "outputs": [
    {
     "data": {
      "text/plain": [
       "array([ 0, 31, 59], dtype='timedelta64[D]')"
      ]
     },
     "execution_count": 31,
     "metadata": {},
     "output_type": "execute_result"
    }
   ],
   "source": [
    "y = np.datetime64('2015-01-01')\n",
    "x - y"
   ]
  },
  {
   "cell_type": "code",
   "execution_count": 33,
   "id": "6fa038ba",
   "metadata": {},
   "outputs": [
    {
     "data": {
      "text/plain": [
       "numpy.datetime64('2016-01')"
      ]
     },
     "execution_count": 33,
     "metadata": {},
     "output_type": "execute_result"
    }
   ],
   "source": [
    "np.datetime64('2015') + np.timedelta64(12, 'M')"
   ]
  },
  {
   "cell_type": "code",
   "execution_count": 34,
   "id": "cb5b1385",
   "metadata": {},
   "outputs": [
    {
     "data": {
      "text/plain": [
       "7.0"
      ]
     },
     "execution_count": 34,
     "metadata": {},
     "output_type": "execute_result"
    }
   ],
   "source": [
    "np.timedelta64(1, 'W') / np.timedelta64(1, 'D')"
   ]
  },
  {
   "cell_type": "code",
   "execution_count": 35,
   "id": "67d1ff4d",
   "metadata": {},
   "outputs": [
    {
     "data": {
      "text/plain": [
       "array(['2015-01', '2015-02', '2015-03'], dtype='datetime64[M]')"
      ]
     },
     "execution_count": 35,
     "metadata": {},
     "output_type": "execute_result"
    }
   ],
   "source": [
    "x"
   ]
  },
  {
   "cell_type": "code",
   "execution_count": 36,
   "id": "344081e3",
   "metadata": {},
   "outputs": [
    {
     "data": {
      "text/plain": [
       "[datetime.date(2015, 1, 1),\n",
       " datetime.date(2015, 2, 1),\n",
       " datetime.date(2015, 3, 1)]"
      ]
     },
     "execution_count": 36,
     "metadata": {},
     "output_type": "execute_result"
    }
   ],
   "source": [
    "x.tolist()"
   ]
  },
  {
   "cell_type": "code",
   "execution_count": 37,
   "id": "3249a303",
   "metadata": {},
   "outputs": [
    {
     "data": {
      "text/plain": [
       "[datetime.date(2015, 1, 1),\n",
       " datetime.date(2015, 2, 1),\n",
       " datetime.date(2015, 3, 1)]"
      ]
     },
     "execution_count": 37,
     "metadata": {},
     "output_type": "execute_result"
    }
   ],
   "source": [
    "[element.item() for element in x]"
   ]
  },
  {
   "cell_type": "markdown",
   "id": "3887e26f",
   "metadata": {},
   "source": [
    "### File I/O and NumPy"
   ]
  },
  {
   "cell_type": "code",
   "execution_count": 40,
   "id": "548c1ccd",
   "metadata": {},
   "outputs": [
    {
     "name": "stderr",
     "output_type": "stream",
     "text": [
      "/var/folders/c1/2ltzp02n15z_6jjqlpm151gc0000gn/T/ipykernel_21039/17749339.py:3: DeprecationWarning: This function is deprecated. Please call randint(0, 365 + 1) instead\n",
      "  day = np.random.random_integers(0, 365, 1000) * np.timedelta64(1, 'D')\n"
     ]
    },
    {
     "data": {
      "text/plain": [
       "rec.array([(0, 0.5592625 , b'2014-05-13'), (1, 0.72924864, b'2014-11-26'),\n",
       "           (2, 0.5727561 , b'2014-09-03'), (3, 0.30992693, b'2014-04-22'),\n",
       "           (4, 0.08592469, b'2014-03-11')],\n",
       "          dtype=[('id', '<i4'), ('value', '<f4'), ('date', 'S10')])"
      ]
     },
     "execution_count": 40,
     "metadata": {},
     "output_type": "execute_result"
    }
   ],
   "source": [
    "id = np.arange(1000)\n",
    "value = np.random.random(1000)\n",
    "day = np.random.random_integers(0, 365, 1000) * np.timedelta64(1, 'D')\n",
    "date = np.datetime64('2014-01-01') + day\n",
    "rec_array = np.core.records.fromarrays([id, value, date], names='id, value, date', formats='i4, f4, a10')\n",
    "rec_array[:5]"
   ]
  },
  {
   "cell_type": "code",
   "execution_count": 43,
   "id": "0d1ec174",
   "metadata": {},
   "outputs": [],
   "source": [
    "np.savetxt('./record.csv', rec_array, fmt='%i,%.4f,%s')"
   ]
  },
  {
   "cell_type": "code",
   "execution_count": 48,
   "id": "1e96964f",
   "metadata": {},
   "outputs": [
    {
     "data": {
      "text/plain": [
       "array([(0, 0.5593, b\"b'2014-05-\"), (1, 0.7292, b\"b'2014-11-\"),\n",
       "       (2, 0.5728, b\"b'2014-09-\"), (3, 0.3099, b\"b'2014-04-\"),\n",
       "       (4, 0.0859, b\"b'2014-03-\")],\n",
       "      dtype=[('f0', '<i4'), ('f1', '<f4'), ('f2', 'S10')])"
      ]
     },
     "execution_count": 48,
     "metadata": {},
     "output_type": "execute_result"
    }
   ],
   "source": [
    "read_array = np.genfromtxt('./record.csv', dtype='i4,f4,a10', delimiter=',', skip_header=0)\n",
    "read_array[:5]"
   ]
  },
  {
   "cell_type": "code",
   "execution_count": 49,
   "id": "802a728d",
   "metadata": {},
   "outputs": [
    {
     "data": {
      "text/plain": [
       "masked_array(data=[(0, 0.5593000054359436, b\"b'2014-05-\", 1),\n",
       "                   (1, 0.729200005531311, b\"b'2014-11-\", 1),\n",
       "                   (2, 0.5727999806404114, b\"b'2014-09-\", 1),\n",
       "                   (3, 0.3098999857902527, b\"b'2014-04-\", 0),\n",
       "                   (4, 0.08590000122785568, b\"b'2014-03-\", 0)],\n",
       "             mask=[(False, False, False, False),\n",
       "                   (False, False, False, False),\n",
       "                   (False, False, False, False),\n",
       "                   (False, False, False, False),\n",
       "                   (False, False, False, False)],\n",
       "       fill_value=(999999, 1.e+20, b'N/A', 63),\n",
       "            dtype=[('id', '<i4'), ('value', '<f4'), ('date', 'S10'), ('mask', 'i1')])"
      ]
     },
     "execution_count": 49,
     "metadata": {},
     "output_type": "execute_result"
    }
   ],
   "source": [
    "read_array.dtype.names = ('id', 'value', 'date')\n",
    "mask = read_array['value'] >= 0.5\n",
    "from numpy.lib.recfunctions import append_fields\n",
    "read_array = append_fields(read_array, 'mask', data=mask, dtypes='i1')\n",
    "read_array[:5]"
   ]
  },
  {
   "cell_type": "code",
   "execution_count": null,
   "id": "ff8625cf",
   "metadata": {},
   "outputs": [],
   "source": []
  }
 ],
 "metadata": {
  "kernelspec": {
   "display_name": "Python 3 (ipykernel)",
   "language": "python",
   "name": "python3"
  },
  "language_info": {
   "codemirror_mode": {
    "name": "ipython",
    "version": 3
   },
   "file_extension": ".py",
   "mimetype": "text/x-python",
   "name": "python",
   "nbconvert_exporter": "python",
   "pygments_lexer": "ipython3",
   "version": "3.9.12"
  }
 },
 "nbformat": 4,
 "nbformat_minor": 5
}

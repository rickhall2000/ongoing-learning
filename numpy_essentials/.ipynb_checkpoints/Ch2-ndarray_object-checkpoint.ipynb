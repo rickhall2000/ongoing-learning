{
 "cells": [
  {
   "cell_type": "code",
   "execution_count": 1,
   "id": "c9abd72e",
   "metadata": {},
   "outputs": [
    {
     "name": "stdout",
     "output_type": "stream",
     "text": [
      "[[1 2 3]\n",
      " [2 3 4]]\n"
     ]
    }
   ],
   "source": [
    "import numpy as np\n",
    "x = np.array([[1,2,3],[2,3,4]])\n",
    "print(x)"
   ]
  },
  {
   "cell_type": "code",
   "execution_count": 3,
   "id": "72f12f94",
   "metadata": {},
   "outputs": [
    {
     "name": "stdout",
     "output_type": "stream",
     "text": [
      "x dimensions 2\n",
      "x shape (2, 3)\n"
     ]
    }
   ],
   "source": [
    "print(f\"x dimensions {x.ndim}\")\n",
    "print(f\"x shape {x.shape}\")"
   ]
  },
  {
   "cell_type": "code",
   "execution_count": 4,
   "id": "502eb21e",
   "metadata": {},
   "outputs": [
    {
     "data": {
      "text/plain": [
       "array([[1, 2, 3],\n",
       "       [2, 3, 4]])"
      ]
     },
     "execution_count": 4,
     "metadata": {},
     "output_type": "execute_result"
    }
   ],
   "source": [
    "x"
   ]
  },
  {
   "cell_type": "code",
   "execution_count": 5,
   "id": "158d6cc8",
   "metadata": {},
   "outputs": [
    {
     "data": {
      "text/plain": [
       "array([1, 2, 3, 2, 3, 4])"
      ]
     },
     "execution_count": 5,
     "metadata": {},
     "output_type": "execute_result"
    }
   ],
   "source": [
    "x.flatten()"
   ]
  },
  {
   "cell_type": "code",
   "execution_count": 6,
   "id": "3bedf830",
   "metadata": {},
   "outputs": [],
   "source": [
    "x = np.random.random((100, 100))"
   ]
  },
  {
   "cell_type": "code",
   "execution_count": 7,
   "id": "1aadff22",
   "metadata": {},
   "outputs": [],
   "source": [
    "y = x[42, 87]"
   ]
  },
  {
   "cell_type": "code",
   "execution_count": 9,
   "id": "d75949c9",
   "metadata": {},
   "outputs": [
    {
     "data": {
      "text/plain": [
       "  C_CONTIGUOUS : True\n",
       "  F_CONTIGUOUS : False\n",
       "  OWNDATA : True\n",
       "  WRITEABLE : True\n",
       "  ALIGNED : True\n",
       "  WRITEBACKIFCOPY : False\n",
       "  UPDATEIFCOPY : False"
      ]
     },
     "execution_count": 9,
     "metadata": {},
     "output_type": "execute_result"
    }
   ],
   "source": [
    "x.flags"
   ]
  },
  {
   "cell_type": "code",
   "execution_count": 10,
   "id": "710eb18d",
   "metadata": {},
   "outputs": [],
   "source": [
    "c_array = np.random.rand(10000, 10000)\n",
    "f_array = np.asfortranarray(c_array)"
   ]
  },
  {
   "cell_type": "code",
   "execution_count": 11,
   "id": "346feabf",
   "metadata": {},
   "outputs": [],
   "source": [
    "def sum_row(x):\n",
    "    return np.sum(x[0, :])\n",
    "def sum_col(x):\n",
    "    return np.sum(x[:, 0])"
   ]
  },
  {
   "cell_type": "code",
   "execution_count": 12,
   "id": "c1ffb4b6",
   "metadata": {},
   "outputs": [
    {
     "name": "stdout",
     "output_type": "stream",
     "text": [
      "10.9 µs ± 91.5 ns per loop (mean ± std. dev. of 7 runs, 100000 loops each)\n"
     ]
    }
   ],
   "source": [
    "%timeit sum_row(c_array)"
   ]
  },
  {
   "cell_type": "code",
   "execution_count": 13,
   "id": "0645beb1",
   "metadata": {},
   "outputs": [
    {
     "name": "stdout",
     "output_type": "stream",
     "text": [
      "171 µs ± 1.5 µs per loop (mean ± std. dev. of 7 runs, 10000 loops each)\n"
     ]
    }
   ],
   "source": [
    "%timeit sum_row(f_array)"
   ]
  },
  {
   "cell_type": "code",
   "execution_count": 14,
   "id": "ebbed22c",
   "metadata": {},
   "outputs": [
    {
     "name": "stdout",
     "output_type": "stream",
     "text": [
      "171 µs ± 2.25 µs per loop (mean ± std. dev. of 7 runs, 10000 loops each)\n"
     ]
    }
   ],
   "source": [
    "%timeit sum_col(c_array)"
   ]
  },
  {
   "cell_type": "code",
   "execution_count": 15,
   "id": "ec871973",
   "metadata": {},
   "outputs": [
    {
     "name": "stdout",
     "output_type": "stream",
     "text": [
      "11.1 µs ± 234 ns per loop (mean ± std. dev. of 7 runs, 100000 loops each)\n"
     ]
    }
   ],
   "source": [
    "%timeit sum_col(f_array)"
   ]
  },
  {
   "cell_type": "code",
   "execution_count": 18,
   "id": "70402ea9",
   "metadata": {},
   "outputs": [
    {
     "data": {
      "text/plain": [
       "True"
      ]
     },
     "execution_count": 18,
     "metadata": {},
     "output_type": "execute_result"
    }
   ],
   "source": [
    "# Generally slicing creates a view and indexing creates a copy\n",
    "x = np.random.rand(100,10)\n",
    "y = x[:5, :]\n",
    "np.may_share_memory(x, y)"
   ]
  },
  {
   "cell_type": "code",
   "execution_count": 19,
   "id": "3d21f9f6",
   "metadata": {},
   "outputs": [
    {
     "data": {
      "text/plain": [
       "False"
      ]
     },
     "execution_count": 19,
     "metadata": {},
     "output_type": "execute_result"
    }
   ],
   "source": [
    "y = np.empty([5, 10])\n",
    "y[:] = x[:5, :]\n",
    "np.may_share_memory(x,y)"
   ]
  },
  {
   "cell_type": "markdown",
   "id": "ee5e49b5",
   "metadata": {},
   "source": [
    "## Creating arrays\n",
    "\n",
    "### array function "
   ]
  },
  {
   "cell_type": "code",
   "execution_count": 21,
   "id": "a7434ec2",
   "metadata": {},
   "outputs": [],
   "source": [
    "x = np.array([1, 2, 3])\n",
    "y = np.array(['hellow', 'world'])"
   ]
  },
  {
   "cell_type": "code",
   "execution_count": 25,
   "id": "9ab1fb52",
   "metadata": {},
   "outputs": [
    {
     "name": "stdout",
     "output_type": "stream",
     "text": [
      "[0 1 2 3 4]\n",
      "[0 1 2 3 4]\n"
     ]
    }
   ],
   "source": [
    "x = range(5)\n",
    "y = np.array(x)\n",
    "z = np.arange(5)\n",
    "print(y)\n",
    "print(z)"
   ]
  },
  {
   "cell_type": "markdown",
   "id": "bc1dd2eb",
   "metadata": {},
   "source": [
    "### random arrays"
   ]
  },
  {
   "cell_type": "code",
   "execution_count": 27,
   "id": "0431ae6b",
   "metadata": {},
   "outputs": [
    {
     "name": "stdout",
     "output_type": "stream",
     "text": [
      "(2, 2, 2)\n",
      "(2, 3, 4)\n"
     ]
    }
   ],
   "source": [
    "x = np.random.rand(2,2,2)\n",
    "print(x.shape)\n",
    "\n",
    "shape_tuple = (2, 3, 4)\n",
    "y = np.random.random(shape_tuple)\n",
    "print(y.shape)"
   ]
  },
  {
   "cell_type": "code",
   "execution_count": 28,
   "id": "ad81992b",
   "metadata": {},
   "outputs": [
    {
     "name": "stdout",
     "output_type": "stream",
     "text": [
      "[1 2 1 3 9 2 9 6 2 2]\n"
     ]
    }
   ],
   "source": [
    "LOW, HIGH = 1, 11\n",
    "SIZE = 10\n",
    "x = np.random.randint(LOW, HIGH, size=SIZE)\n",
    "print(x)"
   ]
  },
  {
   "cell_type": "markdown",
   "id": "4adcfd27",
   "metadata": {},
   "source": [
    "## Array Datatypes"
   ]
  },
  {
   "cell_type": "code",
   "execution_count": 30,
   "id": "1fe5fa0c",
   "metadata": {},
   "outputs": [
    {
     "name": "stdout",
     "output_type": "stream",
     "text": [
      "int64\n",
      "float64\n"
     ]
    }
   ],
   "source": [
    "print(x.dtype)\n",
    "print(y.dtype)"
   ]
  },
  {
   "cell_type": "code",
   "execution_count": 35,
   "id": "c06558f2",
   "metadata": {},
   "outputs": [
    {
     "name": "stdout",
     "output_type": "stream",
     "text": [
      "int64\n",
      "|S1\n"
     ]
    }
   ],
   "source": [
    "x = np.ones((10, 10), dtype=int)\n",
    "print(x.dtype)\n",
    "y = np.zeros((10, 10), dtype='|S1')\n",
    "print(y.dtype)"
   ]
  },
  {
   "cell_type": "code",
   "execution_count": null,
   "id": "585d5132",
   "metadata": {},
   "outputs": [],
   "source": []
  }
 ],
 "metadata": {
  "kernelspec": {
   "display_name": "Python 3 (ipykernel)",
   "language": "python",
   "name": "python3"
  },
  "language_info": {
   "codemirror_mode": {
    "name": "ipython",
    "version": 3
   },
   "file_extension": ".py",
   "mimetype": "text/x-python",
   "name": "python",
   "nbconvert_exporter": "python",
   "pygments_lexer": "ipython3",
   "version": "3.7.3"
  }
 },
 "nbformat": 4,
 "nbformat_minor": 5
}

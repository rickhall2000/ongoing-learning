{
 "cells": [
  {
   "cell_type": "code",
   "execution_count": 1,
   "id": "464b1bd3",
   "metadata": {},
   "outputs": [],
   "source": [
    "import tensorflow as tf"
   ]
  },
  {
   "cell_type": "code",
   "execution_count": 2,
   "id": "98f7cd8e",
   "metadata": {},
   "outputs": [
    {
     "data": {
      "text/plain": [
       "True"
      ]
     },
     "execution_count": 2,
     "metadata": {},
     "output_type": "execute_result"
    }
   ],
   "source": [
    "tf.executing_eagerly()"
   ]
  },
  {
   "cell_type": "code",
   "execution_count": 3,
   "id": "078cd617",
   "metadata": {},
   "outputs": [
    {
     "name": "stderr",
     "output_type": "stream",
     "text": [
      "2022-08-29 12:34:44.119890: I tensorflow/core/platform/cpu_feature_guard.cc:193] This TensorFlow binary is optimized with oneAPI Deep Neural Network Library (oneDNN) to use the following CPU instructions in performance-critical operations:  AVX2 FMA\n",
      "To enable them in other operations, rebuild TensorFlow with the appropriate compiler flags.\n"
     ]
    },
    {
     "data": {
      "text/plain": [
       "<tf.Tensor: shape=(1, 1), dtype=float32, numpy=array([[100.]], dtype=float32)>"
      ]
     },
     "execution_count": 3,
     "metadata": {},
     "output_type": "execute_result"
    }
   ],
   "source": [
    "x = [[10.]]\n",
    "res = tf.matmul(x, x)\n",
    "res"
   ]
  },
  {
   "cell_type": "code",
   "execution_count": 4,
   "id": "4bca78e4",
   "metadata": {},
   "outputs": [
    {
     "data": {
      "text/plain": [
       "<tf.Tensor: shape=(2, 2), dtype=int32, numpy=\n",
       "array([[10, 20],\n",
       "       [30, 40]], dtype=int32)>"
      ]
     },
     "execution_count": 4,
     "metadata": {},
     "output_type": "execute_result"
    }
   ],
   "source": [
    "a = tf.constant([[10, 20],\n",
    "                [30, 40]])\n",
    "a"
   ]
  },
  {
   "cell_type": "code",
   "execution_count": 5,
   "id": "7d95621e",
   "metadata": {},
   "outputs": [
    {
     "name": "stdout",
     "output_type": "stream",
     "text": [
      "tf.Tensor(\n",
      "[[12 22]\n",
      " [32 42]], shape=(2, 2), dtype=int32)\n"
     ]
    }
   ],
   "source": [
    "b = tf.add(a, 2)\n",
    "print(b)"
   ]
  },
  {
   "cell_type": "code",
   "execution_count": 6,
   "id": "a4a25a8b",
   "metadata": {},
   "outputs": [
    {
     "name": "stdout",
     "output_type": "stream",
     "text": [
      "tf.Tensor(\n",
      "[[ 120  440]\n",
      " [ 960 1680]], shape=(2, 2), dtype=int32)\n"
     ]
    }
   ],
   "source": [
    "print(a * b)"
   ]
  },
  {
   "cell_type": "code",
   "execution_count": 7,
   "id": "56a12add",
   "metadata": {},
   "outputs": [],
   "source": [
    "m = tf.Variable([4.0, 5.0, 6.0], tf.float32, name='m')\n",
    "c = tf.Variable([1.0, 1.0, 1.0], tf.float32, name='c')"
   ]
  },
  {
   "cell_type": "code",
   "execution_count": 8,
   "id": "2faa6ef7",
   "metadata": {},
   "outputs": [
    {
     "data": {
      "text/plain": [
       "<tf.Variable 'm:0' shape=(3,) dtype=float32, numpy=array([4., 5., 6.], dtype=float32)>"
      ]
     },
     "execution_count": 8,
     "metadata": {},
     "output_type": "execute_result"
    }
   ],
   "source": [
    "m"
   ]
  },
  {
   "cell_type": "code",
   "execution_count": 9,
   "id": "88525a5e",
   "metadata": {},
   "outputs": [
    {
     "data": {
      "text/plain": [
       "<tf.Variable 'c:0' shape=(3,) dtype=float32, numpy=array([1., 1., 1.], dtype=float32)>"
      ]
     },
     "execution_count": 9,
     "metadata": {},
     "output_type": "execute_result"
    }
   ],
   "source": [
    "c"
   ]
  },
  {
   "cell_type": "code",
   "execution_count": 10,
   "id": "a217e728",
   "metadata": {},
   "outputs": [
    {
     "data": {
      "text/plain": [
       "<tf.Variable 'x:0' shape=(3,) dtype=float32, numpy=array([100., 100., 100.], dtype=float32)>"
      ]
     },
     "execution_count": 10,
     "metadata": {},
     "output_type": "execute_result"
    }
   ],
   "source": [
    "x = tf.Variable([100.0, 100.0, 100.0], tf.float32, name='x')\n",
    "x"
   ]
  },
  {
   "cell_type": "code",
   "execution_count": 11,
   "id": "927cf0c6",
   "metadata": {},
   "outputs": [
    {
     "data": {
      "text/plain": [
       "<tf.Tensor: shape=(3,), dtype=float32, numpy=array([401., 501., 601.], dtype=float32)>"
      ]
     },
     "execution_count": 11,
     "metadata": {},
     "output_type": "execute_result"
    }
   ],
   "source": [
    "y = m * x + c\n",
    "y"
   ]
  },
  {
   "cell_type": "code",
   "execution_count": 12,
   "id": "2129f29d",
   "metadata": {},
   "outputs": [],
   "source": [
    "def tensorflow(max_num):\n",
    "    counter = tf.constant(0)\n",
    "    max_num = tf.constant(max_num)\n",
    "    \n",
    "    for num in range(0, max_num.numpy() +1):\n",
    "        num = tf.constant(num)\n",
    "        \n",
    "        if int(num % 3) == 0 and int(num % 5) == 0:\n",
    "            print('Divisible by 3 and 5: ', num.numpy())\n",
    "        \n",
    "        elif int(num % 3) == 0:\n",
    "            print('Divisible by 3: ', num.numpy())\n",
    "            \n",
    "        elif int(num % 5) == 0:\n",
    "            print(\"Divisible by 5: \", num.numpy())\n",
    "        \n",
    "        else:\n",
    "            print(num.numpy())\n",
    "        \n",
    "        counter += 1"
   ]
  },
  {
   "cell_type": "code",
   "execution_count": 15,
   "id": "aa168dc0",
   "metadata": {},
   "outputs": [
    {
     "name": "stdout",
     "output_type": "stream",
     "text": [
      "Divisible by 3 and 5:  0\n",
      "1\n",
      "2\n",
      "Divisible by 3:  3\n",
      "4\n",
      "Divisible by 5:  5\n",
      "Divisible by 3:  6\n",
      "7\n",
      "8\n",
      "Divisible by 3:  9\n",
      "Divisible by 5:  10\n",
      "11\n",
      "Divisible by 3:  12\n",
      "13\n",
      "14\n",
      "Divisible by 3 and 5:  15\n",
      "16\n",
      "17\n",
      "Divisible by 3:  18\n",
      "19\n",
      "Divisible by 5:  20\n"
     ]
    }
   ],
   "source": [
    "tensorflow(20)"
   ]
  },
  {
   "cell_type": "code",
   "execution_count": null,
   "id": "aade857f",
   "metadata": {},
   "outputs": [],
   "source": []
  }
 ],
 "metadata": {
  "kernelspec": {
   "display_name": "Python 3 (ipykernel)",
   "language": "python",
   "name": "python3"
  },
  "language_info": {
   "codemirror_mode": {
    "name": "ipython",
    "version": 3
   },
   "file_extension": ".py",
   "mimetype": "text/x-python",
   "name": "python",
   "nbconvert_exporter": "python",
   "pygments_lexer": "ipython3",
   "version": "3.7.3"
  }
 },
 "nbformat": 4,
 "nbformat_minor": 5
}
